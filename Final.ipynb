{
  "nbformat": 4,
  "nbformat_minor": 0,
  "metadata": {
    "accelerator": "TPU",
    "colab": {
      "name": "Final.ipynb",
      "provenance": [],
      "collapsed_sections": [],
      "machine_shape": "hm"
    },
    "kernelspec": {
      "display_name": "Python 3",
      "language": "python",
      "name": "python3"
    },
    "language_info": {
      "codemirror_mode": {
        "name": "ipython",
        "version": 3
      },
      "file_extension": ".py",
      "mimetype": "text/x-python",
      "name": "python",
      "nbconvert_exporter": "python",
      "pygments_lexer": "ipython3",
      "version": "3.6.5"
    }
  },
  "cells": [
    {
      "cell_type": "markdown",
      "metadata": {
        "colab_type": "text",
        "id": "NcHyFF41fZNh"
      },
      "source": [
        " ***Problem Understanding***\n",
        "\n",
        "Small basket is an online grocery retail store in india.This online store  wants us to predict the demand of different items at multiple locations so that they can increase their profits by purchasing exactly the same number of items from the factory which massively increases their products and also saves a lot of perishable items from decaying.\n",
        "\n",
        "\n",
        "\n",
        "---\n",
        "##About the data:-\n",
        "The data i have received from the small basket consists of four data sets which are\n",
        "\n",
        "1.   ***train.csv***:-This dataset holds the data  of the number of units of an item sold at a particualr date,at a particular location and if the item is brought on promotion or without promotion.\n",
        "\n",
        "2.   ***train_transactions.csv***:-This dataset holds the data of the number of transaction made at a particular location on a particular date.\n",
        "\n",
        "3.   ***items.csv***:-This dataset holds the data of different items,their category,class and wheather the item is persihable or not.\n",
        "4.   ***locations.csv***:-This data holds the data of location of the warehouse,city and state where this unit belongs to,type and cluster this buisness unit belongs to.\n",
        "\n",
        "\n",
        "***Evalution metric for this is MAPE(Mean absolute percentage error)\n",
        "MAPE= 1/n summation(|actual|-|forecast|)/|actual|)*100\n",
        "\n",
        "\n",
        "\n",
        "\n",
        "\n"
      ]
    },
    {
      "cell_type": "code",
      "metadata": {
        "colab_type": "code",
        "id": "QREWtq9okVAP",
        "colab": {}
      },
      "source": [
        ""
      ],
      "execution_count": 0,
      "outputs": []
    },
    {
      "cell_type": "code",
      "metadata": {
        "colab_type": "code",
        "id": "ZfiegWaFOsPK",
        "colab": {}
      },
      "source": [
        "import pandas as pd"
      ],
      "execution_count": 0,
      "outputs": []
    },
    {
      "cell_type": "markdown",
      "metadata": {
        "colab_type": "text",
        "id": "fqTalrBIkkFG"
      },
      "source": [
        "# Mounting it to another google drive just to increase the RAM to 35 GB."
      ]
    },
    {
      "cell_type": "code",
      "metadata": {
        "colab_type": "code",
        "id": "W7-MTJfOAij7",
        "colab": {}
      },
      "source": [
        "#from google.colab import drive\n",
        "#drive.mount('/content/drive')"
      ],
      "execution_count": 0,
      "outputs": []
    },
    {
      "cell_type": "code",
      "metadata": {
        "colab_type": "code",
        "id": "1gutk9bKRhpF",
        "colab": {}
      },
      "source": [
        "#cd \"/content/drive/My Drive/\""
      ],
      "execution_count": 0,
      "outputs": []
    },
    {
      "cell_type": "markdown",
      "metadata": {
        "colab_type": "text",
        "id": "WT7UwK9tkaBZ"
      },
      "source": [
        "## Reading the data"
      ]
    },
    {
      "cell_type": "code",
      "metadata": {
        "colab_type": "code",
        "id": "7iLN0O89fFJ-",
        "outputId": "a0e8b580-9d7a-4d7c-c36a-34824c0fbafb",
        "colab": {
          "base_uri": "https://localhost:8080/",
          "height": 50
        }
      },
      "source": [
        "train=pd.read_csv('train (1).csv')\n",
        "train_trans=pd.read_csv('train_transactions.csv')\n",
        "item_details=pd.read_csv('item_details.csv')\n",
        "location_details=pd.read_csv('location_details.csv')"
      ],
      "execution_count": 0,
      "outputs": [
        {
          "output_type": "stream",
          "text": [
            "/usr/local/lib/python3.6/dist-packages/IPython/core/interactiveshell.py:2718: DtypeWarning: Columns (4) have mixed types. Specify dtype option on import or set low_memory=False.\n",
            "  interactivity=interactivity, compiler=compiler, result=result)\n"
          ],
          "name": "stderr"
        }
      ]
    },
    {
      "cell_type": "markdown",
      "metadata": {
        "colab_type": "text",
        "id": "8AKQ09AYm9x9"
      },
      "source": [
        "## Peeking into the data"
      ]
    },
    {
      "cell_type": "code",
      "metadata": {
        "colab_type": "code",
        "id": "gXeFKO9TlAxm",
        "outputId": "896f37bd-187f-4646-a2ee-a503a83be094",
        "colab": {
          "base_uri": "https://localhost:8080/",
          "height": 1000
        }
      },
      "source": [
        "train.tail(50)"
      ],
      "execution_count": 0,
      "outputs": [
        {
          "output_type": "execute_result",
          "data": {
            "text/html": [
              "<div>\n",
              "<style scoped>\n",
              "    .dataframe tbody tr th:only-of-type {\n",
              "        vertical-align: middle;\n",
              "    }\n",
              "\n",
              "    .dataframe tbody tr th {\n",
              "        vertical-align: top;\n",
              "    }\n",
              "\n",
              "    .dataframe thead th {\n",
              "        text-align: right;\n",
              "    }\n",
              "</style>\n",
              "<table border=\"1\" class=\"dataframe\">\n",
              "  <thead>\n",
              "    <tr style=\"text-align: right;\">\n",
              "      <th></th>\n",
              "      <th>date</th>\n",
              "      <th>locationId</th>\n",
              "      <th>item_id</th>\n",
              "      <th>unit_sales</th>\n",
              "      <th>onpromotion</th>\n",
              "    </tr>\n",
              "  </thead>\n",
              "  <tbody>\n",
              "    <tr>\n",
              "      <th>101688729</th>\n",
              "      <td>2018-12-31</td>\n",
              "      <td>location_54</td>\n",
              "      <td>item_2017241</td>\n",
              "      <td>8.0</td>\n",
              "      <td>False</td>\n",
              "    </tr>\n",
              "    <tr>\n",
              "      <th>101688730</th>\n",
              "      <td>2018-12-31</td>\n",
              "      <td>location_54</td>\n",
              "      <td>item_2018358</td>\n",
              "      <td>3.0</td>\n",
              "      <td>True</td>\n",
              "    </tr>\n",
              "    <tr>\n",
              "      <th>101688731</th>\n",
              "      <td>2018-12-31</td>\n",
              "      <td>location_54</td>\n",
              "      <td>item_2018397</td>\n",
              "      <td>3.0</td>\n",
              "      <td>False</td>\n",
              "    </tr>\n",
              "    <tr>\n",
              "      <th>101688732</th>\n",
              "      <td>2018-12-31</td>\n",
              "      <td>location_54</td>\n",
              "      <td>item_2018471</td>\n",
              "      <td>2.0</td>\n",
              "      <td>False</td>\n",
              "    </tr>\n",
              "    <tr>\n",
              "      <th>101688733</th>\n",
              "      <td>2018-12-31</td>\n",
              "      <td>location_54</td>\n",
              "      <td>item_2018612</td>\n",
              "      <td>6.0</td>\n",
              "      <td>True</td>\n",
              "    </tr>\n",
              "    <tr>\n",
              "      <th>101688734</th>\n",
              "      <td>2018-12-31</td>\n",
              "      <td>location_54</td>\n",
              "      <td>item_2018690</td>\n",
              "      <td>1.0</td>\n",
              "      <td>False</td>\n",
              "    </tr>\n",
              "    <tr>\n",
              "      <th>101688735</th>\n",
              "      <td>2018-12-31</td>\n",
              "      <td>location_54</td>\n",
              "      <td>item_2019084</td>\n",
              "      <td>17.0</td>\n",
              "      <td>True</td>\n",
              "    </tr>\n",
              "    <tr>\n",
              "      <th>101688736</th>\n",
              "      <td>2018-12-31</td>\n",
              "      <td>location_54</td>\n",
              "      <td>item_2026256</td>\n",
              "      <td>6.0</td>\n",
              "      <td>False</td>\n",
              "    </tr>\n",
              "    <tr>\n",
              "      <th>101688737</th>\n",
              "      <td>2018-12-31</td>\n",
              "      <td>location_54</td>\n",
              "      <td>item_2026444</td>\n",
              "      <td>3.0</td>\n",
              "      <td>False</td>\n",
              "    </tr>\n",
              "    <tr>\n",
              "      <th>101688738</th>\n",
              "      <td>2018-12-31</td>\n",
              "      <td>location_54</td>\n",
              "      <td>item_2026454</td>\n",
              "      <td>17.0</td>\n",
              "      <td>False</td>\n",
              "    </tr>\n",
              "    <tr>\n",
              "      <th>101688739</th>\n",
              "      <td>2018-12-31</td>\n",
              "      <td>location_54</td>\n",
              "      <td>item_2026501</td>\n",
              "      <td>3.0</td>\n",
              "      <td>False</td>\n",
              "    </tr>\n",
              "    <tr>\n",
              "      <th>101688740</th>\n",
              "      <td>2018-12-31</td>\n",
              "      <td>location_54</td>\n",
              "      <td>item_2026631</td>\n",
              "      <td>10.0</td>\n",
              "      <td>True</td>\n",
              "    </tr>\n",
              "    <tr>\n",
              "      <th>101688741</th>\n",
              "      <td>2018-12-31</td>\n",
              "      <td>location_54</td>\n",
              "      <td>item_2026650</td>\n",
              "      <td>16.0</td>\n",
              "      <td>False</td>\n",
              "    </tr>\n",
              "    <tr>\n",
              "      <th>101688742</th>\n",
              "      <td>2018-12-31</td>\n",
              "      <td>location_54</td>\n",
              "      <td>item_2026683</td>\n",
              "      <td>3.0</td>\n",
              "      <td>False</td>\n",
              "    </tr>\n",
              "    <tr>\n",
              "      <th>101688743</th>\n",
              "      <td>2018-12-31</td>\n",
              "      <td>location_54</td>\n",
              "      <td>item_2026801</td>\n",
              "      <td>23.0</td>\n",
              "      <td>False</td>\n",
              "    </tr>\n",
              "    <tr>\n",
              "      <th>101688744</th>\n",
              "      <td>2018-12-31</td>\n",
              "      <td>location_54</td>\n",
              "      <td>item_2026893</td>\n",
              "      <td>4.0</td>\n",
              "      <td>False</td>\n",
              "    </tr>\n",
              "    <tr>\n",
              "      <th>101688745</th>\n",
              "      <td>2018-12-31</td>\n",
              "      <td>location_54</td>\n",
              "      <td>item_2026945</td>\n",
              "      <td>4.0</td>\n",
              "      <td>False</td>\n",
              "    </tr>\n",
              "    <tr>\n",
              "      <th>101688746</th>\n",
              "      <td>2018-12-31</td>\n",
              "      <td>location_54</td>\n",
              "      <td>item_2026983</td>\n",
              "      <td>7.0</td>\n",
              "      <td>False</td>\n",
              "    </tr>\n",
              "    <tr>\n",
              "      <th>101688747</th>\n",
              "      <td>2018-12-31</td>\n",
              "      <td>location_54</td>\n",
              "      <td>item_2027090</td>\n",
              "      <td>2.0</td>\n",
              "      <td>False</td>\n",
              "    </tr>\n",
              "    <tr>\n",
              "      <th>101688748</th>\n",
              "      <td>2018-12-31</td>\n",
              "      <td>location_54</td>\n",
              "      <td>item_2027252</td>\n",
              "      <td>4.0</td>\n",
              "      <td>False</td>\n",
              "    </tr>\n",
              "    <tr>\n",
              "      <th>101688749</th>\n",
              "      <td>2018-12-31</td>\n",
              "      <td>location_54</td>\n",
              "      <td>item_2027777</td>\n",
              "      <td>5.0</td>\n",
              "      <td>False</td>\n",
              "    </tr>\n",
              "    <tr>\n",
              "      <th>101688750</th>\n",
              "      <td>2018-12-31</td>\n",
              "      <td>location_54</td>\n",
              "      <td>item_2027827</td>\n",
              "      <td>2.0</td>\n",
              "      <td>False</td>\n",
              "    </tr>\n",
              "    <tr>\n",
              "      <th>101688751</th>\n",
              "      <td>2018-12-31</td>\n",
              "      <td>location_54</td>\n",
              "      <td>item_2028307</td>\n",
              "      <td>2.0</td>\n",
              "      <td>True</td>\n",
              "    </tr>\n",
              "    <tr>\n",
              "      <th>101688752</th>\n",
              "      <td>2018-12-31</td>\n",
              "      <td>location_54</td>\n",
              "      <td>item_2028335</td>\n",
              "      <td>1.0</td>\n",
              "      <td>False</td>\n",
              "    </tr>\n",
              "    <tr>\n",
              "      <th>101688753</th>\n",
              "      <td>2018-12-31</td>\n",
              "      <td>location_54</td>\n",
              "      <td>item_2028696</td>\n",
              "      <td>1.0</td>\n",
              "      <td>True</td>\n",
              "    </tr>\n",
              "    <tr>\n",
              "      <th>101688754</th>\n",
              "      <td>2018-12-31</td>\n",
              "      <td>location_54</td>\n",
              "      <td>item_2028754</td>\n",
              "      <td>2.0</td>\n",
              "      <td>False</td>\n",
              "    </tr>\n",
              "    <tr>\n",
              "      <th>101688755</th>\n",
              "      <td>2018-12-31</td>\n",
              "      <td>location_54</td>\n",
              "      <td>item_2028810</td>\n",
              "      <td>2.0</td>\n",
              "      <td>False</td>\n",
              "    </tr>\n",
              "    <tr>\n",
              "      <th>101688756</th>\n",
              "      <td>2018-12-31</td>\n",
              "      <td>location_54</td>\n",
              "      <td>item_2030822</td>\n",
              "      <td>17.0</td>\n",
              "      <td>True</td>\n",
              "    </tr>\n",
              "    <tr>\n",
              "      <th>101688757</th>\n",
              "      <td>2018-12-31</td>\n",
              "      <td>location_54</td>\n",
              "      <td>item_2034104</td>\n",
              "      <td>1.0</td>\n",
              "      <td>False</td>\n",
              "    </tr>\n",
              "    <tr>\n",
              "      <th>101688758</th>\n",
              "      <td>2018-12-31</td>\n",
              "      <td>location_54</td>\n",
              "      <td>item_2035581</td>\n",
              "      <td>8.0</td>\n",
              "      <td>False</td>\n",
              "    </tr>\n",
              "    <tr>\n",
              "      <th>101688759</th>\n",
              "      <td>2018-12-31</td>\n",
              "      <td>location_54</td>\n",
              "      <td>item_2035587</td>\n",
              "      <td>2.0</td>\n",
              "      <td>False</td>\n",
              "    </tr>\n",
              "    <tr>\n",
              "      <th>101688760</th>\n",
              "      <td>2018-12-31</td>\n",
              "      <td>location_54</td>\n",
              "      <td>item_2036460</td>\n",
              "      <td>7.0</td>\n",
              "      <td>False</td>\n",
              "    </tr>\n",
              "    <tr>\n",
              "      <th>101688761</th>\n",
              "      <td>2018-12-31</td>\n",
              "      <td>location_54</td>\n",
              "      <td>item_2036574</td>\n",
              "      <td>3.0</td>\n",
              "      <td>False</td>\n",
              "    </tr>\n",
              "    <tr>\n",
              "      <th>101688762</th>\n",
              "      <td>2018-12-31</td>\n",
              "      <td>location_54</td>\n",
              "      <td>item_2037269</td>\n",
              "      <td>10.0</td>\n",
              "      <td>False</td>\n",
              "    </tr>\n",
              "    <tr>\n",
              "      <th>101688763</th>\n",
              "      <td>2018-12-31</td>\n",
              "      <td>location_54</td>\n",
              "      <td>item_2047211</td>\n",
              "      <td>7.0</td>\n",
              "      <td>False</td>\n",
              "    </tr>\n",
              "    <tr>\n",
              "      <th>101688764</th>\n",
              "      <td>2018-12-31</td>\n",
              "      <td>location_54</td>\n",
              "      <td>item_2048113</td>\n",
              "      <td>1.0</td>\n",
              "      <td>False</td>\n",
              "    </tr>\n",
              "    <tr>\n",
              "      <th>101688765</th>\n",
              "      <td>2018-12-31</td>\n",
              "      <td>location_54</td>\n",
              "      <td>item_2048139</td>\n",
              "      <td>10.0</td>\n",
              "      <td>False</td>\n",
              "    </tr>\n",
              "    <tr>\n",
              "      <th>101688766</th>\n",
              "      <td>2018-12-31</td>\n",
              "      <td>location_54</td>\n",
              "      <td>item_2048141</td>\n",
              "      <td>2.0</td>\n",
              "      <td>False</td>\n",
              "    </tr>\n",
              "    <tr>\n",
              "      <th>101688767</th>\n",
              "      <td>2018-12-31</td>\n",
              "      <td>location_54</td>\n",
              "      <td>item_2048163</td>\n",
              "      <td>6.0</td>\n",
              "      <td>True</td>\n",
              "    </tr>\n",
              "    <tr>\n",
              "      <th>101688768</th>\n",
              "      <td>2018-12-31</td>\n",
              "      <td>location_54</td>\n",
              "      <td>item_2048242</td>\n",
              "      <td>8.0</td>\n",
              "      <td>False</td>\n",
              "    </tr>\n",
              "    <tr>\n",
              "      <th>101688769</th>\n",
              "      <td>2018-12-31</td>\n",
              "      <td>location_54</td>\n",
              "      <td>item_2048246</td>\n",
              "      <td>10.0</td>\n",
              "      <td>True</td>\n",
              "    </tr>\n",
              "    <tr>\n",
              "      <th>101688770</th>\n",
              "      <td>2018-12-31</td>\n",
              "      <td>location_54</td>\n",
              "      <td>item_2048271</td>\n",
              "      <td>3.0</td>\n",
              "      <td>False</td>\n",
              "    </tr>\n",
              "    <tr>\n",
              "      <th>101688771</th>\n",
              "      <td>2018-12-31</td>\n",
              "      <td>location_54</td>\n",
              "      <td>item_2048279</td>\n",
              "      <td>29.0</td>\n",
              "      <td>False</td>\n",
              "    </tr>\n",
              "    <tr>\n",
              "      <th>101688772</th>\n",
              "      <td>2018-12-31</td>\n",
              "      <td>location_54</td>\n",
              "      <td>item_2048300</td>\n",
              "      <td>9.0</td>\n",
              "      <td>False</td>\n",
              "    </tr>\n",
              "    <tr>\n",
              "      <th>101688773</th>\n",
              "      <td>2018-12-31</td>\n",
              "      <td>location_54</td>\n",
              "      <td>item_2048313</td>\n",
              "      <td>7.0</td>\n",
              "      <td>False</td>\n",
              "    </tr>\n",
              "    <tr>\n",
              "      <th>101688774</th>\n",
              "      <td>2018-12-31</td>\n",
              "      <td>location_54</td>\n",
              "      <td>item_2048381</td>\n",
              "      <td>6.0</td>\n",
              "      <td>True</td>\n",
              "    </tr>\n",
              "    <tr>\n",
              "      <th>101688775</th>\n",
              "      <td>2018-12-31</td>\n",
              "      <td>location_54</td>\n",
              "      <td>item_2048421</td>\n",
              "      <td>4.0</td>\n",
              "      <td>False</td>\n",
              "    </tr>\n",
              "    <tr>\n",
              "      <th>101688776</th>\n",
              "      <td>2018-12-31</td>\n",
              "      <td>location_54</td>\n",
              "      <td>item_2048471</td>\n",
              "      <td>10.0</td>\n",
              "      <td>False</td>\n",
              "    </tr>\n",
              "    <tr>\n",
              "      <th>101688777</th>\n",
              "      <td>2018-12-31</td>\n",
              "      <td>location_54</td>\n",
              "      <td>item_2048515</td>\n",
              "      <td>3.0</td>\n",
              "      <td>False</td>\n",
              "    </tr>\n",
              "    <tr>\n",
              "      <th>101688778</th>\n",
              "      <td>2018-12-31</td>\n",
              "      <td>location_54</td>\n",
              "      <td>item_2048674</td>\n",
              "      <td>1.0</td>\n",
              "      <td>False</td>\n",
              "    </tr>\n",
              "  </tbody>\n",
              "</table>\n",
              "</div>"
            ],
            "text/plain": [
              "                 date   locationId       item_id  unit_sales onpromotion\n",
              "101688729  2018-12-31  location_54  item_2017241         8.0       False\n",
              "101688730  2018-12-31  location_54  item_2018358         3.0        True\n",
              "101688731  2018-12-31  location_54  item_2018397         3.0       False\n",
              "101688732  2018-12-31  location_54  item_2018471         2.0       False\n",
              "101688733  2018-12-31  location_54  item_2018612         6.0        True\n",
              "101688734  2018-12-31  location_54  item_2018690         1.0       False\n",
              "101688735  2018-12-31  location_54  item_2019084        17.0        True\n",
              "101688736  2018-12-31  location_54  item_2026256         6.0       False\n",
              "101688737  2018-12-31  location_54  item_2026444         3.0       False\n",
              "101688738  2018-12-31  location_54  item_2026454        17.0       False\n",
              "101688739  2018-12-31  location_54  item_2026501         3.0       False\n",
              "101688740  2018-12-31  location_54  item_2026631        10.0        True\n",
              "101688741  2018-12-31  location_54  item_2026650        16.0       False\n",
              "101688742  2018-12-31  location_54  item_2026683         3.0       False\n",
              "101688743  2018-12-31  location_54  item_2026801        23.0       False\n",
              "101688744  2018-12-31  location_54  item_2026893         4.0       False\n",
              "101688745  2018-12-31  location_54  item_2026945         4.0       False\n",
              "101688746  2018-12-31  location_54  item_2026983         7.0       False\n",
              "101688747  2018-12-31  location_54  item_2027090         2.0       False\n",
              "101688748  2018-12-31  location_54  item_2027252         4.0       False\n",
              "101688749  2018-12-31  location_54  item_2027777         5.0       False\n",
              "101688750  2018-12-31  location_54  item_2027827         2.0       False\n",
              "101688751  2018-12-31  location_54  item_2028307         2.0        True\n",
              "101688752  2018-12-31  location_54  item_2028335         1.0       False\n",
              "101688753  2018-12-31  location_54  item_2028696         1.0        True\n",
              "101688754  2018-12-31  location_54  item_2028754         2.0       False\n",
              "101688755  2018-12-31  location_54  item_2028810         2.0       False\n",
              "101688756  2018-12-31  location_54  item_2030822        17.0        True\n",
              "101688757  2018-12-31  location_54  item_2034104         1.0       False\n",
              "101688758  2018-12-31  location_54  item_2035581         8.0       False\n",
              "101688759  2018-12-31  location_54  item_2035587         2.0       False\n",
              "101688760  2018-12-31  location_54  item_2036460         7.0       False\n",
              "101688761  2018-12-31  location_54  item_2036574         3.0       False\n",
              "101688762  2018-12-31  location_54  item_2037269        10.0       False\n",
              "101688763  2018-12-31  location_54  item_2047211         7.0       False\n",
              "101688764  2018-12-31  location_54  item_2048113         1.0       False\n",
              "101688765  2018-12-31  location_54  item_2048139        10.0       False\n",
              "101688766  2018-12-31  location_54  item_2048141         2.0       False\n",
              "101688767  2018-12-31  location_54  item_2048163         6.0        True\n",
              "101688768  2018-12-31  location_54  item_2048242         8.0       False\n",
              "101688769  2018-12-31  location_54  item_2048246        10.0        True\n",
              "101688770  2018-12-31  location_54  item_2048271         3.0       False\n",
              "101688771  2018-12-31  location_54  item_2048279        29.0       False\n",
              "101688772  2018-12-31  location_54  item_2048300         9.0       False\n",
              "101688773  2018-12-31  location_54  item_2048313         7.0       False\n",
              "101688774  2018-12-31  location_54  item_2048381         6.0        True\n",
              "101688775  2018-12-31  location_54  item_2048421         4.0       False\n",
              "101688776  2018-12-31  location_54  item_2048471        10.0       False\n",
              "101688777  2018-12-31  location_54  item_2048515         3.0       False\n",
              "101688778  2018-12-31  location_54  item_2048674         1.0       False"
            ]
          },
          "metadata": {
            "tags": []
          },
          "execution_count": 65
        }
      ]
    },
    {
      "cell_type": "code",
      "metadata": {
        "colab_type": "code",
        "id": "UtI7x15Tlaaa",
        "outputId": "a5c05130-a3d3-428c-88c5-c6a87f263bdb",
        "colab": {
          "base_uri": "https://localhost:8080/",
          "height": 286
        }
      },
      "source": [
        "train.describe()"
      ],
      "execution_count": 0,
      "outputs": [
        {
          "output_type": "execute_result",
          "data": {
            "text/html": [
              "<div>\n",
              "<style scoped>\n",
              "    .dataframe tbody tr th:only-of-type {\n",
              "        vertical-align: middle;\n",
              "    }\n",
              "\n",
              "    .dataframe tbody tr th {\n",
              "        vertical-align: top;\n",
              "    }\n",
              "\n",
              "    .dataframe thead th {\n",
              "        text-align: right;\n",
              "    }\n",
              "</style>\n",
              "<table border=\"1\" class=\"dataframe\">\n",
              "  <thead>\n",
              "    <tr style=\"text-align: right;\">\n",
              "      <th></th>\n",
              "      <th>unit_sales</th>\n",
              "    </tr>\n",
              "  </thead>\n",
              "  <tbody>\n",
              "    <tr>\n",
              "      <th>count</th>\n",
              "      <td>1.016888e+08</td>\n",
              "    </tr>\n",
              "    <tr>\n",
              "      <th>mean</th>\n",
              "      <td>8.647890e+00</td>\n",
              "    </tr>\n",
              "    <tr>\n",
              "      <th>std</th>\n",
              "      <td>2.349533e+01</td>\n",
              "    </tr>\n",
              "    <tr>\n",
              "      <th>min</th>\n",
              "      <td>-1.537200e+04</td>\n",
              "    </tr>\n",
              "    <tr>\n",
              "      <th>25%</th>\n",
              "      <td>2.000000e+00</td>\n",
              "    </tr>\n",
              "    <tr>\n",
              "      <th>50%</th>\n",
              "      <td>4.000000e+00</td>\n",
              "    </tr>\n",
              "    <tr>\n",
              "      <th>75%</th>\n",
              "      <td>9.000000e+00</td>\n",
              "    </tr>\n",
              "    <tr>\n",
              "      <th>max</th>\n",
              "      <td>8.944000e+04</td>\n",
              "    </tr>\n",
              "  </tbody>\n",
              "</table>\n",
              "</div>"
            ],
            "text/plain": [
              "         unit_sales\n",
              "count  1.016888e+08\n",
              "mean   8.647890e+00\n",
              "std    2.349533e+01\n",
              "min   -1.537200e+04\n",
              "25%    2.000000e+00\n",
              "50%    4.000000e+00\n",
              "75%    9.000000e+00\n",
              "max    8.944000e+04"
            ]
          },
          "metadata": {
            "tags": []
          },
          "execution_count": 10
        }
      ]
    },
    {
      "cell_type": "code",
      "metadata": {
        "colab_type": "code",
        "id": "r0S6nZ4_lJmI",
        "outputId": "5e40c2f7-0012-4575-88ff-907e705d973f",
        "colab": {
          "base_uri": "https://localhost:8080/",
          "height": 196
        }
      },
      "source": [
        "train_trans.head()"
      ],
      "execution_count": 0,
      "outputs": [
        {
          "output_type": "execute_result",
          "data": {
            "text/html": [
              "<div>\n",
              "<style scoped>\n",
              "    .dataframe tbody tr th:only-of-type {\n",
              "        vertical-align: middle;\n",
              "    }\n",
              "\n",
              "    .dataframe tbody tr th {\n",
              "        vertical-align: top;\n",
              "    }\n",
              "\n",
              "    .dataframe thead th {\n",
              "        text-align: right;\n",
              "    }\n",
              "</style>\n",
              "<table border=\"1\" class=\"dataframe\">\n",
              "  <thead>\n",
              "    <tr style=\"text-align: right;\">\n",
              "      <th></th>\n",
              "      <th>date</th>\n",
              "      <th>location_identifier</th>\n",
              "      <th>transactions</th>\n",
              "    </tr>\n",
              "  </thead>\n",
              "  <tbody>\n",
              "    <tr>\n",
              "      <th>0</th>\n",
              "      <td>2015-01-01</td>\n",
              "      <td>location_25</td>\n",
              "      <td>770</td>\n",
              "    </tr>\n",
              "    <tr>\n",
              "      <th>1</th>\n",
              "      <td>2015-01-02</td>\n",
              "      <td>location_1</td>\n",
              "      <td>2111</td>\n",
              "    </tr>\n",
              "    <tr>\n",
              "      <th>2</th>\n",
              "      <td>2015-01-02</td>\n",
              "      <td>location_2</td>\n",
              "      <td>2358</td>\n",
              "    </tr>\n",
              "    <tr>\n",
              "      <th>3</th>\n",
              "      <td>2015-01-02</td>\n",
              "      <td>location_3</td>\n",
              "      <td>3487</td>\n",
              "    </tr>\n",
              "    <tr>\n",
              "      <th>4</th>\n",
              "      <td>2015-01-02</td>\n",
              "      <td>location_4</td>\n",
              "      <td>1922</td>\n",
              "    </tr>\n",
              "  </tbody>\n",
              "</table>\n",
              "</div>"
            ],
            "text/plain": [
              "         date location_identifier  transactions\n",
              "0  2015-01-01         location_25           770\n",
              "1  2015-01-02          location_1          2111\n",
              "2  2015-01-02          location_2          2358\n",
              "3  2015-01-02          location_3          3487\n",
              "4  2015-01-02          location_4          1922"
            ]
          },
          "metadata": {
            "tags": []
          },
          "execution_count": 7
        }
      ]
    },
    {
      "cell_type": "code",
      "metadata": {
        "colab_type": "code",
        "id": "uBEWsmVylcNe",
        "outputId": "8723682e-6e09-4d88-8cfa-a631e0ca9e11",
        "colab": {
          "base_uri": "https://localhost:8080/",
          "height": 286
        }
      },
      "source": [
        "train_trans.describe()"
      ],
      "execution_count": 0,
      "outputs": [
        {
          "output_type": "execute_result",
          "data": {
            "text/html": [
              "<div>\n",
              "<style scoped>\n",
              "    .dataframe tbody tr th:only-of-type {\n",
              "        vertical-align: middle;\n",
              "    }\n",
              "\n",
              "    .dataframe tbody tr th {\n",
              "        vertical-align: top;\n",
              "    }\n",
              "\n",
              "    .dataframe thead th {\n",
              "        text-align: right;\n",
              "    }\n",
              "</style>\n",
              "<table border=\"1\" class=\"dataframe\">\n",
              "  <thead>\n",
              "    <tr style=\"text-align: right;\">\n",
              "      <th></th>\n",
              "      <th>transactions</th>\n",
              "    </tr>\n",
              "  </thead>\n",
              "  <tbody>\n",
              "    <tr>\n",
              "      <th>count</th>\n",
              "      <td>71391.000000</td>\n",
              "    </tr>\n",
              "    <tr>\n",
              "      <th>mean</th>\n",
              "      <td>1701.598367</td>\n",
              "    </tr>\n",
              "    <tr>\n",
              "      <th>std</th>\n",
              "      <td>968.125835</td>\n",
              "    </tr>\n",
              "    <tr>\n",
              "      <th>min</th>\n",
              "      <td>5.000000</td>\n",
              "    </tr>\n",
              "    <tr>\n",
              "      <th>25%</th>\n",
              "      <td>1049.000000</td>\n",
              "    </tr>\n",
              "    <tr>\n",
              "      <th>50%</th>\n",
              "      <td>1397.000000</td>\n",
              "    </tr>\n",
              "    <tr>\n",
              "      <th>75%</th>\n",
              "      <td>2100.000000</td>\n",
              "    </tr>\n",
              "    <tr>\n",
              "      <th>max</th>\n",
              "      <td>8359.000000</td>\n",
              "    </tr>\n",
              "  </tbody>\n",
              "</table>\n",
              "</div>"
            ],
            "text/plain": [
              "       transactions\n",
              "count  71391.000000\n",
              "mean    1701.598367\n",
              "std      968.125835\n",
              "min        5.000000\n",
              "25%     1049.000000\n",
              "50%     1397.000000\n",
              "75%     2100.000000\n",
              "max     8359.000000"
            ]
          },
          "metadata": {
            "tags": []
          },
          "execution_count": 11
        }
      ]
    },
    {
      "cell_type": "code",
      "metadata": {
        "colab_type": "code",
        "id": "Tj-iWEBqlMiK",
        "outputId": "93a88670-cefd-42cc-dc84-13fe1f5cdd79",
        "colab": {
          "base_uri": "https://localhost:8080/",
          "height": 196
        }
      },
      "source": [
        "location_details.head()"
      ],
      "execution_count": 0,
      "outputs": [
        {
          "output_type": "execute_result",
          "data": {
            "text/html": [
              "<div>\n",
              "<style scoped>\n",
              "    .dataframe tbody tr th:only-of-type {\n",
              "        vertical-align: middle;\n",
              "    }\n",
              "\n",
              "    .dataframe tbody tr th {\n",
              "        vertical-align: top;\n",
              "    }\n",
              "\n",
              "    .dataframe thead th {\n",
              "        text-align: right;\n",
              "    }\n",
              "</style>\n",
              "<table border=\"1\" class=\"dataframe\">\n",
              "  <thead>\n",
              "    <tr style=\"text-align: right;\">\n",
              "      <th></th>\n",
              "      <th>location_id</th>\n",
              "      <th>city</th>\n",
              "      <th>state</th>\n",
              "      <th>type</th>\n",
              "      <th>cluster</th>\n",
              "    </tr>\n",
              "  </thead>\n",
              "  <tbody>\n",
              "    <tr>\n",
              "      <th>0</th>\n",
              "      <td>location_1</td>\n",
              "      <td>Bengaluru</td>\n",
              "      <td>Karnataka</td>\n",
              "      <td>D</td>\n",
              "      <td>13</td>\n",
              "    </tr>\n",
              "    <tr>\n",
              "      <th>1</th>\n",
              "      <td>location_2</td>\n",
              "      <td>Bengaluru</td>\n",
              "      <td>Karnataka</td>\n",
              "      <td>D</td>\n",
              "      <td>13</td>\n",
              "    </tr>\n",
              "    <tr>\n",
              "      <th>2</th>\n",
              "      <td>location_3</td>\n",
              "      <td>Bengaluru</td>\n",
              "      <td>Karnataka</td>\n",
              "      <td>D</td>\n",
              "      <td>8</td>\n",
              "    </tr>\n",
              "    <tr>\n",
              "      <th>3</th>\n",
              "      <td>location_4</td>\n",
              "      <td>Bengaluru</td>\n",
              "      <td>Karnataka</td>\n",
              "      <td>D</td>\n",
              "      <td>9</td>\n",
              "    </tr>\n",
              "    <tr>\n",
              "      <th>4</th>\n",
              "      <td>location_5</td>\n",
              "      <td>Delhi</td>\n",
              "      <td>NCR</td>\n",
              "      <td>D</td>\n",
              "      <td>4</td>\n",
              "    </tr>\n",
              "  </tbody>\n",
              "</table>\n",
              "</div>"
            ],
            "text/plain": [
              "  location_id       city      state type  cluster\n",
              "0  location_1  Bengaluru  Karnataka    D       13\n",
              "1  location_2  Bengaluru  Karnataka    D       13\n",
              "2  location_3  Bengaluru  Karnataka    D        8\n",
              "3  location_4  Bengaluru  Karnataka    D        9\n",
              "4  location_5      Delhi        NCR    D        4"
            ]
          },
          "metadata": {
            "tags": []
          },
          "execution_count": 8
        }
      ]
    },
    {
      "cell_type": "code",
      "metadata": {
        "colab_type": "code",
        "id": "VCOK3LsZlPBm",
        "outputId": "b7e228e4-c8f4-48fe-c063-8916f059d54b",
        "colab": {
          "base_uri": "https://localhost:8080/",
          "height": 196
        }
      },
      "source": [
        "item_details.head()"
      ],
      "execution_count": 0,
      "outputs": [
        {
          "output_type": "execute_result",
          "data": {
            "text/html": [
              "<div>\n",
              "<style scoped>\n",
              "    .dataframe tbody tr th:only-of-type {\n",
              "        vertical-align: middle;\n",
              "    }\n",
              "\n",
              "    .dataframe tbody tr th {\n",
              "        vertical-align: top;\n",
              "    }\n",
              "\n",
              "    .dataframe thead th {\n",
              "        text-align: right;\n",
              "    }\n",
              "</style>\n",
              "<table border=\"1\" class=\"dataframe\">\n",
              "  <thead>\n",
              "    <tr style=\"text-align: right;\">\n",
              "      <th></th>\n",
              "      <th>item_id</th>\n",
              "      <th>category_of_item</th>\n",
              "      <th>class</th>\n",
              "      <th>perishable</th>\n",
              "    </tr>\n",
              "  </thead>\n",
              "  <tbody>\n",
              "    <tr>\n",
              "      <th>0</th>\n",
              "      <td>item_96995</td>\n",
              "      <td>grocery_items</td>\n",
              "      <td>class_1093</td>\n",
              "      <td>0</td>\n",
              "    </tr>\n",
              "    <tr>\n",
              "      <th>1</th>\n",
              "      <td>item_99197</td>\n",
              "      <td>grocery_items</td>\n",
              "      <td>class_1067</td>\n",
              "      <td>0</td>\n",
              "    </tr>\n",
              "    <tr>\n",
              "      <th>2</th>\n",
              "      <td>item_103501</td>\n",
              "      <td>cleaning_utilities</td>\n",
              "      <td>class_3008</td>\n",
              "      <td>0</td>\n",
              "    </tr>\n",
              "    <tr>\n",
              "      <th>3</th>\n",
              "      <td>item_103520</td>\n",
              "      <td>grocery_items</td>\n",
              "      <td>class_1028</td>\n",
              "      <td>0</td>\n",
              "    </tr>\n",
              "    <tr>\n",
              "      <th>4</th>\n",
              "      <td>item_103665</td>\n",
              "      <td>baked_items / bread_based</td>\n",
              "      <td>class_2712</td>\n",
              "      <td>1</td>\n",
              "    </tr>\n",
              "  </tbody>\n",
              "</table>\n",
              "</div>"
            ],
            "text/plain": [
              "       item_id           category_of_item       class  perishable\n",
              "0   item_96995              grocery_items  class_1093           0\n",
              "1   item_99197              grocery_items  class_1067           0\n",
              "2  item_103501         cleaning_utilities  class_3008           0\n",
              "3  item_103520              grocery_items  class_1028           0\n",
              "4  item_103665  baked_items / bread_based  class_2712           1"
            ]
          },
          "metadata": {
            "tags": []
          },
          "execution_count": 9
        }
      ]
    },
    {
      "cell_type": "code",
      "metadata": {
        "colab_type": "code",
        "id": "E8fyiXD1lBX9",
        "colab": {}
      },
      "source": [
        ""
      ],
      "execution_count": 0,
      "outputs": []
    },
    {
      "cell_type": "markdown",
      "metadata": {
        "colab_type": "text",
        "id": "QZBxEiKiqqkC"
      },
      "source": [
        "## Getting to know the data.\n",
        "\n",
        "inspect_data is a function which displays \n",
        "\n",
        "\n",
        "1:Null values\n",
        "\n",
        "2:No of Levels\n",
        "\n",
        "3:Number of unique levels\n"
      ]
    },
    {
      "cell_type": "code",
      "metadata": {
        "colab_type": "code",
        "id": "ZEynH6pqfXHq",
        "colab": {}
      },
      "source": [
        "#Function to find number of Null values,No of levels and unique levels in the data set\n",
        "def inspect_data(data) :\n",
        "      return pd.DataFrame({\"Data type\": data.dtypes,\"NUll Values\": data.isnull().sum(),\n",
        "                           \"No of Levels\": data.apply(lambda x: str(x.nunique()),axis=0),\n",
        "                          \"Levels\": data.apply(lambda x: str(x.unique()),axis=0)})\n",
        " "
      ],
      "execution_count": 0,
      "outputs": []
    },
    {
      "cell_type": "code",
      "metadata": {
        "colab_type": "code",
        "id": "q3OQWagNfWCd",
        "outputId": "7b0b17b8-679e-4f36-e89b-0c471e1b2589",
        "colab": {
          "base_uri": "https://localhost:8080/",
          "height": 196
        }
      },
      "source": [
        "inspect_data(train)"
      ],
      "execution_count": 0,
      "outputs": [
        {
          "output_type": "execute_result",
          "data": {
            "text/html": [
              "<div>\n",
              "<style scoped>\n",
              "    .dataframe tbody tr th:only-of-type {\n",
              "        vertical-align: middle;\n",
              "    }\n",
              "\n",
              "    .dataframe tbody tr th {\n",
              "        vertical-align: top;\n",
              "    }\n",
              "\n",
              "    .dataframe thead th {\n",
              "        text-align: right;\n",
              "    }\n",
              "</style>\n",
              "<table border=\"1\" class=\"dataframe\">\n",
              "  <thead>\n",
              "    <tr style=\"text-align: right;\">\n",
              "      <th></th>\n",
              "      <th>Data type</th>\n",
              "      <th>NUll Values</th>\n",
              "      <th>No of Levels</th>\n",
              "      <th>Levels</th>\n",
              "    </tr>\n",
              "  </thead>\n",
              "  <tbody>\n",
              "    <tr>\n",
              "      <th>date</th>\n",
              "      <td>object</td>\n",
              "      <td>0</td>\n",
              "      <td>1456</td>\n",
              "      <td>['2015-01-01' '2015-01-02' '2015-01-03' ... '2...</td>\n",
              "    </tr>\n",
              "    <tr>\n",
              "      <th>locationId</th>\n",
              "      <td>object</td>\n",
              "      <td>0</td>\n",
              "      <td>53</td>\n",
              "      <td>['location_25' 'location_1' 'location_2' 'loca...</td>\n",
              "    </tr>\n",
              "    <tr>\n",
              "      <th>item_id</th>\n",
              "      <td>object</td>\n",
              "      <td>0</td>\n",
              "      <td>3890</td>\n",
              "      <td>['item_103665' 'item_105574' 'item_105575' ......</td>\n",
              "    </tr>\n",
              "    <tr>\n",
              "      <th>unit_sales</th>\n",
              "      <td>float64</td>\n",
              "      <td>0</td>\n",
              "      <td>244090</td>\n",
              "      <td>[7.0 1.0 2.0 ... 279.395 145.60299999999995 18...</td>\n",
              "    </tr>\n",
              "    <tr>\n",
              "      <th>onpromotion</th>\n",
              "      <td>object</td>\n",
              "      <td>21657651</td>\n",
              "      <td>2</td>\n",
              "      <td>[nan False True]</td>\n",
              "    </tr>\n",
              "  </tbody>\n",
              "</table>\n",
              "</div>"
            ],
            "text/plain": [
              "            Data type  ...                                             Levels\n",
              "date           object  ...  ['2015-01-01' '2015-01-02' '2015-01-03' ... '2...\n",
              "locationId     object  ...  ['location_25' 'location_1' 'location_2' 'loca...\n",
              "item_id        object  ...  ['item_103665' 'item_105574' 'item_105575' ......\n",
              "unit_sales    float64  ...  [7.0 1.0 2.0 ... 279.395 145.60299999999995 18...\n",
              "onpromotion    object  ...                                   [nan False True]\n",
              "\n",
              "[5 rows x 4 columns]"
            ]
          },
          "metadata": {
            "tags": []
          },
          "execution_count": 13
        }
      ]
    },
    {
      "cell_type": "code",
      "metadata": {
        "colab_type": "code",
        "id": "dBMW-RyJmKGh",
        "outputId": "befd5715-923a-4a15-f79e-657d1b56ef1f",
        "colab": {
          "base_uri": "https://localhost:8080/",
          "height": 196
        }
      },
      "source": [
        "inspect_data(location_details)"
      ],
      "execution_count": 0,
      "outputs": [
        {
          "output_type": "execute_result",
          "data": {
            "text/html": [
              "<div>\n",
              "<style scoped>\n",
              "    .dataframe tbody tr th:only-of-type {\n",
              "        vertical-align: middle;\n",
              "    }\n",
              "\n",
              "    .dataframe tbody tr th {\n",
              "        vertical-align: top;\n",
              "    }\n",
              "\n",
              "    .dataframe thead th {\n",
              "        text-align: right;\n",
              "    }\n",
              "</style>\n",
              "<table border=\"1\" class=\"dataframe\">\n",
              "  <thead>\n",
              "    <tr style=\"text-align: right;\">\n",
              "      <th></th>\n",
              "      <th>Data type</th>\n",
              "      <th>NUll Values</th>\n",
              "      <th>No of Levels</th>\n",
              "      <th>Levels</th>\n",
              "    </tr>\n",
              "  </thead>\n",
              "  <tbody>\n",
              "    <tr>\n",
              "      <th>location_id</th>\n",
              "      <td>object</td>\n",
              "      <td>0</td>\n",
              "      <td>54</td>\n",
              "      <td>['location_1' 'location_2' 'location_3' 'locat...</td>\n",
              "    </tr>\n",
              "    <tr>\n",
              "      <th>city</th>\n",
              "      <td>object</td>\n",
              "      <td>0</td>\n",
              "      <td>22</td>\n",
              "      <td>['Bengaluru' 'Delhi' 'Kolkata' 'Noida' 'Vijaya...</td>\n",
              "    </tr>\n",
              "    <tr>\n",
              "      <th>state</th>\n",
              "      <td>object</td>\n",
              "      <td>0</td>\n",
              "      <td>13</td>\n",
              "      <td>['Karnataka' 'NCR' 'West Bengal' 'Uttar Prades...</td>\n",
              "    </tr>\n",
              "    <tr>\n",
              "      <th>type</th>\n",
              "      <td>object</td>\n",
              "      <td>0</td>\n",
              "      <td>5</td>\n",
              "      <td>['D' 'B' 'C' 'E' 'A']</td>\n",
              "    </tr>\n",
              "    <tr>\n",
              "      <th>cluster</th>\n",
              "      <td>int64</td>\n",
              "      <td>0</td>\n",
              "      <td>17</td>\n",
              "      <td>[13 8 9 4 6 15 7 3 12 16 1 10 2 5 11 14 17]</td>\n",
              "    </tr>\n",
              "  </tbody>\n",
              "</table>\n",
              "</div>"
            ],
            "text/plain": [
              "            Data type  ...                                             Levels\n",
              "location_id    object  ...  ['location_1' 'location_2' 'location_3' 'locat...\n",
              "city           object  ...  ['Bengaluru' 'Delhi' 'Kolkata' 'Noida' 'Vijaya...\n",
              "state          object  ...  ['Karnataka' 'NCR' 'West Bengal' 'Uttar Prades...\n",
              "type           object  ...                              ['D' 'B' 'C' 'E' 'A']\n",
              "cluster         int64  ...        [13 8 9 4 6 15 7 3 12 16 1 10 2 5 11 14 17]\n",
              "\n",
              "[5 rows x 4 columns]"
            ]
          },
          "metadata": {
            "tags": []
          },
          "execution_count": 14
        }
      ]
    },
    {
      "cell_type": "code",
      "metadata": {
        "colab_type": "code",
        "id": "3njzt_D5qzUt",
        "outputId": "b1b9a3ce-337f-4608-e4d2-6cc3b7b4fdc3",
        "colab": {
          "base_uri": "https://localhost:8080/",
          "height": 166
        }
      },
      "source": [
        "inspect_data(item_details)"
      ],
      "execution_count": 0,
      "outputs": [
        {
          "output_type": "execute_result",
          "data": {
            "text/html": [
              "<div>\n",
              "<style scoped>\n",
              "    .dataframe tbody tr th:only-of-type {\n",
              "        vertical-align: middle;\n",
              "    }\n",
              "\n",
              "    .dataframe tbody tr th {\n",
              "        vertical-align: top;\n",
              "    }\n",
              "\n",
              "    .dataframe thead th {\n",
              "        text-align: right;\n",
              "    }\n",
              "</style>\n",
              "<table border=\"1\" class=\"dataframe\">\n",
              "  <thead>\n",
              "    <tr style=\"text-align: right;\">\n",
              "      <th></th>\n",
              "      <th>Data type</th>\n",
              "      <th>NUll Values</th>\n",
              "      <th>No of Levels</th>\n",
              "      <th>Levels</th>\n",
              "    </tr>\n",
              "  </thead>\n",
              "  <tbody>\n",
              "    <tr>\n",
              "      <th>item_id</th>\n",
              "      <td>object</td>\n",
              "      <td>0</td>\n",
              "      <td>4100</td>\n",
              "      <td>['item_96995' 'item_99197' 'item_103501' ... '...</td>\n",
              "    </tr>\n",
              "    <tr>\n",
              "      <th>category_of_item</th>\n",
              "      <td>object</td>\n",
              "      <td>0</td>\n",
              "      <td>30</td>\n",
              "      <td>['grocery_items' 'cleaning_utilities' 'baked_i...</td>\n",
              "    </tr>\n",
              "    <tr>\n",
              "      <th>class</th>\n",
              "      <td>object</td>\n",
              "      <td>0</td>\n",
              "      <td>337</td>\n",
              "      <td>['class_1093' 'class_1067' 'class_3008' 'class...</td>\n",
              "    </tr>\n",
              "    <tr>\n",
              "      <th>perishable</th>\n",
              "      <td>int64</td>\n",
              "      <td>0</td>\n",
              "      <td>2</td>\n",
              "      <td>[0 1]</td>\n",
              "    </tr>\n",
              "  </tbody>\n",
              "</table>\n",
              "</div>"
            ],
            "text/plain": [
              "                 Data type  ...                                             Levels\n",
              "item_id             object  ...  ['item_96995' 'item_99197' 'item_103501' ... '...\n",
              "category_of_item    object  ...  ['grocery_items' 'cleaning_utilities' 'baked_i...\n",
              "class               object  ...  ['class_1093' 'class_1067' 'class_3008' 'class...\n",
              "perishable           int64  ...                                              [0 1]\n",
              "\n",
              "[4 rows x 4 columns]"
            ]
          },
          "metadata": {
            "tags": []
          },
          "execution_count": 15
        }
      ]
    },
    {
      "cell_type": "code",
      "metadata": {
        "colab_type": "code",
        "id": "QqBUzm0Aq5Rb",
        "outputId": "bceae2fa-f2f0-4b2d-b2e3-9c9f6f724da9",
        "colab": {
          "base_uri": "https://localhost:8080/",
          "height": 137
        }
      },
      "source": [
        "inspect_data(train_trans)"
      ],
      "execution_count": 0,
      "outputs": [
        {
          "output_type": "execute_result",
          "data": {
            "text/html": [
              "<div>\n",
              "<style scoped>\n",
              "    .dataframe tbody tr th:only-of-type {\n",
              "        vertical-align: middle;\n",
              "    }\n",
              "\n",
              "    .dataframe tbody tr th {\n",
              "        vertical-align: top;\n",
              "    }\n",
              "\n",
              "    .dataframe thead th {\n",
              "        text-align: right;\n",
              "    }\n",
              "</style>\n",
              "<table border=\"1\" class=\"dataframe\">\n",
              "  <thead>\n",
              "    <tr style=\"text-align: right;\">\n",
              "      <th></th>\n",
              "      <th>Data type</th>\n",
              "      <th>NUll Values</th>\n",
              "      <th>No of Levels</th>\n",
              "      <th>Levels</th>\n",
              "    </tr>\n",
              "  </thead>\n",
              "  <tbody>\n",
              "    <tr>\n",
              "      <th>date</th>\n",
              "      <td>object</td>\n",
              "      <td>0</td>\n",
              "      <td>1454</td>\n",
              "      <td>['2015-01-01' '2015-01-02' '2015-01-03' ... '2...</td>\n",
              "    </tr>\n",
              "    <tr>\n",
              "      <th>location_identifier</th>\n",
              "      <td>object</td>\n",
              "      <td>0</td>\n",
              "      <td>53</td>\n",
              "      <td>['location_25' 'location_1' 'location_2' 'loca...</td>\n",
              "    </tr>\n",
              "    <tr>\n",
              "      <th>transactions</th>\n",
              "      <td>int64</td>\n",
              "      <td>0</td>\n",
              "      <td>4912</td>\n",
              "      <td>[770 2111 2358 ... 5598 5304 5259]</td>\n",
              "    </tr>\n",
              "  </tbody>\n",
              "</table>\n",
              "</div>"
            ],
            "text/plain": [
              "                    Data type  ...                                             Levels\n",
              "date                   object  ...  ['2015-01-01' '2015-01-02' '2015-01-03' ... '2...\n",
              "location_identifier    object  ...  ['location_25' 'location_1' 'location_2' 'loca...\n",
              "transactions            int64  ...                 [770 2111 2358 ... 5598 5304 5259]\n",
              "\n",
              "[3 rows x 4 columns]"
            ]
          },
          "metadata": {
            "tags": []
          },
          "execution_count": 16
        }
      ]
    },
    {
      "cell_type": "code",
      "metadata": {
        "colab_type": "code",
        "id": "ERec0QR6q8dm",
        "colab": {}
      },
      "source": [
        "\n",
        "number_of_location_train=train['locationId'].nunique()\n",
        "number_of_locatins_location_details=location_details['location_id'].nunique()\n",
        "import matplotlib.pyplot as plt\n",
        "import seaborn as sns\n",
        "x=[number_of_location_train,number_of_locatins_location_details]\n",
        "y=['number_of_location_train','number_of_locatins_location_details']"
      ],
      "execution_count": 0,
      "outputs": []
    },
    {
      "cell_type": "code",
      "metadata": {
        "colab_type": "code",
        "id": "iymJC39KzUQ1",
        "outputId": "c38f1df2-ee2b-4752-e1a0-de46b0223694",
        "colab": {
          "base_uri": "https://localhost:8080/",
          "height": 107
        }
      },
      "source": [
        "\n",
        "data = [['number_of_location_train', number_of_location_train], ['number_of_locatins_location_details', number_of_locatins_location_details]]\n",
        "d=pd.DataFrame(data,columns=['name','frequency'])\n",
        "d"
      ],
      "execution_count": 0,
      "outputs": [
        {
          "output_type": "execute_result",
          "data": {
            "text/html": [
              "<div>\n",
              "<style scoped>\n",
              "    .dataframe tbody tr th:only-of-type {\n",
              "        vertical-align: middle;\n",
              "    }\n",
              "\n",
              "    .dataframe tbody tr th {\n",
              "        vertical-align: top;\n",
              "    }\n",
              "\n",
              "    .dataframe thead th {\n",
              "        text-align: right;\n",
              "    }\n",
              "</style>\n",
              "<table border=\"1\" class=\"dataframe\">\n",
              "  <thead>\n",
              "    <tr style=\"text-align: right;\">\n",
              "      <th></th>\n",
              "      <th>name</th>\n",
              "      <th>frequency</th>\n",
              "    </tr>\n",
              "  </thead>\n",
              "  <tbody>\n",
              "    <tr>\n",
              "      <th>0</th>\n",
              "      <td>number_of_location_train</td>\n",
              "      <td>53</td>\n",
              "    </tr>\n",
              "    <tr>\n",
              "      <th>1</th>\n",
              "      <td>number_of_locatins_location_details</td>\n",
              "      <td>54</td>\n",
              "    </tr>\n",
              "  </tbody>\n",
              "</table>\n",
              "</div>"
            ],
            "text/plain": [
              "                                  name  frequency\n",
              "0             number_of_location_train         53\n",
              "1  number_of_locatins_location_details         54"
            ]
          },
          "metadata": {
            "tags": []
          },
          "execution_count": 9
        }
      ]
    },
    {
      "cell_type": "code",
      "metadata": {
        "colab_type": "code",
        "id": "SHkqFaFnk9fb",
        "colab": {}
      },
      "source": [
        ""
      ],
      "execution_count": 0,
      "outputs": []
    },
    {
      "cell_type": "code",
      "metadata": {
        "colab_type": "code",
        "id": "Kt5-yJTE0nTU",
        "outputId": "d821ad7d-4621-4ce6-97da-a2ed3f90eeb8",
        "colab": {
          "base_uri": "https://localhost:8080/",
          "height": 467
        }
      },
      "source": [
        "d.plot(x='name',y='frequency',kind='bar')"
      ],
      "execution_count": 0,
      "outputs": [
        {
          "output_type": "execute_result",
          "data": {
            "text/plain": [
              "<matplotlib.axes._subplots.AxesSubplot at 0x7f8926174dd8>"
            ]
          },
          "metadata": {
            "tags": []
          },
          "execution_count": 10
        },
        {
          "output_type": "display_data",
          "data": {
            "image/png": "[encoded data removed]",
            "text/plain": [
              "<Figure size 432x288 with 1 Axes>"
            ]
          },
          "metadata": {
            "tags": []
          }
        }
      ]
    },
    {
      "cell_type": "markdown",
      "metadata": {
        "colab_type": "text",
        "id": "QOnM3qko2ell"
      },
      "source": [
        "## Plot to show the number of locations in train data and locations file."
      ]
    },
    {
      "cell_type": "code",
      "metadata": {
        "colab_type": "code",
        "id": "cmbCCHad1IRq",
        "outputId": "99b949ec-f890-4e4b-ae43-eda5530afa61",
        "colab": {
          "base_uri": "https://localhost:8080/",
          "height": 385
        }
      },
      "source": [
        "print(train['locationId'].unique())\n",
        "print(location_details['location_id'].unique())"
      ],
      "execution_count": 0,
      "outputs": [
        {
          "output_type": "stream",
          "text": [
            "['location_25' 'location_1' 'location_2' 'location_3' 'location_4'\n",
            " 'location_5' 'location_6' 'location_7' 'location_8' 'location_9'\n",
            " 'location_10' 'location_11' 'location_12' 'location_13' 'location_14'\n",
            " 'location_15' 'location_16' 'location_17' 'location_18' 'location_19'\n",
            " 'location_23' 'location_24' 'location_26' 'location_27' 'location_28'\n",
            " 'location_30' 'location_31' 'location_32' 'location_33' 'location_34'\n",
            " 'location_35' 'location_37' 'location_38' 'location_39' 'location_40'\n",
            " 'location_41' 'location_43' 'location_44' 'location_45' 'location_46'\n",
            " 'location_47' 'location_48' 'location_49' 'location_50' 'location_51'\n",
            " 'location_54' 'location_36' 'location_53' 'location_20' 'location_29'\n",
            " 'location_21' 'location_42' 'location_22']\n",
            "['location_1' 'location_2' 'location_3' 'location_4' 'location_5'\n",
            " 'location_6' 'location_7' 'location_8' 'location_9' 'location_10'\n",
            " 'location_11' 'location_12' 'location_13' 'location_14' 'location_15'\n",
            " 'location_16' 'location_17' 'location_18' 'location_19' 'location_20'\n",
            " 'location_21' 'location_22' 'location_23' 'location_24' 'location_25'\n",
            " 'location_26' 'location_27' 'location_28' 'location_29' 'location_30'\n",
            " 'location_31' 'location_32' 'location_33' 'location_34' 'location_35'\n",
            " 'location_36' 'location_37' 'location_38' 'location_39' 'location_40'\n",
            " 'location_41' 'location_42' 'location_43' 'location_44' 'location_45'\n",
            " 'location_46' 'location_47' 'location_48' 'location_49' 'location_50'\n",
            " 'location_51' 'location_52' 'location_53' 'location_54']\n"
          ],
          "name": "stdout"
        }
      ]
    },
    {
      "cell_type": "markdown",
      "metadata": {
        "colab_type": "text",
        "id": "-5qR1DH_1NkJ"
      },
      "source": [
        "## **1'st insight **\n",
        "\n",
        "\n",
        "\n",
        "1.   No of locations in train dataset=53\n",
        "2.   No of locations in locations data set =54\n",
        "\n",
        "Therefore either data is not recorded for that warehouse or the warehouse has no units in it.\n",
        "\n",
        "### The ware house with no units sold is the ware house in chennai,Tamilnadu state (location_52)\n",
        "\n"
      ]
    },
    {
      "cell_type": "code",
      "metadata": {
        "colab_type": "code",
        "id": "mEpUegtQ1D-f",
        "outputId": "41d1ba0b-5373-46b2-f3a1-713bbe69532c",
        "colab": {
          "base_uri": "https://localhost:8080/",
          "height": 50
        }
      },
      "source": [
        "##Checking the unique itemId's in train and items.\n",
        "print(train['item_id'].nunique())\n",
        "print(item_details['item_id'].nunique())"
      ],
      "execution_count": 0,
      "outputs": [
        {
          "output_type": "stream",
          "text": [
            "3890\n",
            "4100\n"
          ],
          "name": "stdout"
        }
      ]
    },
    {
      "cell_type": "code",
      "metadata": {
        "colab_type": "code",
        "id": "ujSKO9hM5rwN",
        "outputId": "23e3c342-a777-4361-898f-c37e467e844d",
        "colab": {
          "base_uri": "https://localhost:8080/",
          "height": 1000
        }
      },
      "source": [
        " set(item_details['item_id'].unique())-set(train['item_id'].unique()) "
      ],
      "execution_count": 0,
      "outputs": [
        {
          "output_type": "execute_result",
          "data": {
            "text/plain": [
              "{'item_1464607',\n",
              " 'item_1467088',\n",
              " 'item_1467093',\n",
              " 'item_1921118',\n",
              " 'item_2011437',\n",
              " 'item_2011448',\n",
              " 'item_2011450',\n",
              " 'item_2011451',\n",
              " 'item_2011457',\n",
              " 'item_2011459',\n",
              " 'item_2011468',\n",
              " 'item_2011470',\n",
              " 'item_2011471',\n",
              " 'item_2015646',\n",
              " 'item_2015898',\n",
              " 'item_2027559',\n",
              " 'item_2033554',\n",
              " 'item_2035576',\n",
              " 'item_2042614',\n",
              " 'item_2043261',\n",
              " 'item_2043559',\n",
              " 'item_2043795',\n",
              " 'item_2043849',\n",
              " 'item_2045162',\n",
              " 'item_2045545',\n",
              " 'item_2046260',\n",
              " 'item_2046805',\n",
              " 'item_2046903',\n",
              " 'item_2046916',\n",
              " 'item_2047495',\n",
              " 'item_2047496',\n",
              " 'item_2047506',\n",
              " 'item_2047508',\n",
              " 'item_2047752',\n",
              " 'item_2048164',\n",
              " 'item_2048358',\n",
              " 'item_2048399',\n",
              " 'item_2048546',\n",
              " 'item_2048596',\n",
              " 'item_2048954',\n",
              " 'item_2049003',\n",
              " 'item_2049026',\n",
              " 'item_2049081',\n",
              " 'item_2049304',\n",
              " 'item_2049778',\n",
              " 'item_2051064',\n",
              " 'item_2052563',\n",
              " 'item_2053415',\n",
              " 'item_2053564',\n",
              " 'item_2053590',\n",
              " 'item_2053610',\n",
              " 'item_2053614',\n",
              " 'item_2053630',\n",
              " 'item_2053751',\n",
              " 'item_2053874',\n",
              " 'item_2054300',\n",
              " 'item_2054580',\n",
              " 'item_2054605',\n",
              " 'item_2054635',\n",
              " 'item_2054903',\n",
              " 'item_2056557',\n",
              " 'item_2056764',\n",
              " 'item_2056876',\n",
              " 'item_2057033',\n",
              " 'item_2057387',\n",
              " 'item_2057442',\n",
              " 'item_2057762',\n",
              " 'item_2058362',\n",
              " 'item_2058758',\n",
              " 'item_2058764',\n",
              " 'item_2058895',\n",
              " 'item_2059122',\n",
              " 'item_2059277',\n",
              " 'item_2059342',\n",
              " 'item_2059647',\n",
              " 'item_2059799',\n",
              " 'item_2060787',\n",
              " 'item_2060793',\n",
              " 'item_2060910',\n",
              " 'item_2061025',\n",
              " 'item_2061033',\n",
              " 'item_2061121',\n",
              " 'item_2061214',\n",
              " 'item_2061404',\n",
              " 'item_2061781',\n",
              " 'item_2062477',\n",
              " 'item_2062912',\n",
              " 'item_2067056',\n",
              " 'item_2067123',\n",
              " 'item_2067333',\n",
              " 'item_2072545',\n",
              " 'item_2075374',\n",
              " 'item_2083837',\n",
              " 'item_2083859',\n",
              " 'item_2084278',\n",
              " 'item_2084557',\n",
              " 'item_2084706',\n",
              " 'item_2086882',\n",
              " 'item_2087374',\n",
              " 'item_2087409',\n",
              " 'item_2087543',\n",
              " 'item_2087567',\n",
              " 'item_2087933',\n",
              " 'item_2087978',\n",
              " 'item_2088922',\n",
              " 'item_2088946',\n",
              " 'item_2089036',\n",
              " 'item_2089224',\n",
              " 'item_2089250',\n",
              " 'item_2089789',\n",
              " 'item_2106464',\n",
              " 'item_2109909',\n",
              " 'item_2109969',\n",
              " 'item_2110456',\n",
              " 'item_2111684',\n",
              " 'item_2112280',\n",
              " 'item_2112303',\n",
              " 'item_2112461',\n",
              " 'item_2112462',\n",
              " 'item_2112607',\n",
              " 'item_2113343',\n",
              " 'item_2113914',\n",
              " 'item_2114566',\n",
              " 'item_2114752',\n",
              " 'item_2114812',\n",
              " 'item_2116132',\n",
              " 'item_2116139',\n",
              " 'item_2116238',\n",
              " 'item_2116416',\n",
              " 'item_2116470',\n",
              " 'item_2117783',\n",
              " 'item_2118397',\n",
              " 'item_2118662',\n",
              " 'item_2120180',\n",
              " 'item_2120216',\n",
              " 'item_2120506',\n",
              " 'item_2120681',\n",
              " 'item_2120723',\n",
              " 'item_2120768',\n",
              " 'item_2121319',\n",
              " 'item_2121610',\n",
              " 'item_2121690',\n",
              " 'item_2122188',\n",
              " 'item_2122676',\n",
              " 'item_2122818',\n",
              " 'item_2122868',\n",
              " 'item_2122947',\n",
              " 'item_2123036',\n",
              " 'item_2123209',\n",
              " 'item_2123410',\n",
              " 'item_2123463',\n",
              " 'item_2123468',\n",
              " 'item_2123711',\n",
              " 'item_2123727',\n",
              " 'item_2123747',\n",
              " 'item_2123750',\n",
              " 'item_2123775',\n",
              " 'item_2123790',\n",
              " 'item_2123791',\n",
              " 'item_2123839',\n",
              " 'item_2123859',\n",
              " 'item_2123863',\n",
              " 'item_2124705',\n",
              " 'item_2125814',\n",
              " 'item_2126696',\n",
              " 'item_2126842',\n",
              " 'item_2126944',\n",
              " 'item_2127024',\n",
              " 'item_2127069',\n",
              " 'item_2127114',\n",
              " 'item_2127175',\n",
              " 'item_2127206',\n",
              " 'item_2127544',\n",
              " 'item_2127651',\n",
              " 'item_2127733',\n",
              " 'item_2127825',\n",
              " 'item_2127921',\n",
              " 'item_2127992',\n",
              " 'item_2128628',\n",
              " 'item_2128799',\n",
              " 'item_2129334',\n",
              " 'item_2129350',\n",
              " 'item_2129387',\n",
              " 'item_2129515',\n",
              " 'item_2129616',\n",
              " 'item_2129678',\n",
              " 'item_2129786',\n",
              " 'item_2129790',\n",
              " 'item_2129892',\n",
              " 'item_2129994',\n",
              " 'item_2130131',\n",
              " 'item_2130219',\n",
              " 'item_2130265',\n",
              " 'item_2130352',\n",
              " 'item_2130474',\n",
              " 'item_2130521',\n",
              " 'item_2130526',\n",
              " 'item_2130553',\n",
              " 'item_2131010',\n",
              " 'item_2131572',\n",
              " 'item_2131699',\n",
              " 'item_2132163',\n",
              " 'item_2132318',\n",
              " 'item_2132945',\n",
              " 'item_2132957',\n",
              " 'item_2134058',\n",
              " 'item_2134244',\n",
              " 'item_313094',\n",
              " 'item_766493',\n",
              " 'item_906981'}"
            ]
          },
          "metadata": {
            "tags": []
          },
          "execution_count": 54
        }
      ]
    },
    {
      "cell_type": "code",
      "metadata": {
        "colab_type": "code",
        "id": "i5UpUKwV6akJ",
        "colab": {}
      },
      "source": [
        ""
      ],
      "execution_count": 0,
      "outputs": []
    },
    {
      "cell_type": "markdown",
      "metadata": {
        "colab_type": "text",
        "id": "RzGp5p9v6mZz"
      },
      "source": [
        "# 2'nd Insight \n",
        "\n",
        "These are the list of items that can have less number of unit in the warehouses as these units are not at all sold in the last 4 years according to the data.\n",
        "\n",
        "'item_1464607',\n",
        " 'item_1467088',\n",
        " 'item_1467093',\n",
        " 'item_1921118',\n",
        " 'item_2011437',\n",
        " 'item_2011448',\n",
        " 'item_2011450',\n",
        " 'item_2011451',\n",
        " 'item_2011457',\n",
        " 'item_2011459',\n",
        " 'item_2011468',\n",
        " 'item_2011470',\n",
        " 'item_2011471',\n",
        " 'item_2015646',\n",
        " 'item_2015898',\n",
        " 'item_2027559',\n",
        " 'item_2033554',\n",
        " 'item_2035576',\n",
        " 'item_2042614',\n",
        " 'item_2043261',\n",
        " 'item_2043559',\n",
        " 'item_2043795',\n",
        " 'item_2043849',\n",
        " 'item_2045162',\n",
        " 'item_2045545',\n",
        " 'item_2046260',\n",
        " 'item_2046805',\n",
        " 'item_2046903',\n",
        " 'item_2046916',\n",
        " 'item_2047495',\n",
        " 'item_2047496',\n",
        " 'item_2047506',\n",
        " 'item_2047508',\n",
        " 'item_2047752',\n",
        " 'item_2048164',\n",
        " 'item_2048358',\n",
        " 'item_2048399',\n",
        " 'item_2048546',\n",
        " 'item_2048596',\n",
        " 'item_2048954',\n",
        " 'item_2049003',\n",
        " 'item_2049026',\n",
        " 'item_2049081',\n",
        " 'item_2049304',\n",
        " 'item_2049778',\n",
        " 'item_2051064',\n",
        " 'item_2052563',\n",
        " 'item_2053415',\n",
        " 'item_2053564',\n",
        " 'item_2053590',\n",
        " 'item_2053610',\n",
        " 'item_2053614',\n",
        " 'item_2053630',\n",
        " 'item_2053751',\n",
        " 'item_2053874',\n",
        " 'item_2054300',\n",
        " 'item_2054580',\n",
        " 'item_2054605',\n",
        " 'item_2054635',\n",
        " 'item_2054903',\n",
        " 'item_2056557',\n",
        " 'item_2056764',\n",
        " 'item_2056876',\n",
        " 'item_2057033',\n",
        " 'item_2057387',\n",
        " 'item_2057442',\n",
        " 'item_2057762',\n",
        " 'item_2058362',\n",
        " 'item_2058758',\n",
        " 'item_2058764',\n",
        " 'item_2058895',\n",
        " 'item_2059122',\n",
        " 'item_2059277',\n",
        " 'item_2059342',\n",
        " 'item_2059647',\n",
        " 'item_2059799',\n",
        " 'item_2060787',\n",
        " 'item_2060793',\n",
        " 'item_2060910',\n",
        " 'item_2061025',\n",
        " 'item_2061033',\n",
        " 'item_2061121',\n",
        " 'item_2061214',\n",
        " 'item_2061404',\n",
        " 'item_2061781',\n",
        " 'item_2062477',\n",
        " 'item_2062912',\n",
        " 'item_2067056',\n",
        " 'item_2067123',\n",
        " 'item_2067333',\n",
        " 'item_2072545',\n",
        " 'item_2075374',\n",
        " 'item_2083837',\n",
        " 'item_2083859',\n",
        " 'item_2084278',\n",
        " 'item_2084557',\n",
        " 'item_2084706',\n",
        " 'item_2086882',\n",
        " 'item_2087374',\n",
        " 'item_2087409',\n",
        " 'item_2087543',\n",
        " 'item_2087567',\n",
        " 'item_2087933',\n",
        " 'item_2087978',\n",
        " 'item_2088922',\n",
        " 'item_2088946',\n",
        " 'item_2089036',\n",
        " 'item_2089224',\n",
        " 'item_2089250',\n",
        " 'item_2089789',\n",
        " 'item_2106464',\n",
        " 'item_2109909',\n",
        " 'item_2109969',\n",
        " 'item_2110456',\n",
        " 'item_2111684',\n",
        " 'item_2112280',\n",
        " 'item_2112303',\n",
        " 'item_2112461',\n",
        " 'item_2112462',\n",
        " 'item_2112607',\n",
        " 'item_2113343',\n",
        " 'item_2113914',\n",
        " 'item_2114566',\n",
        " 'item_2114752',\n",
        " 'item_2114812',\n",
        " 'item_2116132',\n",
        " 'item_2116139',\n",
        " 'item_2116238',\n",
        " 'item_2116416',\n",
        " 'item_2116470',\n",
        " 'item_2117783',\n",
        " 'item_2118397',\n",
        " 'item_2118662',\n",
        " 'item_2120180',\n",
        " 'item_2120216',\n",
        " 'item_2120506',\n",
        " 'item_2120681',\n",
        " 'item_2120723',\n",
        " 'item_2120768',\n",
        " 'item_2121319',\n",
        " 'item_2121610',\n",
        " 'item_2121690',\n",
        " 'item_2122188',\n",
        " 'item_2122676',\n",
        " 'item_2122818',\n",
        " 'item_2122868',\n",
        " 'item_2122947',\n",
        " 'item_2123036',\n",
        " 'item_2123209',\n",
        " 'item_2123410',\n",
        " 'item_2123463',\n",
        " 'item_2123468',\n",
        " 'item_2123711',\n",
        " 'item_2123727',\n",
        " 'item_2123747',\n",
        " 'item_2123750',\n",
        " 'item_2123775',\n",
        " 'item_2123790',\n",
        " 'item_2123791',\n",
        " 'item_2123839',\n",
        " 'item_2123859',\n",
        " 'item_2123863',\n",
        " 'item_2124705',\n",
        " 'item_2125814',\n",
        " 'item_2126696',\n",
        " 'item_2126842',\n",
        " 'item_2126944',\n",
        " 'item_2127024',\n",
        " 'item_2127069',\n",
        " 'item_2127114',\n",
        " 'item_2127175',\n",
        " 'item_2127206',\n",
        " 'item_2127544',\n",
        " 'item_2127651',\n",
        " 'item_2127733',\n",
        " 'item_2127825',\n",
        " 'item_2127921',\n",
        " 'item_2127992',\n",
        " 'item_2128628',\n",
        " 'item_2128799',\n",
        " 'item_2129334',\n",
        " 'item_2129350',\n",
        " 'item_2129387',\n",
        " 'item_2129515',\n",
        " 'item_2129616',\n",
        " 'item_2129678',\n",
        " 'item_2129786',\n",
        " 'item_2129790',\n",
        " 'item_2129892',\n",
        " 'item_2129994',\n",
        " 'item_2130131',\n",
        " 'item_2130219',\n",
        " 'item_2130265',\n",
        " 'item_2130352',\n",
        " 'item_2130474',\n",
        " 'item_2130521',\n",
        " 'item_2130526',\n",
        " 'item_2130553',\n",
        " 'item_2131010',\n",
        " 'item_2131572',\n",
        " 'item_2131699',\n",
        " 'item_2132163',\n",
        " 'item_2132318',\n",
        " 'item_2132945',\n",
        " 'item_2132957',\n",
        " 'item_2134058',\n",
        " 'item_2134244',\n",
        " 'item_313094',\n",
        " 'item_766493',\n",
        " 'item_906981'\n",
        "\n"
      ]
    },
    {
      "cell_type": "code",
      "metadata": {
        "colab_type": "code",
        "id": "rp-g8UGP6RHz",
        "colab": {}
      },
      "source": [
        ""
      ],
      "execution_count": 0,
      "outputs": []
    },
    {
      "cell_type": "code",
      "metadata": {
        "colab_type": "code",
        "id": "7APUBBBH5oNT",
        "colab": {}
      },
      "source": [
        ""
      ],
      "execution_count": 0,
      "outputs": []
    },
    {
      "cell_type": "markdown",
      "metadata": {
        "colab_type": "text",
        "id": "JL_FtmzJB8of"
      },
      "source": [
        "## Handling NA values\n",
        "\n",
        " Na values are preasent only in the train data set in the '**onpromotion**' column.\n"
      ]
    },
    {
      "cell_type": "code",
      "metadata": {
        "colab_type": "code",
        "id": "E1vxXzqZZrNv",
        "outputId": "e49fa644-f07d-4942-f8e5-6c8b801fe075",
        "colab": {
          "base_uri": "https://localhost:8080/",
          "height": 50
        }
      },
      "source": [
        "a=train.onpromotion.mode()\n",
        "print(a)"
      ],
      "execution_count": 0,
      "outputs": [
        {
          "output_type": "stream",
          "text": [
            "0    False\n",
            "dtype: object\n"
          ],
          "name": "stdout"
        }
      ]
    },
    {
      "cell_type": "code",
      "metadata": {
        "colab_type": "code",
        "id": "sXlDbLZVcr4C",
        "outputId": "91e54545-1f8d-43b0-deb1-7394f7dde7af",
        "colab": {
          "base_uri": "https://localhost:8080/",
          "height": 309
        }
      },
      "source": [
        "##So we found out that the mode is False so i decided to fill the na's with mode\n",
        "\n",
        "pd.value_counts(train['onpromotion']).plot.bar()"
      ],
      "execution_count": 0,
      "outputs": [
        {
          "output_type": "execute_result",
          "data": {
            "text/plain": [
              "<matplotlib.axes._subplots.AxesSubplot at 0x7ff3114c3a90>"
            ]
          },
          "metadata": {
            "tags": []
          },
          "execution_count": 97
        },
        {
          "output_type": "display_data",
          "data": {
            "image/png": "[encoded data removed]",
            "text/plain": [
              "<Figure size 432x288 with 1 Axes>"
            ]
          },
          "metadata": {
            "tags": []
          }
        }
      ]
    },
    {
      "cell_type": "markdown",
      "metadata": {
        "colab_type": "text",
        "id": "HCArxlQF2_D_"
      },
      "source": [
        "Plot for value counts before handling NA values"
      ]
    },
    {
      "cell_type": "code",
      "metadata": {
        "colab_type": "code",
        "id": "NZnNvjP6dI3d",
        "outputId": "f057b196-bcf5-4e7e-869e-bff3f641beac",
        "colab": {
          "base_uri": "https://localhost:8080/",
          "height": 67
        }
      },
      "source": [
        "train['onpromotion'].value_counts()"
      ],
      "execution_count": 0,
      "outputs": [
        {
          "output_type": "execute_result",
          "data": {
            "text/plain": [
              "False    74970155\n",
              "True      5060973\n",
              "Name: onpromotion, dtype: int64"
            ]
          },
          "metadata": {
            "tags": []
          },
          "execution_count": 98
        }
      ]
    },
    {
      "cell_type": "code",
      "metadata": {
        "colab_type": "code",
        "id": "EDEfxoCzdheZ",
        "outputId": "f01c7125-7690-4d3a-8173-f8c065028a92",
        "colab": {
          "base_uri": "https://localhost:8080/",
          "height": 117
        }
      },
      "source": [
        "train.isna().sum()"
      ],
      "execution_count": 0,
      "outputs": [
        {
          "output_type": "execute_result",
          "data": {
            "text/plain": [
              "date                  0\n",
              "locationId            0\n",
              "item_id               0\n",
              "unit_sales            0\n",
              "onpromotion    21657651\n",
              "dtype: int64"
            ]
          },
          "metadata": {
            "tags": []
          },
          "execution_count": 99
        }
      ]
    },
    {
      "cell_type": "code",
      "metadata": {
        "colab_type": "code",
        "id": "58Tb7rpbdqWP",
        "colab": {}
      },
      "source": [
        "train['onpromotion'] =train['onpromotion'].fillna(train['onpromotion'].mode()[0])"
      ],
      "execution_count": 0,
      "outputs": []
    },
    {
      "cell_type": "code",
      "metadata": {
        "colab_type": "code",
        "id": "CdMPWYZJeFvw",
        "outputId": "702ca0cd-97c1-462d-d183-2c367d6585f9",
        "colab": {
          "base_uri": "https://localhost:8080/",
          "height": 309
        }
      },
      "source": [
        "##plot of value counts of on promotion after filling the NA values\n",
        "\n",
        "pd.value_counts(train['onpromotion']).plot.bar()"
      ],
      "execution_count": 0,
      "outputs": [
        {
          "output_type": "execute_result",
          "data": {
            "text/plain": [
              "<matplotlib.axes._subplots.AxesSubplot at 0x7ff30d169a90>"
            ]
          },
          "metadata": {
            "tags": []
          },
          "execution_count": 107
        },
        {
          "output_type": "display_data",
          "data": {
            "image/png": "[encoded data removed]",
            "text/plain": [
              "<Figure size 432x288 with 1 Axes>"
            ]
          },
          "metadata": {
            "tags": []
          }
        }
      ]
    },
    {
      "cell_type": "markdown",
      "metadata": {
        "colab_type": "text",
        "id": "67PDECWm24ai"
      },
      "source": [
        "Plot after handling NA values after filling it with mode."
      ]
    },
    {
      "cell_type": "code",
      "metadata": {
        "colab_type": "code",
        "id": "k5FQiQWLgiye",
        "outputId": "3ef7fb36-e62b-418d-e83a-20a65a1bca99",
        "colab": {
          "base_uri": "https://localhost:8080/",
          "height": 33
        }
      },
      "source": [
        "##Shape of train before Dropping duplicate values from\n",
        "train.shape"
      ],
      "execution_count": 0,
      "outputs": [
        {
          "output_type": "execute_result",
          "data": {
            "text/plain": [
              "(101688779, 5)"
            ]
          },
          "metadata": {
            "tags": []
          },
          "execution_count": 108
        }
      ]
    },
    {
      "cell_type": "code",
      "metadata": {
        "colab_type": "code",
        "id": "neQlG-i0jQ8E",
        "colab": {}
      },
      "source": [
        "train=train.drop_duplicates()"
      ],
      "execution_count": 0,
      "outputs": []
    },
    {
      "cell_type": "code",
      "metadata": {
        "colab_type": "code",
        "id": "tjMILilEjTv7",
        "outputId": "de777782-2383-4379-ceb2-3cf9f98c76a0",
        "colab": {
          "base_uri": "https://localhost:8080/",
          "height": 33
        }
      },
      "source": [
        "##Shape of train after Dropping duplicate values from\n",
        "train.shape"
      ],
      "execution_count": 0,
      "outputs": [
        {
          "output_type": "execute_result",
          "data": {
            "text/plain": [
              "(101678735, 5)"
            ]
          },
          "metadata": {
            "tags": []
          },
          "execution_count": 15
        }
      ]
    },
    {
      "cell_type": "code",
      "metadata": {
        "colab_type": "code",
        "id": "0NdXlLk-mFIr",
        "outputId": "deccd60d-1200-47ca-a651-5023743beffb",
        "colab": {
          "base_uri": "https://localhost:8080/",
          "height": 33
        }
      },
      "source": [
        "##removing unit_sales which are less than zero as the sales can not be less than zero.After observing the description of train datai have noticed that\n",
        "##unit_sales.min() are in negative\n",
        "\n",
        "\n",
        "train[train['unit_sales']<0].shape"
      ],
      "execution_count": 0,
      "outputs": [
        {
          "output_type": "execute_result",
          "data": {
            "text/plain": [
              "(6162, 5)"
            ]
          },
          "metadata": {
            "tags": []
          },
          "execution_count": 16
        }
      ]
    },
    {
      "cell_type": "code",
      "metadata": {
        "colab_type": "code",
        "id": "fRtBwLZznOzu",
        "outputId": "7ddc6079-113a-47e4-e6b7-f41a319a2d55",
        "colab": {
          "base_uri": "https://localhost:8080/",
          "height": 265
        }
      },
      "source": [
        "import matplotlib.pyplot as plt\n",
        "plt.boxplot(train[\"unit_sales\"])\n",
        "plt.show()"
      ],
      "execution_count": 0,
      "outputs": [
        {
          "output_type": "display_data",
          "data": {
            "image/png": "[encoded data removed]",
            "text/plain": [
              "<Figure size 432x288 with 1 Axes>"
            ]
          },
          "metadata": {
            "tags": []
          }
        }
      ]
    },
    {
      "cell_type": "markdown",
      "metadata": {
        "colab_type": "text",
        "id": "-A4z-aue3OOh"
      },
      "source": [
        "Box plot of unit sales.\n",
        "\n",
        "Through this plot i found out that there are negative unit_sales values.\n",
        "\n",
        "These things should be handled."
      ]
    },
    {
      "cell_type": "code",
      "metadata": {
        "colab_type": "code",
        "id": "bEPm4UsNoBoZ",
        "colab": {}
      },
      "source": [
        "##I'm not sure at this point if i should remove the negative unit sales.But let's just check the box plot.\n",
        "#train=train[train.unit_sales >0]"
      ],
      "execution_count": 0,
      "outputs": []
    },
    {
      "cell_type": "code",
      "metadata": {
        "colab_type": "code",
        "id": "j6ViiX1joRJU",
        "outputId": "f3c87f21-7b3c-4024-bfcc-db941786b5ba",
        "colab": {
          "base_uri": "https://localhost:8080/",
          "height": 265
        }
      },
      "source": [
        "plt.boxplot(train[train.unit_sales >0])\n",
        "plt.show()"
      ],
      "execution_count": 0,
      "outputs": [
        {
          "output_type": "display_data",
          "data": {
            "image/png": "[encoded data removed]",
            "text/plain": [
              "<Figure size 432x288 with 1 Axes>"
            ]
          },
          "metadata": {
            "tags": []
          }
        }
      ]
    },
    {
      "cell_type": "markdown",
      "metadata": {
        "colab_type": "text",
        "id": "qXmdc4Br3a2S"
      },
      "source": [
        "Box plot after removing Negative unit_sales."
      ]
    },
    {
      "cell_type": "code",
      "metadata": {
        "colab_type": "code",
        "id": "5cMzqw4uoVg9",
        "outputId": "44b37c5d-fe89-46c2-dffb-0d1999098114",
        "colab": {
          "base_uri": "https://localhost:8080/",
          "height": 117
        }
      },
      "source": [
        "train.dtypes"
      ],
      "execution_count": 0,
      "outputs": [
        {
          "output_type": "execute_result",
          "data": {
            "text/plain": [
              "date            object\n",
              "locationId      object\n",
              "item_id         object\n",
              "unit_sales     float64\n",
              "onpromotion     object\n",
              "dtype: object"
            ]
          },
          "metadata": {
            "tags": []
          },
          "execution_count": 22
        }
      ]
    },
    {
      "cell_type": "markdown",
      "metadata": {
        "colab_type": "text",
        "id": "ZYIfvtF03jkH"
      },
      "source": [
        "converting date data type from object to date"
      ]
    },
    {
      "cell_type": "code",
      "metadata": {
        "colab_type": "code",
        "id": "1TRiZhuYoiT2",
        "colab": {}
      },
      "source": [
        "train['date']=pd.to_datetime(train['date'],format='%Y-%m-%d')"
      ],
      "execution_count": 0,
      "outputs": []
    },
    {
      "cell_type": "code",
      "metadata": {
        "colab_type": "code",
        "id": "sz3Ya-H_oq4p",
        "outputId": "fb7b5acf-3677-4293-d58e-30fa4e3b97d2",
        "colab": {
          "base_uri": "https://localhost:8080/",
          "height": 117
        }
      },
      "source": [
        "train.dtypes"
      ],
      "execution_count": 0,
      "outputs": [
        {
          "output_type": "execute_result",
          "data": {
            "text/plain": [
              "date           datetime64[ns]\n",
              "locationId             object\n",
              "item_id                object\n",
              "unit_sales            float64\n",
              "onpromotion            object\n",
              "dtype: object"
            ]
          },
          "metadata": {
            "tags": []
          },
          "execution_count": 24
        }
      ]
    },
    {
      "cell_type": "code",
      "metadata": {
        "colab_type": "code",
        "id": "4cZBBho6owNS",
        "outputId": "e83f8f50-3870-4069-f491-81043f8e680a",
        "colab": {
          "base_uri": "https://localhost:8080/",
          "height": 297
        }
      },
      "source": [
        "import seaborn as sns\n",
        "sns.distplot(train['unit_sales'])"
      ],
      "execution_count": 0,
      "outputs": [
        {
          "output_type": "execute_result",
          "data": {
            "text/plain": [
              "<matplotlib.axes._subplots.AxesSubplot at 0x7f51344cab70>"
            ]
          },
          "metadata": {
            "tags": []
          },
          "execution_count": 7
        },
        {
          "output_type": "display_data",
          "data": {
            "image/png": "[encoded data removed]",
            "text/plain": [
              "<Figure size 432x288 with 1 Axes>"
            ]
          },
          "metadata": {
            "tags": []
          }
        }
      ]
    },
    {
      "cell_type": "code",
      "metadata": {
        "colab_type": "code",
        "id": "p5s89dDvWlfW",
        "outputId": "a6b1b92f-4c98-48ea-86b3-619e0c51446a",
        "colab": {
          "base_uri": "https://localhost:8080/",
          "height": 330
        }
      },
      "source": [
        "#Trying to check if log(train['unit_sales] make the plot better?)\n",
        "import numpy as np\n",
        "\n",
        "sns.distplot(np.log(train['unit_sales']))"
      ],
      "execution_count": 0,
      "outputs": [
        {
          "output_type": "stream",
          "text": [
            "/usr/local/lib/python3.6/dist-packages/pandas/core/series.py:856: RuntimeWarning: invalid value encountered in log\n",
            "  result = getattr(ufunc, method)(*inputs, **kwargs)\n"
          ],
          "name": "stderr"
        },
        {
          "output_type": "execute_result",
          "data": {
            "text/plain": [
              "<matplotlib.axes._subplots.AxesSubplot at 0x7f5133f03b38>"
            ]
          },
          "metadata": {
            "tags": []
          },
          "execution_count": 10
        },
        {
          "output_type": "display_data",
          "data": {
            "image/png": "[encoded data removed]",
            "text/plain": [
              "<Figure size 432x288 with 1 Axes>"
            ]
          },
          "metadata": {
            "tags": []
          }
        }
      ]
    },
    {
      "cell_type": "code",
      "metadata": {
        "colab_type": "code",
        "id": "Q1Zn_dqPXTjp",
        "outputId": "bae97c42-e8f4-4450-de13-2a739dc89e2e",
        "colab": {
          "base_uri": "https://localhost:8080/",
          "height": 330
        }
      },
      "source": [
        "#Trying to check if sqrt(train['unit_sales] make the plot better?)\n",
        "from math import sqrt\n",
        "sns.distplot(np.sqrt(train['unit_sales']))"
      ],
      "execution_count": 0,
      "outputs": [
        {
          "output_type": "stream",
          "text": [
            "/usr/local/lib/python3.6/dist-packages/pandas/core/series.py:856: RuntimeWarning: invalid value encountered in sqrt\n",
            "  result = getattr(ufunc, method)(*inputs, **kwargs)\n"
          ],
          "name": "stderr"
        },
        {
          "output_type": "execute_result",
          "data": {
            "text/plain": [
              "<matplotlib.axes._subplots.AxesSubplot at 0x7f513377c080>"
            ]
          },
          "metadata": {
            "tags": []
          },
          "execution_count": 12
        },
        {
          "output_type": "display_data",
          "data": {
            "image/png": "[encoded data removed]",
            "text/plain": [
              "<Figure size 432x288 with 1 Axes>"
            ]
          },
          "metadata": {
            "tags": []
          }
        }
      ]
    },
    {
      "cell_type": "code",
      "metadata": {
        "colab_type": "code",
        "id": "t8KxKW4TZxQ6",
        "outputId": "b7981e25-1868-40b9-e39a-3ef16e51c5c8",
        "colab": {
          "base_uri": "https://localhost:8080/",
          "height": 308
        }
      },
      "source": [
        "#square\n",
        "sns.distplot(np.square(train['unit_sales']))"
      ],
      "execution_count": 0,
      "outputs": [
        {
          "output_type": "execute_result",
          "data": {
            "text/plain": [
              "<matplotlib.axes._subplots.AxesSubplot at 0x7f51338d78d0>"
            ]
          },
          "metadata": {
            "tags": []
          },
          "execution_count": 13
        },
        {
          "output_type": "display_data",
          "data": {
            "image/png": "[encoded data removed]",
            "text/plain": [
              "<Figure size 432x288 with 1 Axes>"
            ]
          },
          "metadata": {
            "tags": []
          }
        }
      ]
    },
    {
      "cell_type": "code",
      "metadata": {
        "colab_type": "code",
        "id": "pw8ifyw_Y5uL",
        "colab": {}
      },
      "source": [
        ""
      ],
      "execution_count": 0,
      "outputs": []
    },
    {
      "cell_type": "code",
      "metadata": {
        "colab_type": "code",
        "id": "BiTIWptwWzNN",
        "colab": {}
      },
      "source": [
        ""
      ],
      "execution_count": 0,
      "outputs": []
    },
    {
      "cell_type": "markdown",
      "metadata": {
        "colab_type": "text",
        "id": "ExD6Grw7pUT0"
      },
      "source": [
        "From this plot we can say that the unit_sales are highly right skewed which means that then mean is  less than median."
      ]
    },
    {
      "cell_type": "code",
      "metadata": {
        "colab_type": "code",
        "id": "aOrv_7oipDS3",
        "outputId": "5ad768f9-82f7-4829-f494-fe68be07d876",
        "colab": {
          "base_uri": "https://localhost:8080/",
          "height": 50
        }
      },
      "source": [
        "#checking meadian and mean values of train data set for unit_sales.\n",
        "print(train['unit_sales'].mean())\n",
        "print(train['unit_sales'].median())"
      ],
      "execution_count": 0,
      "outputs": [
        {
          "output_type": "stream",
          "text": [
            "8.649574701044651\n",
            "4.0\n"
          ],
          "name": "stdout"
        }
      ]
    },
    {
      "cell_type": "code",
      "metadata": {
        "colab_type": "code",
        "id": "H5O2un4KplP_",
        "colab": {}
      },
      "source": [
        ""
      ],
      "execution_count": 0,
      "outputs": []
    },
    {
      "cell_type": "code",
      "metadata": {
        "colab_type": "code",
        "id": "gSaI4uDZpB-e",
        "colab": {}
      },
      "source": [
        "##Feature engineering is imporatant for dates.For easy access of days months and year\n",
        "train['month']=train['date'].dt.month\n",
        "train['day']=train['date'].dt.day\n",
        "train['year']=train['date'].dt.year"
      ],
      "execution_count": 0,
      "outputs": []
    },
    {
      "cell_type": "code",
      "metadata": {
        "colab_type": "code",
        "id": "NqF6e8PSqPpF",
        "outputId": "b5a493eb-b427-4efc-8146-f7b3ad4999f9",
        "colab": {
          "base_uri": "https://localhost:8080/",
          "height": 196
        }
      },
      "source": [
        "train.head()"
      ],
      "execution_count": 0,
      "outputs": [
        {
          "output_type": "execute_result",
          "data": {
            "text/html": [
              "<div>\n",
              "<style scoped>\n",
              "    .dataframe tbody tr th:only-of-type {\n",
              "        vertical-align: middle;\n",
              "    }\n",
              "\n",
              "    .dataframe tbody tr th {\n",
              "        vertical-align: top;\n",
              "    }\n",
              "\n",
              "    .dataframe thead th {\n",
              "        text-align: right;\n",
              "    }\n",
              "</style>\n",
              "<table border=\"1\" class=\"dataframe\">\n",
              "  <thead>\n",
              "    <tr style=\"text-align: right;\">\n",
              "      <th></th>\n",
              "      <th>date</th>\n",
              "      <th>locationId</th>\n",
              "      <th>item_id</th>\n",
              "      <th>unit_sales</th>\n",
              "      <th>onpromotion</th>\n",
              "      <th>month</th>\n",
              "      <th>day</th>\n",
              "      <th>year</th>\n",
              "    </tr>\n",
              "  </thead>\n",
              "  <tbody>\n",
              "    <tr>\n",
              "      <th>0</th>\n",
              "      <td>2015-01-01</td>\n",
              "      <td>location_25</td>\n",
              "      <td>item_103665</td>\n",
              "      <td>7.0</td>\n",
              "      <td>NaN</td>\n",
              "      <td>1</td>\n",
              "      <td>1</td>\n",
              "      <td>2015</td>\n",
              "    </tr>\n",
              "    <tr>\n",
              "      <th>1</th>\n",
              "      <td>2015-01-01</td>\n",
              "      <td>location_25</td>\n",
              "      <td>item_105574</td>\n",
              "      <td>1.0</td>\n",
              "      <td>NaN</td>\n",
              "      <td>1</td>\n",
              "      <td>1</td>\n",
              "      <td>2015</td>\n",
              "    </tr>\n",
              "    <tr>\n",
              "      <th>2</th>\n",
              "      <td>2015-01-01</td>\n",
              "      <td>location_25</td>\n",
              "      <td>item_105575</td>\n",
              "      <td>2.0</td>\n",
              "      <td>NaN</td>\n",
              "      <td>1</td>\n",
              "      <td>1</td>\n",
              "      <td>2015</td>\n",
              "    </tr>\n",
              "    <tr>\n",
              "      <th>3</th>\n",
              "      <td>2015-01-01</td>\n",
              "      <td>location_25</td>\n",
              "      <td>item_108079</td>\n",
              "      <td>1.0</td>\n",
              "      <td>NaN</td>\n",
              "      <td>1</td>\n",
              "      <td>1</td>\n",
              "      <td>2015</td>\n",
              "    </tr>\n",
              "    <tr>\n",
              "      <th>4</th>\n",
              "      <td>2015-01-01</td>\n",
              "      <td>location_25</td>\n",
              "      <td>item_108701</td>\n",
              "      <td>1.0</td>\n",
              "      <td>NaN</td>\n",
              "      <td>1</td>\n",
              "      <td>1</td>\n",
              "      <td>2015</td>\n",
              "    </tr>\n",
              "  </tbody>\n",
              "</table>\n",
              "</div>"
            ],
            "text/plain": [
              "        date   locationId      item_id  ...  month day  year\n",
              "0 2015-01-01  location_25  item_103665  ...      1   1  2015\n",
              "1 2015-01-01  location_25  item_105574  ...      1   1  2015\n",
              "2 2015-01-01  location_25  item_105575  ...      1   1  2015\n",
              "3 2015-01-01  location_25  item_108079  ...      1   1  2015\n",
              "4 2015-01-01  location_25  item_108701  ...      1   1  2015\n",
              "\n",
              "[5 rows x 8 columns]"
            ]
          },
          "metadata": {
            "tags": []
          },
          "execution_count": 29
        }
      ]
    },
    {
      "cell_type": "code",
      "metadata": {
        "colab_type": "code",
        "id": "YGe3FCmVu5kh",
        "colab": {}
      },
      "source": [
        ""
      ],
      "execution_count": 0,
      "outputs": []
    },
    {
      "cell_type": "markdown",
      "metadata": {
        "colab_type": "text",
        "id": "XCOb1ZBG4L9_"
      },
      "source": [
        "Merging train and location data by using location_id as the foreign key using inner join"
      ]
    },
    {
      "cell_type": "code",
      "metadata": {
        "colab_type": "code",
        "id": "l_5jNLC0n_79",
        "colab": {}
      },
      "source": [
        "\n",
        "\n",
        "merged=pd.merge(train,location_details,how='inner',left_on=['locationId'],right_on=['location_id'])"
      ],
      "execution_count": 0,
      "outputs": []
    },
    {
      "cell_type": "code",
      "metadata": {
        "colab_type": "code",
        "id": "5pP5YAMMvxss",
        "outputId": "7e1b0189-5cc8-414e-9913-f1af6300e389",
        "colab": {
          "base_uri": "https://localhost:8080/",
          "height": 196
        }
      },
      "source": [
        "merged.head()"
      ],
      "execution_count": 0,
      "outputs": [
        {
          "output_type": "execute_result",
          "data": {
            "text/html": [
              "<div>\n",
              "<style scoped>\n",
              "    .dataframe tbody tr th:only-of-type {\n",
              "        vertical-align: middle;\n",
              "    }\n",
              "\n",
              "    .dataframe tbody tr th {\n",
              "        vertical-align: top;\n",
              "    }\n",
              "\n",
              "    .dataframe thead th {\n",
              "        text-align: right;\n",
              "    }\n",
              "</style>\n",
              "<table border=\"1\" class=\"dataframe\">\n",
              "  <thead>\n",
              "    <tr style=\"text-align: right;\">\n",
              "      <th></th>\n",
              "      <th>date</th>\n",
              "      <th>locationId</th>\n",
              "      <th>item_id</th>\n",
              "      <th>unit_sales</th>\n",
              "      <th>onpromotion</th>\n",
              "      <th>month</th>\n",
              "      <th>day</th>\n",
              "      <th>year</th>\n",
              "      <th>location_id</th>\n",
              "      <th>city</th>\n",
              "      <th>state</th>\n",
              "      <th>type</th>\n",
              "      <th>cluster</th>\n",
              "    </tr>\n",
              "  </thead>\n",
              "  <tbody>\n",
              "    <tr>\n",
              "      <th>0</th>\n",
              "      <td>2015-01-01</td>\n",
              "      <td>location_25</td>\n",
              "      <td>item_103665</td>\n",
              "      <td>7.0</td>\n",
              "      <td>NaN</td>\n",
              "      <td>1</td>\n",
              "      <td>1</td>\n",
              "      <td>2015</td>\n",
              "      <td>location_25</td>\n",
              "      <td>Kanpur</td>\n",
              "      <td>Uttar Pradesh</td>\n",
              "      <td>D</td>\n",
              "      <td>1</td>\n",
              "    </tr>\n",
              "    <tr>\n",
              "      <th>1</th>\n",
              "      <td>2015-01-01</td>\n",
              "      <td>location_25</td>\n",
              "      <td>item_105574</td>\n",
              "      <td>1.0</td>\n",
              "      <td>NaN</td>\n",
              "      <td>1</td>\n",
              "      <td>1</td>\n",
              "      <td>2015</td>\n",
              "      <td>location_25</td>\n",
              "      <td>Kanpur</td>\n",
              "      <td>Uttar Pradesh</td>\n",
              "      <td>D</td>\n",
              "      <td>1</td>\n",
              "    </tr>\n",
              "    <tr>\n",
              "      <th>2</th>\n",
              "      <td>2015-01-01</td>\n",
              "      <td>location_25</td>\n",
              "      <td>item_105575</td>\n",
              "      <td>2.0</td>\n",
              "      <td>NaN</td>\n",
              "      <td>1</td>\n",
              "      <td>1</td>\n",
              "      <td>2015</td>\n",
              "      <td>location_25</td>\n",
              "      <td>Kanpur</td>\n",
              "      <td>Uttar Pradesh</td>\n",
              "      <td>D</td>\n",
              "      <td>1</td>\n",
              "    </tr>\n",
              "    <tr>\n",
              "      <th>3</th>\n",
              "      <td>2015-01-01</td>\n",
              "      <td>location_25</td>\n",
              "      <td>item_108079</td>\n",
              "      <td>1.0</td>\n",
              "      <td>NaN</td>\n",
              "      <td>1</td>\n",
              "      <td>1</td>\n",
              "      <td>2015</td>\n",
              "      <td>location_25</td>\n",
              "      <td>Kanpur</td>\n",
              "      <td>Uttar Pradesh</td>\n",
              "      <td>D</td>\n",
              "      <td>1</td>\n",
              "    </tr>\n",
              "    <tr>\n",
              "      <th>4</th>\n",
              "      <td>2015-01-01</td>\n",
              "      <td>location_25</td>\n",
              "      <td>item_108701</td>\n",
              "      <td>1.0</td>\n",
              "      <td>NaN</td>\n",
              "      <td>1</td>\n",
              "      <td>1</td>\n",
              "      <td>2015</td>\n",
              "      <td>location_25</td>\n",
              "      <td>Kanpur</td>\n",
              "      <td>Uttar Pradesh</td>\n",
              "      <td>D</td>\n",
              "      <td>1</td>\n",
              "    </tr>\n",
              "  </tbody>\n",
              "</table>\n",
              "</div>"
            ],
            "text/plain": [
              "        date   locationId      item_id  ...          state type  cluster\n",
              "0 2015-01-01  location_25  item_103665  ...  Uttar Pradesh    D        1\n",
              "1 2015-01-01  location_25  item_105574  ...  Uttar Pradesh    D        1\n",
              "2 2015-01-01  location_25  item_105575  ...  Uttar Pradesh    D        1\n",
              "3 2015-01-01  location_25  item_108079  ...  Uttar Pradesh    D        1\n",
              "4 2015-01-01  location_25  item_108701  ...  Uttar Pradesh    D        1\n",
              "\n",
              "[5 rows x 13 columns]"
            ]
          },
          "metadata": {
            "tags": []
          },
          "execution_count": 31
        }
      ]
    },
    {
      "cell_type": "code",
      "metadata": {
        "colab_type": "code",
        "id": "V_DtDXhUv_Ji",
        "outputId": "fba41d22-4858-44b4-f6e3-df15da613eb2",
        "colab": {
          "base_uri": "https://localhost:8080/",
          "height": 33
        }
      },
      "source": [
        "merged.shape"
      ],
      "execution_count": 0,
      "outputs": [
        {
          "output_type": "execute_result",
          "data": {
            "text/plain": [
              "(101672573, 13)"
            ]
          },
          "metadata": {
            "tags": []
          },
          "execution_count": 32
        }
      ]
    },
    {
      "cell_type": "markdown",
      "metadata": {
        "colab_type": "text",
        "id": "vpzj9M7R35QN"
      },
      "source": [
        "Pickle to avoid crashing of google colab."
      ]
    },
    {
      "cell_type": "code",
      "metadata": {
        "colab_type": "code",
        "id": "YPZVToA_wNqh",
        "colab": {}
      },
      "source": [
        "import pickle\n",
        "pickle_out=open('merge.pickle','wb')\n",
        "pickle.dump(merged,pickle_out)\n",
        "pickle_out.close()"
      ],
      "execution_count": 0,
      "outputs": []
    },
    {
      "cell_type": "code",
      "metadata": {
        "colab_type": "code",
        "id": "5JMRCDvW6l2h",
        "colab": {}
      },
      "source": [
        "import pickle\n",
        "pickle_in=open('merge.pickle','rb')\n",
        "merge=pickle.load(pickle_in)"
      ],
      "execution_count": 0,
      "outputs": []
    },
    {
      "cell_type": "code",
      "metadata": {
        "colab_type": "code",
        "id": "sSphvZnXhqoP",
        "colab": {}
      },
      "source": [
        "import pickle\n",
        "pickle_out=open('x.pickle','wb')\n",
        "pickle.dump(x,pickle_out)\n",
        "pickle_out.close()\n",
        "\n",
        "pickle_out=open('y.pickle','wb')\n",
        "pickle.dump(y,pickle_out)\n",
        "pickle_out.close()"
      ],
      "execution_count": 0,
      "outputs": []
    },
    {
      "cell_type": "code",
      "metadata": {
        "colab_type": "code",
        "id": "exOeyqFgjOBT",
        "colab": {}
      },
      "source": [
        "import pickle\n",
        "pickle_in=open('x.pickle','rb')\n",
        "x=pickle.load(pickle_in)\n",
        "\n",
        "pickle_in=open('y.pickle','rb')\n",
        "y=pickle.load(pickle_in)"
      ],
      "execution_count": 0,
      "outputs": []
    },
    {
      "cell_type": "code",
      "metadata": {
        "colab_type": "code",
        "id": "ria-Hb1ijV2O",
        "colab": {}
      },
      "source": [
        ""
      ],
      "execution_count": 0,
      "outputs": []
    },
    {
      "cell_type": "code",
      "metadata": {
        "colab_type": "code",
        "id": "f51hPy6jJf2n",
        "outputId": "0d85255a-81d1-4371-818a-e101b08a9ac7",
        "colab": {
          "base_uri": "https://localhost:8080/",
          "height": 196
        }
      },
      "source": [
        "x.head()"
      ],
      "execution_count": 0,
      "outputs": [
        {
          "output_type": "execute_result",
          "data": {
            "text/html": [
              "<div>\n",
              "<style scoped>\n",
              "    .dataframe tbody tr th:only-of-type {\n",
              "        vertical-align: middle;\n",
              "    }\n",
              "\n",
              "    .dataframe tbody tr th {\n",
              "        vertical-align: top;\n",
              "    }\n",
              "\n",
              "    .dataframe thead th {\n",
              "        text-align: right;\n",
              "    }\n",
              "</style>\n",
              "<table border=\"1\" class=\"dataframe\">\n",
              "  <thead>\n",
              "    <tr style=\"text-align: right;\">\n",
              "      <th></th>\n",
              "      <th>item_id</th>\n",
              "      <th>onpromotion</th>\n",
              "      <th>month</th>\n",
              "      <th>day</th>\n",
              "      <th>year</th>\n",
              "      <th>location_id</th>\n",
              "      <th>city</th>\n",
              "      <th>state</th>\n",
              "      <th>cluster</th>\n",
              "    </tr>\n",
              "  </thead>\n",
              "  <tbody>\n",
              "    <tr>\n",
              "      <th>0</th>\n",
              "      <td>44</td>\n",
              "      <td>False</td>\n",
              "      <td>1</td>\n",
              "      <td>1</td>\n",
              "      <td>2015</td>\n",
              "      <td>14</td>\n",
              "      <td>10</td>\n",
              "      <td>11</td>\n",
              "      <td>1</td>\n",
              "    </tr>\n",
              "    <tr>\n",
              "      <th>1</th>\n",
              "      <td>118</td>\n",
              "      <td>False</td>\n",
              "      <td>1</td>\n",
              "      <td>1</td>\n",
              "      <td>2015</td>\n",
              "      <td>14</td>\n",
              "      <td>10</td>\n",
              "      <td>11</td>\n",
              "      <td>1</td>\n",
              "    </tr>\n",
              "    <tr>\n",
              "      <th>2</th>\n",
              "      <td>119</td>\n",
              "      <td>False</td>\n",
              "      <td>1</td>\n",
              "      <td>1</td>\n",
              "      <td>2015</td>\n",
              "      <td>14</td>\n",
              "      <td>10</td>\n",
              "      <td>11</td>\n",
              "      <td>1</td>\n",
              "    </tr>\n",
              "    <tr>\n",
              "      <th>3</th>\n",
              "      <td>168</td>\n",
              "      <td>False</td>\n",
              "      <td>1</td>\n",
              "      <td>1</td>\n",
              "      <td>2015</td>\n",
              "      <td>14</td>\n",
              "      <td>10</td>\n",
              "      <td>11</td>\n",
              "      <td>1</td>\n",
              "    </tr>\n",
              "    <tr>\n",
              "      <th>4</th>\n",
              "      <td>195</td>\n",
              "      <td>False</td>\n",
              "      <td>1</td>\n",
              "      <td>1</td>\n",
              "      <td>2015</td>\n",
              "      <td>14</td>\n",
              "      <td>10</td>\n",
              "      <td>11</td>\n",
              "      <td>1</td>\n",
              "    </tr>\n",
              "  </tbody>\n",
              "</table>\n",
              "</div>"
            ],
            "text/plain": [
              "   item_id  onpromotion  month  day  year  location_id  city  state  cluster\n",
              "0       44        False      1    1  2015           14    10     11        1\n",
              "1      118        False      1    1  2015           14    10     11        1\n",
              "2      119        False      1    1  2015           14    10     11        1\n",
              "3      168        False      1    1  2015           14    10     11        1\n",
              "4      195        False      1    1  2015           14    10     11        1"
            ]
          },
          "metadata": {
            "tags": []
          },
          "execution_count": 162
        }
      ]
    },
    {
      "cell_type": "code",
      "metadata": {
        "colab_type": "code",
        "id": "8cKDwPY6J9w9",
        "outputId": "415ad37e-784b-40a1-fee1-2b047185351a",
        "colab": {
          "base_uri": "https://localhost:8080/",
          "height": 117
        }
      },
      "source": [
        "y.head()"
      ],
      "execution_count": 0,
      "outputs": [
        {
          "output_type": "execute_result",
          "data": {
            "text/plain": [
              "0    7.0\n",
              "1    1.0\n",
              "2    2.0\n",
              "3    1.0\n",
              "4    1.0\n",
              "Name: unit_sales, dtype: float64"
            ]
          },
          "metadata": {
            "tags": []
          },
          "execution_count": 163
        }
      ]
    },
    {
      "cell_type": "markdown",
      "metadata": {
        "colab_type": "text",
        "id": "LSgz9Wqc4VqX"
      },
      "source": [
        "merging on item_details"
      ]
    },
    {
      "cell_type": "code",
      "metadata": {
        "colab_type": "code",
        "id": "CjWBMASAm8bW",
        "colab": {}
      },
      "source": [
        "##merging on item_details\n",
        "merged=pd.merge(merged,item_details,how='inner',left_on=['item_id'],right_on=['item_id'])"
      ],
      "execution_count": 0,
      "outputs": []
    },
    {
      "cell_type": "code",
      "metadata": {
        "colab_type": "code",
        "id": "Jy3S0oJIn5sy",
        "outputId": "e7a5ede8-de13-47a9-f2d0-c4472f8b53c4",
        "colab": {
          "base_uri": "https://localhost:8080/",
          "height": 33
        }
      },
      "source": [
        "merged.shape"
      ],
      "execution_count": 0,
      "outputs": [
        {
          "output_type": "execute_result",
          "data": {
            "text/plain": [
              "(101682617, 16)"
            ]
          },
          "metadata": {
            "tags": []
          },
          "execution_count": 17
        }
      ]
    },
    {
      "cell_type": "code",
      "metadata": {
        "colab_type": "code",
        "id": "cyyn6fKOvQmy",
        "outputId": "c187c281-1ef6-4ba4-b295-8441b69f3f64",
        "colab": {
          "base_uri": "https://localhost:8080/",
          "height": 280
        }
      },
      "source": [
        "##Looking at the data after merging\n",
        "merged.head()"
      ],
      "execution_count": 0,
      "outputs": [
        {
          "output_type": "execute_result",
          "data": {
            "text/html": [
              "<div>\n",
              "<style scoped>\n",
              "    .dataframe tbody tr th:only-of-type {\n",
              "        vertical-align: middle;\n",
              "    }\n",
              "\n",
              "    .dataframe tbody tr th {\n",
              "        vertical-align: top;\n",
              "    }\n",
              "\n",
              "    .dataframe thead th {\n",
              "        text-align: right;\n",
              "    }\n",
              "</style>\n",
              "<table border=\"1\" class=\"dataframe\">\n",
              "  <thead>\n",
              "    <tr style=\"text-align: right;\">\n",
              "      <th></th>\n",
              "      <th>date</th>\n",
              "      <th>locationId</th>\n",
              "      <th>item_id</th>\n",
              "      <th>unit_sales</th>\n",
              "      <th>onpromotion</th>\n",
              "      <th>month</th>\n",
              "      <th>day</th>\n",
              "      <th>year</th>\n",
              "      <th>location_id</th>\n",
              "      <th>city</th>\n",
              "      <th>state</th>\n",
              "      <th>type</th>\n",
              "      <th>cluster</th>\n",
              "      <th>category_of_item</th>\n",
              "      <th>class</th>\n",
              "      <th>perishable</th>\n",
              "    </tr>\n",
              "  </thead>\n",
              "  <tbody>\n",
              "    <tr>\n",
              "      <th>0</th>\n",
              "      <td>2015-01-01</td>\n",
              "      <td>location_25</td>\n",
              "      <td>item_103665</td>\n",
              "      <td>7.0</td>\n",
              "      <td>NaN</td>\n",
              "      <td>1</td>\n",
              "      <td>1</td>\n",
              "      <td>2015</td>\n",
              "      <td>location_25</td>\n",
              "      <td>Kanpur</td>\n",
              "      <td>Uttar Pradesh</td>\n",
              "      <td>D</td>\n",
              "      <td>1</td>\n",
              "      <td>baked_items / bread_based</td>\n",
              "      <td>class_2712</td>\n",
              "      <td>1</td>\n",
              "    </tr>\n",
              "    <tr>\n",
              "      <th>1</th>\n",
              "      <td>2015-01-02</td>\n",
              "      <td>location_25</td>\n",
              "      <td>item_103665</td>\n",
              "      <td>5.0</td>\n",
              "      <td>NaN</td>\n",
              "      <td>1</td>\n",
              "      <td>2</td>\n",
              "      <td>2015</td>\n",
              "      <td>location_25</td>\n",
              "      <td>Kanpur</td>\n",
              "      <td>Uttar Pradesh</td>\n",
              "      <td>D</td>\n",
              "      <td>1</td>\n",
              "      <td>baked_items / bread_based</td>\n",
              "      <td>class_2712</td>\n",
              "      <td>1</td>\n",
              "    </tr>\n",
              "    <tr>\n",
              "      <th>2</th>\n",
              "      <td>2015-01-04</td>\n",
              "      <td>location_25</td>\n",
              "      <td>item_103665</td>\n",
              "      <td>5.0</td>\n",
              "      <td>NaN</td>\n",
              "      <td>1</td>\n",
              "      <td>4</td>\n",
              "      <td>2015</td>\n",
              "      <td>location_25</td>\n",
              "      <td>Kanpur</td>\n",
              "      <td>Uttar Pradesh</td>\n",
              "      <td>D</td>\n",
              "      <td>1</td>\n",
              "      <td>baked_items / bread_based</td>\n",
              "      <td>class_2712</td>\n",
              "      <td>1</td>\n",
              "    </tr>\n",
              "    <tr>\n",
              "      <th>3</th>\n",
              "      <td>2015-01-05</td>\n",
              "      <td>location_25</td>\n",
              "      <td>item_103665</td>\n",
              "      <td>5.0</td>\n",
              "      <td>NaN</td>\n",
              "      <td>1</td>\n",
              "      <td>5</td>\n",
              "      <td>2015</td>\n",
              "      <td>location_25</td>\n",
              "      <td>Kanpur</td>\n",
              "      <td>Uttar Pradesh</td>\n",
              "      <td>D</td>\n",
              "      <td>1</td>\n",
              "      <td>baked_items / bread_based</td>\n",
              "      <td>class_2712</td>\n",
              "      <td>1</td>\n",
              "    </tr>\n",
              "    <tr>\n",
              "      <th>4</th>\n",
              "      <td>2015-01-06</td>\n",
              "      <td>location_25</td>\n",
              "      <td>item_103665</td>\n",
              "      <td>7.0</td>\n",
              "      <td>NaN</td>\n",
              "      <td>1</td>\n",
              "      <td>6</td>\n",
              "      <td>2015</td>\n",
              "      <td>location_25</td>\n",
              "      <td>Kanpur</td>\n",
              "      <td>Uttar Pradesh</td>\n",
              "      <td>D</td>\n",
              "      <td>1</td>\n",
              "      <td>baked_items / bread_based</td>\n",
              "      <td>class_2712</td>\n",
              "      <td>1</td>\n",
              "    </tr>\n",
              "  </tbody>\n",
              "</table>\n",
              "</div>"
            ],
            "text/plain": [
              "        date   locationId  ...       class  perishable\n",
              "0 2015-01-01  location_25  ...  class_2712           1\n",
              "1 2015-01-02  location_25  ...  class_2712           1\n",
              "2 2015-01-04  location_25  ...  class_2712           1\n",
              "3 2015-01-05  location_25  ...  class_2712           1\n",
              "4 2015-01-06  location_25  ...  class_2712           1\n",
              "\n",
              "[5 rows x 16 columns]"
            ]
          },
          "metadata": {
            "tags": []
          },
          "execution_count": 18
        }
      ]
    },
    {
      "cell_type": "code",
      "metadata": {
        "colab_type": "code",
        "id": "Sp175uDSz-3w",
        "colab": {}
      },
      "source": [
        "##For memory Optimization\n",
        "\n",
        "\n",
        "merged['city']=merged['city'].astype('category')\n",
        "merged['state']=merged['state'].astype('category')\n",
        "merged['category_of_item']=merged['category_of_item'].astype('category')\n",
        "merged['type']=merged['type'].astype('category')\n",
        "merged['class']=merged['class'].astype('category')\n"
      ],
      "execution_count": 0,
      "outputs": []
    },
    {
      "cell_type": "code",
      "metadata": {
        "colab_type": "code",
        "id": "QV7i2oWA4Q9O",
        "colab": {}
      },
      "source": [
        "import pickle"
      ],
      "execution_count": 0,
      "outputs": []
    },
    {
      "cell_type": "code",
      "metadata": {
        "colab_type": "code",
        "id": "1jjcGE5j4THE",
        "colab": {}
      },
      "source": [
        "import pickle\n",
        "pickle_out=open('merged.pickle','wb')\n",
        "pickle.dump(merged,pickle_out)\n",
        "pickle_out.close()"
      ],
      "execution_count": 0,
      "outputs": []
    },
    {
      "cell_type": "code",
      "metadata": {
        "colab_type": "code",
        "id": "t11vVHUN6ryQ",
        "colab": {}
      },
      "source": [
        "pickle_in=open('merge.pickle','rb')\n",
        "merge=pickle.load(pickle_in)"
      ],
      "execution_count": 0,
      "outputs": []
    },
    {
      "cell_type": "code",
      "metadata": {
        "colab_type": "code",
        "id": "tw77BBJ6vSnn",
        "colab": {}
      },
      "source": [
        "##Subsetting data frame for first 15 days of all years just to look at the sales for first 15 days\n",
        "\n",
        "Data_for_15Days=merged[(merged['day']<16) & (merged['month']==1)]"
      ],
      "execution_count": 0,
      "outputs": []
    },
    {
      "cell_type": "code",
      "metadata": {
        "colab_type": "code",
        "id": "YmM5l4Vx5YYC",
        "outputId": "6c443c89-6d04-47d2-ea3e-d2584b8e11f6",
        "colab": {
          "base_uri": "https://localhost:8080/",
          "height": 33
        }
      },
      "source": [
        "Data_for_15Days.shape"
      ],
      "execution_count": 0,
      "outputs": [
        {
          "output_type": "execute_result",
          "data": {
            "text/plain": [
              "(3614582, 13)"
            ]
          },
          "metadata": {
            "tags": []
          },
          "execution_count": 14
        }
      ]
    },
    {
      "cell_type": "code",
      "metadata": {
        "colab_type": "code",
        "id": "UobC3tmTT0bs",
        "colab": {}
      },
      "source": [
        "import pickle\n",
        "pickle_out=open('Data_for_15Days.pickle','wb')\n",
        "pickle.dump(Data_for_15Days,pickle_out)\n",
        "pickle_out.close()"
      ],
      "execution_count": 0,
      "outputs": []
    },
    {
      "cell_type": "code",
      "metadata": {
        "colab_type": "code",
        "id": "0xmIQReaT9sC",
        "colab": {}
      },
      "source": [
        "import pickle"
      ],
      "execution_count": 0,
      "outputs": []
    },
    {
      "cell_type": "code",
      "metadata": {
        "colab_type": "code",
        "id": "eCZNrpUDB_es",
        "colab": {}
      },
      "source": [
        ""
      ],
      "execution_count": 0,
      "outputs": []
    },
    {
      "cell_type": "code",
      "metadata": {
        "colab_type": "code",
        "id": "GMgdSb5wT4In",
        "colab": {}
      },
      "source": [
        "pickle_in=open('Data_for_15Days.pickle','rb')\n",
        "merge=pickle.load(pickle_in)"
      ],
      "execution_count": 0,
      "outputs": []
    },
    {
      "cell_type": "code",
      "metadata": {
        "colab_type": "code",
        "id": "kwWbr-4Q5e4A",
        "outputId": "5768d72d-2e51-435e-b3f7-37bf8e36af5e",
        "colab": {
          "base_uri": "https://localhost:8080/",
          "height": 196
        }
      },
      "source": [
        "merge.tail()"
      ],
      "execution_count": 0,
      "outputs": [
        {
          "output_type": "execute_result",
          "data": {
            "text/html": [
              "<div>\n",
              "<style scoped>\n",
              "    .dataframe tbody tr th:only-of-type {\n",
              "        vertical-align: middle;\n",
              "    }\n",
              "\n",
              "    .dataframe tbody tr th {\n",
              "        vertical-align: top;\n",
              "    }\n",
              "\n",
              "    .dataframe thead th {\n",
              "        text-align: right;\n",
              "    }\n",
              "</style>\n",
              "<table border=\"1\" class=\"dataframe\">\n",
              "  <thead>\n",
              "    <tr style=\"text-align: right;\">\n",
              "      <th></th>\n",
              "      <th>date</th>\n",
              "      <th>locationId</th>\n",
              "      <th>item_id</th>\n",
              "      <th>unit_sales</th>\n",
              "      <th>onpromotion</th>\n",
              "      <th>month</th>\n",
              "      <th>day</th>\n",
              "      <th>year</th>\n",
              "      <th>location_id</th>\n",
              "      <th>city</th>\n",
              "      <th>state</th>\n",
              "      <th>type</th>\n",
              "      <th>cluster</th>\n",
              "    </tr>\n",
              "  </thead>\n",
              "  <tbody>\n",
              "    <tr>\n",
              "      <th>101215580</th>\n",
              "      <td>2018-01-15</td>\n",
              "      <td>location_22</td>\n",
              "      <td>item_2026858</td>\n",
              "      <td>1.0</td>\n",
              "      <td>False</td>\n",
              "      <td>1</td>\n",
              "      <td>15</td>\n",
              "      <td>2018</td>\n",
              "      <td>location_22</td>\n",
              "      <td>Gandhinagar</td>\n",
              "      <td>Gujarat</td>\n",
              "      <td>C</td>\n",
              "      <td>7</td>\n",
              "    </tr>\n",
              "    <tr>\n",
              "      <th>101215581</th>\n",
              "      <td>2018-01-15</td>\n",
              "      <td>location_22</td>\n",
              "      <td>item_2026945</td>\n",
              "      <td>4.0</td>\n",
              "      <td>False</td>\n",
              "      <td>1</td>\n",
              "      <td>15</td>\n",
              "      <td>2018</td>\n",
              "      <td>location_22</td>\n",
              "      <td>Gandhinagar</td>\n",
              "      <td>Gujarat</td>\n",
              "      <td>C</td>\n",
              "      <td>7</td>\n",
              "    </tr>\n",
              "    <tr>\n",
              "      <th>101215582</th>\n",
              "      <td>2018-01-15</td>\n",
              "      <td>location_22</td>\n",
              "      <td>item_2026983</td>\n",
              "      <td>2.0</td>\n",
              "      <td>False</td>\n",
              "      <td>1</td>\n",
              "      <td>15</td>\n",
              "      <td>2018</td>\n",
              "      <td>location_22</td>\n",
              "      <td>Gandhinagar</td>\n",
              "      <td>Gujarat</td>\n",
              "      <td>C</td>\n",
              "      <td>7</td>\n",
              "    </tr>\n",
              "    <tr>\n",
              "      <th>101215583</th>\n",
              "      <td>2018-01-15</td>\n",
              "      <td>location_22</td>\n",
              "      <td>item_2027090</td>\n",
              "      <td>2.0</td>\n",
              "      <td>False</td>\n",
              "      <td>1</td>\n",
              "      <td>15</td>\n",
              "      <td>2018</td>\n",
              "      <td>location_22</td>\n",
              "      <td>Gandhinagar</td>\n",
              "      <td>Gujarat</td>\n",
              "      <td>C</td>\n",
              "      <td>7</td>\n",
              "    </tr>\n",
              "    <tr>\n",
              "      <th>101215584</th>\n",
              "      <td>2018-01-15</td>\n",
              "      <td>location_22</td>\n",
              "      <td>item_2027252</td>\n",
              "      <td>2.0</td>\n",
              "      <td>False</td>\n",
              "      <td>1</td>\n",
              "      <td>15</td>\n",
              "      <td>2018</td>\n",
              "      <td>location_22</td>\n",
              "      <td>Gandhinagar</td>\n",
              "      <td>Gujarat</td>\n",
              "      <td>C</td>\n",
              "      <td>7</td>\n",
              "    </tr>\n",
              "  </tbody>\n",
              "</table>\n",
              "</div>"
            ],
            "text/plain": [
              "                date   locationId       item_id  ...    state  type  cluster\n",
              "101215580 2018-01-15  location_22  item_2026858  ...  Gujarat     C        7\n",
              "101215581 2018-01-15  location_22  item_2026945  ...  Gujarat     C        7\n",
              "101215582 2018-01-15  location_22  item_2026983  ...  Gujarat     C        7\n",
              "101215583 2018-01-15  location_22  item_2027090  ...  Gujarat     C        7\n",
              "101215584 2018-01-15  location_22  item_2027252  ...  Gujarat     C        7\n",
              "\n",
              "[5 rows x 13 columns]"
            ]
          },
          "metadata": {
            "tags": []
          },
          "execution_count": 8
        }
      ]
    },
    {
      "cell_type": "code",
      "metadata": {
        "colab_type": "code",
        "id": "mTTja4xlCHVG",
        "colab": {}
      },
      "source": [
        "Data_for_15Days=merge"
      ],
      "execution_count": 0,
      "outputs": []
    },
    {
      "cell_type": "code",
      "metadata": {
        "colab_type": "code",
        "id": "qT6P03UACMPi",
        "colab": {}
      },
      "source": [
        ""
      ],
      "execution_count": 0,
      "outputs": []
    },
    {
      "cell_type": "code",
      "metadata": {
        "colab_type": "code",
        "id": "zv2i87nMUQ9n",
        "colab": {}
      },
      "source": [
        ""
      ],
      "execution_count": 0,
      "outputs": []
    },
    {
      "cell_type": "code",
      "metadata": {
        "colab_type": "code",
        "id": "VckFBzgj5nK8",
        "colab": {}
      },
      "source": [
        "!pip install pandasql"
      ],
      "execution_count": 0,
      "outputs": []
    },
    {
      "cell_type": "code",
      "metadata": {
        "colab_type": "code",
        "id": "RSW8FV-Q55lL",
        "colab": {}
      },
      "source": [
        "import pandasql as ql"
      ],
      "execution_count": 0,
      "outputs": []
    },
    {
      "cell_type": "code",
      "metadata": {
        "colab_type": "code",
        "id": "tM9NYyCs5UZh",
        "colab": {}
      },
      "source": [
        "q=\"\"\"SELECT year,cluster,sum(unit_sales) as sales FROM Data_for_15Days GROUP BY cluster,year \"\"\"\n",
        "df=pd.DataFrame(ql.sqldf(q,locals()))"
      ],
      "execution_count": 0,
      "outputs": []
    },
    {
      "cell_type": "code",
      "metadata": {
        "colab_type": "code",
        "id": "RTnu3SwYYOv9",
        "colab": {}
      },
      "source": [
        ""
      ],
      "execution_count": 0,
      "outputs": []
    },
    {
      "cell_type": "code",
      "metadata": {
        "colab_type": "code",
        "id": "BIkw1mhdwQwu",
        "outputId": "c720c814-5852-4d67-83af-20c94d68c661",
        "colab": {
          "base_uri": "https://localhost:8080/",
          "height": 33
        }
      },
      "source": [
        "df.shape"
      ],
      "execution_count": 0,
      "outputs": [
        {
          "output_type": "execute_result",
          "data": {
            "text/plain": [
              "(68, 3)"
            ]
          },
          "metadata": {
            "tags": []
          },
          "execution_count": 22
        }
      ]
    },
    {
      "cell_type": "code",
      "metadata": {
        "colab_type": "code",
        "id": "pQ7X1qDsDvTp",
        "outputId": "67d36ba9-5e51-4ebe-a4c8-e94e7264b080",
        "colab": {
          "base_uri": "https://localhost:8080/",
          "height": 196
        }
      },
      "source": [
        "df.head()"
      ],
      "execution_count": 0,
      "outputs": [
        {
          "output_type": "execute_result",
          "data": {
            "text/html": [
              "<div>\n",
              "<style scoped>\n",
              "    .dataframe tbody tr th:only-of-type {\n",
              "        vertical-align: middle;\n",
              "    }\n",
              "\n",
              "    .dataframe tbody tr th {\n",
              "        vertical-align: top;\n",
              "    }\n",
              "\n",
              "    .dataframe thead th {\n",
              "        text-align: right;\n",
              "    }\n",
              "</style>\n",
              "<table border=\"1\" class=\"dataframe\">\n",
              "  <thead>\n",
              "    <tr style=\"text-align: right;\">\n",
              "      <th></th>\n",
              "      <th>year</th>\n",
              "      <th>cluster</th>\n",
              "      <th>sales</th>\n",
              "    </tr>\n",
              "  </thead>\n",
              "  <tbody>\n",
              "    <tr>\n",
              "      <th>0</th>\n",
              "      <td>2015</td>\n",
              "      <td>1</td>\n",
              "      <td>275367.3610</td>\n",
              "    </tr>\n",
              "    <tr>\n",
              "      <th>1</th>\n",
              "      <td>2016</td>\n",
              "      <td>1</td>\n",
              "      <td>505598.2049</td>\n",
              "    </tr>\n",
              "    <tr>\n",
              "      <th>2</th>\n",
              "      <td>2017</td>\n",
              "      <td>1</td>\n",
              "      <td>395286.9460</td>\n",
              "    </tr>\n",
              "    <tr>\n",
              "      <th>3</th>\n",
              "      <td>2018</td>\n",
              "      <td>1</td>\n",
              "      <td>580622.4380</td>\n",
              "    </tr>\n",
              "    <tr>\n",
              "      <th>4</th>\n",
              "      <td>2015</td>\n",
              "      <td>2</td>\n",
              "      <td>115703.8470</td>\n",
              "    </tr>\n",
              "  </tbody>\n",
              "</table>\n",
              "</div>"
            ],
            "text/plain": [
              "   year  cluster        sales\n",
              "0  2015        1  275367.3610\n",
              "1  2016        1  505598.2049\n",
              "2  2017        1  395286.9460\n",
              "3  2018        1  580622.4380\n",
              "4  2015        2  115703.8470"
            ]
          },
          "metadata": {
            "tags": []
          },
          "execution_count": 29
        }
      ]
    },
    {
      "cell_type": "code",
      "metadata": {
        "colab_type": "code",
        "id": "5B4GS5UBXqmw",
        "colab": {}
      },
      "source": [
        ""
      ],
      "execution_count": 0,
      "outputs": []
    },
    {
      "cell_type": "code",
      "metadata": {
        "colab_type": "code",
        "id": "50FHLoajY2cH",
        "outputId": "1da4a3e3-6539-4cda-d131-6478d592f987",
        "colab": {
          "base_uri": "https://localhost:8080/",
          "height": 196
        }
      },
      "source": [
        "df1.head()"
      ],
      "execution_count": 0,
      "outputs": [
        {
          "output_type": "execute_result",
          "data": {
            "text/html": [
              "<div>\n",
              "<style scoped>\n",
              "    .dataframe tbody tr th:only-of-type {\n",
              "        vertical-align: middle;\n",
              "    }\n",
              "\n",
              "    .dataframe tbody tr th {\n",
              "        vertical-align: top;\n",
              "    }\n",
              "\n",
              "    .dataframe thead th {\n",
              "        text-align: right;\n",
              "    }\n",
              "</style>\n",
              "<table border=\"1\" class=\"dataframe\">\n",
              "  <thead>\n",
              "    <tr style=\"text-align: right;\">\n",
              "      <th></th>\n",
              "      <th>cluster</th>\n",
              "      <th>sum(sales)</th>\n",
              "    </tr>\n",
              "  </thead>\n",
              "  <tbody>\n",
              "    <tr>\n",
              "      <th>0</th>\n",
              "      <td>1</td>\n",
              "      <td>1.756875e+06</td>\n",
              "    </tr>\n",
              "    <tr>\n",
              "      <th>1</th>\n",
              "      <td>2</td>\n",
              "      <td>8.610506e+05</td>\n",
              "    </tr>\n",
              "    <tr>\n",
              "      <th>2</th>\n",
              "      <td>3</td>\n",
              "      <td>2.291174e+06</td>\n",
              "    </tr>\n",
              "    <tr>\n",
              "      <th>3</th>\n",
              "      <td>4</td>\n",
              "      <td>1.611779e+06</td>\n",
              "    </tr>\n",
              "    <tr>\n",
              "      <th>4</th>\n",
              "      <td>5</td>\n",
              "      <td>2.036079e+06</td>\n",
              "    </tr>\n",
              "  </tbody>\n",
              "</table>\n",
              "</div>"
            ],
            "text/plain": [
              "   cluster    sum(sales)\n",
              "0        1  1.756875e+06\n",
              "1        2  8.610506e+05\n",
              "2        3  2.291174e+06\n",
              "3        4  1.611779e+06\n",
              "4        5  2.036079e+06"
            ]
          },
          "metadata": {
            "tags": []
          },
          "execution_count": 31
        }
      ]
    },
    {
      "cell_type": "code",
      "metadata": {
        "colab_type": "code",
        "id": "IMRfOTPTY4vA",
        "outputId": "b565713e-4e0e-4060-b7ba-4bb94319c2af",
        "colab": {
          "base_uri": "https://localhost:8080/",
          "height": 33
        }
      },
      "source": [
        "df1.shape"
      ],
      "execution_count": 0,
      "outputs": [
        {
          "output_type": "execute_result",
          "data": {
            "text/plain": [
              "(17, 2)"
            ]
          },
          "metadata": {
            "tags": []
          },
          "execution_count": 32
        }
      ]
    },
    {
      "cell_type": "code",
      "metadata": {
        "colab_type": "code",
        "id": "AnoMFZtaY6_y",
        "colab": {}
      },
      "source": [
        "Data_for_15Days"
      ],
      "execution_count": 0,
      "outputs": []
    },
    {
      "cell_type": "code",
      "metadata": {
        "colab_type": "code",
        "id": "w491eCtnVfar",
        "outputId": "22134c10-1171-49f4-8c66-47565de9aa5b",
        "colab": {
          "base_uri": "https://localhost:8080/",
          "height": 534
        }
      },
      "source": [
        "import matplotlib.pyplot as plt\n",
        "\n",
        "plt.figure(figsize=(14,16))\n",
        "df1.sort_values('sum(sales)',ascending=False,inplace=True)\n",
        "df1.plot(kind='bar',y='sum(sales)',x='cluster',color='b',figsize=(10,8))"
      ],
      "execution_count": 0,
      "outputs": [
        {
          "output_type": "execute_result",
          "data": {
            "text/plain": [
              "<matplotlib.axes._subplots.AxesSubplot at 0x7f217c7b7b00>"
            ]
          },
          "metadata": {
            "tags": []
          },
          "execution_count": 35
        },
        {
          "output_type": "display_data",
          "data": {
            "text/plain": [
              "<Figure size 1008x1152 with 0 Axes>"
            ]
          },
          "metadata": {
            "tags": []
          }
        },
        {
          "output_type": "display_data",
          "data": {
            "image/png": "[encoded data removed]",
            "text/plain": [
              "<Figure size 720x576 with 1 Axes>"
            ]
          },
          "metadata": {
            "tags": []
          }
        }
      ]
    },
    {
      "cell_type": "markdown",
      "metadata": {
        "colab_type": "text",
        "id": "A6fwYagJ19IP"
      },
      "source": [
        "## This is the barplot of the cluster based on their sales in previous years in descending order."
      ]
    },
    {
      "cell_type": "code",
      "metadata": {
        "colab_type": "code",
        "id": "JFd9btj1ZL2-",
        "colab": {}
      },
      "source": [
        "q=\"\"\"SELECT cluster,sum(sales) FROM df GROUP BY cluster \"\"\"\n",
        "df1=pd.DataFrame(ql.sqldf(q,locals()))"
      ],
      "execution_count": 0,
      "outputs": []
    },
    {
      "cell_type": "code",
      "metadata": {
        "colab_type": "code",
        "id": "-iUxOLQhZGxH",
        "colab": {}
      },
      "source": [
        ""
      ],
      "execution_count": 0,
      "outputs": []
    },
    {
      "cell_type": "code",
      "metadata": {
        "colab_type": "code",
        "id": "RmKMoWXQY_ZN",
        "colab": {}
      },
      "source": [
        "##merging on item_details\n",
        "items_cluser14=pd.merge(Data_for_15Days,item_details,how='inner',left_on=['item_id'],right_on=['item_id'])"
      ],
      "execution_count": 0,
      "outputs": []
    },
    {
      "cell_type": "code",
      "metadata": {
        "colab_type": "code",
        "id": "gcDIYf12bVa1",
        "outputId": "6bb7cfac-9e2b-4c4b-911d-6ebae84b0ba6",
        "colab": {
          "base_uri": "https://localhost:8080/",
          "height": 300
        }
      },
      "source": [
        "items_cluser14.tail()"
      ],
      "execution_count": 0,
      "outputs": [
        {
          "output_type": "execute_result",
          "data": {
            "text/html": [
              "<div>\n",
              "<style scoped>\n",
              "    .dataframe tbody tr th:only-of-type {\n",
              "        vertical-align: middle;\n",
              "    }\n",
              "\n",
              "    .dataframe tbody tr th {\n",
              "        vertical-align: top;\n",
              "    }\n",
              "\n",
              "    .dataframe thead th {\n",
              "        text-align: right;\n",
              "    }\n",
              "</style>\n",
              "<table border=\"1\" class=\"dataframe\">\n",
              "  <thead>\n",
              "    <tr style=\"text-align: right;\">\n",
              "      <th></th>\n",
              "      <th>date</th>\n",
              "      <th>locationId</th>\n",
              "      <th>item_id</th>\n",
              "      <th>unit_sales</th>\n",
              "      <th>onpromotion</th>\n",
              "      <th>month</th>\n",
              "      <th>day</th>\n",
              "      <th>year</th>\n",
              "      <th>location_id</th>\n",
              "      <th>city</th>\n",
              "      <th>state</th>\n",
              "      <th>type</th>\n",
              "      <th>cluster</th>\n",
              "      <th>category_of_item</th>\n",
              "      <th>class</th>\n",
              "      <th>perishable</th>\n",
              "    </tr>\n",
              "  </thead>\n",
              "  <tbody>\n",
              "    <tr>\n",
              "      <th>3614569</th>\n",
              "      <td>2018-01-11</td>\n",
              "      <td>location_50</td>\n",
              "      <td>item_1919674</td>\n",
              "      <td>1.0</td>\n",
              "      <td>False</td>\n",
              "      <td>1</td>\n",
              "      <td>11</td>\n",
              "      <td>2018</td>\n",
              "      <td>location_50</td>\n",
              "      <td>Gurgaon</td>\n",
              "      <td>Haryana</td>\n",
              "      <td>A</td>\n",
              "      <td>14</td>\n",
              "      <td>personal_care</td>\n",
              "      <td>class_4138</td>\n",
              "      <td>0</td>\n",
              "    </tr>\n",
              "    <tr>\n",
              "      <th>3614570</th>\n",
              "      <td>2018-01-15</td>\n",
              "      <td>location_50</td>\n",
              "      <td>item_1919674</td>\n",
              "      <td>1.0</td>\n",
              "      <td>False</td>\n",
              "      <td>1</td>\n",
              "      <td>15</td>\n",
              "      <td>2018</td>\n",
              "      <td>location_50</td>\n",
              "      <td>Gurgaon</td>\n",
              "      <td>Haryana</td>\n",
              "      <td>A</td>\n",
              "      <td>14</td>\n",
              "      <td>personal_care</td>\n",
              "      <td>class_4138</td>\n",
              "      <td>0</td>\n",
              "    </tr>\n",
              "    <tr>\n",
              "      <th>3614571</th>\n",
              "      <td>2016-01-04</td>\n",
              "      <td>location_47</td>\n",
              "      <td>item_1421429</td>\n",
              "      <td>12.0</td>\n",
              "      <td>False</td>\n",
              "      <td>1</td>\n",
              "      <td>4</td>\n",
              "      <td>2016</td>\n",
              "      <td>location_47</td>\n",
              "      <td>Bengaluru</td>\n",
              "      <td>Karnataka</td>\n",
              "      <td>A</td>\n",
              "      <td>14</td>\n",
              "      <td>beverages</td>\n",
              "      <td>class_1136</td>\n",
              "      <td>0</td>\n",
              "    </tr>\n",
              "    <tr>\n",
              "      <th>3614572</th>\n",
              "      <td>2016-01-06</td>\n",
              "      <td>location_47</td>\n",
              "      <td>item_1421429</td>\n",
              "      <td>11.0</td>\n",
              "      <td>False</td>\n",
              "      <td>1</td>\n",
              "      <td>6</td>\n",
              "      <td>2016</td>\n",
              "      <td>location_47</td>\n",
              "      <td>Bengaluru</td>\n",
              "      <td>Karnataka</td>\n",
              "      <td>A</td>\n",
              "      <td>14</td>\n",
              "      <td>beverages</td>\n",
              "      <td>class_1136</td>\n",
              "      <td>0</td>\n",
              "    </tr>\n",
              "    <tr>\n",
              "      <th>3614573</th>\n",
              "      <td>2016-01-12</td>\n",
              "      <td>location_47</td>\n",
              "      <td>item_1421429</td>\n",
              "      <td>12.0</td>\n",
              "      <td>False</td>\n",
              "      <td>1</td>\n",
              "      <td>12</td>\n",
              "      <td>2016</td>\n",
              "      <td>location_47</td>\n",
              "      <td>Bengaluru</td>\n",
              "      <td>Karnataka</td>\n",
              "      <td>A</td>\n",
              "      <td>14</td>\n",
              "      <td>beverages</td>\n",
              "      <td>class_1136</td>\n",
              "      <td>0</td>\n",
              "    </tr>\n",
              "  </tbody>\n",
              "</table>\n",
              "</div>"
            ],
            "text/plain": [
              "              date   locationId  ...       class  perishable\n",
              "3614569 2018-01-11  location_50  ...  class_4138           0\n",
              "3614570 2018-01-15  location_50  ...  class_4138           0\n",
              "3614571 2016-01-04  location_47  ...  class_1136           0\n",
              "3614572 2016-01-06  location_47  ...  class_1136           0\n",
              "3614573 2016-01-12  location_47  ...  class_1136           0\n",
              "\n",
              "[5 rows x 16 columns]"
            ]
          },
          "metadata": {
            "tags": []
          },
          "execution_count": 41
        }
      ]
    },
    {
      "cell_type": "code",
      "metadata": {
        "colab_type": "code",
        "id": "Icgxn3ITcdtQ",
        "colab": {}
      },
      "source": [
        ""
      ],
      "execution_count": 0,
      "outputs": []
    },
    {
      "cell_type": "code",
      "metadata": {
        "colab_type": "code",
        "id": "wFVV5O4cbqHj",
        "colab": {}
      },
      "source": [
        "items_cluser14=items_cluser14[items_cluser14['cluster']==14]"
      ],
      "execution_count": 0,
      "outputs": []
    },
    {
      "cell_type": "code",
      "metadata": {
        "colab_type": "code",
        "id": "ZPuA6LIIckvS",
        "colab": {}
      },
      "source": [
        ""
      ],
      "execution_count": 0,
      "outputs": []
    },
    {
      "cell_type": "code",
      "metadata": {
        "colab_type": "code",
        "id": "ipy4pNUkcDSj",
        "outputId": "d5ad2997-1217-4a11-aace-ad7a8ae513cc",
        "colab": {
          "base_uri": "https://localhost:8080/",
          "height": 33
        }
      },
      "source": [
        "items_cluser14.shape"
      ],
      "execution_count": 0,
      "outputs": [
        {
          "output_type": "execute_result",
          "data": {
            "text/plain": [
              "(389013, 16)"
            ]
          },
          "metadata": {
            "tags": []
          },
          "execution_count": 43
        }
      ]
    },
    {
      "cell_type": "code",
      "metadata": {
        "colab_type": "code",
        "id": "OJ693n0TcFzF",
        "outputId": "862dc4c3-3fb5-4107-aeab-004650cebb6f",
        "colab": {
          "base_uri": "https://localhost:8080/",
          "height": 33
        }
      },
      "source": [
        "items_cluser14['cluster'].nunique()"
      ],
      "execution_count": 0,
      "outputs": [
        {
          "output_type": "execute_result",
          "data": {
            "text/plain": [
              "1"
            ]
          },
          "metadata": {
            "tags": []
          },
          "execution_count": 44
        }
      ]
    },
    {
      "cell_type": "code",
      "metadata": {
        "colab_type": "code",
        "id": "eOELb1Uecpzg",
        "colab": {}
      },
      "source": [
        ""
      ],
      "execution_count": 0,
      "outputs": []
    },
    {
      "cell_type": "code",
      "metadata": {
        "colab_type": "code",
        "id": "Uth4YzRdba14",
        "colab": {}
      },
      "source": [
        "q=\"\"\"SELECT cluster,item_id,sum(unit_sales) FROM items_cluser14 GROUP BY item_id \"\"\"\n",
        "df3=pd.DataFrame(ql.sqldf(q,locals()))"
      ],
      "execution_count": 0,
      "outputs": []
    },
    {
      "cell_type": "code",
      "metadata": {
        "colab_type": "code",
        "id": "C_45_dNMekS4",
        "colab": {}
      },
      "source": [
        ""
      ],
      "execution_count": 0,
      "outputs": []
    },
    {
      "cell_type": "code",
      "metadata": {
        "colab_type": "code",
        "id": "ihmKLT7pdQuI",
        "outputId": "c56db87a-5e94-484e-fd9b-00fd5ef15920",
        "colab": {
          "base_uri": "https://localhost:8080/",
          "height": 196
        }
      },
      "source": [
        "df3.head()"
      ],
      "execution_count": 0,
      "outputs": [
        {
          "output_type": "execute_result",
          "data": {
            "text/html": [
              "<div>\n",
              "<style scoped>\n",
              "    .dataframe tbody tr th:only-of-type {\n",
              "        vertical-align: middle;\n",
              "    }\n",
              "\n",
              "    .dataframe tbody tr th {\n",
              "        vertical-align: top;\n",
              "    }\n",
              "\n",
              "    .dataframe thead th {\n",
              "        text-align: right;\n",
              "    }\n",
              "</style>\n",
              "<table border=\"1\" class=\"dataframe\">\n",
              "  <thead>\n",
              "    <tr style=\"text-align: right;\">\n",
              "      <th></th>\n",
              "      <th>cluster</th>\n",
              "      <th>item_id</th>\n",
              "      <th>sum(unit_sales)</th>\n",
              "      <th>item_id</th>\n",
              "    </tr>\n",
              "  </thead>\n",
              "  <tbody>\n",
              "    <tr>\n",
              "      <th>0</th>\n",
              "      <td>14</td>\n",
              "      <td>item_1000866</td>\n",
              "      <td>136.0</td>\n",
              "      <td>item_1000866</td>\n",
              "    </tr>\n",
              "    <tr>\n",
              "      <th>1</th>\n",
              "      <td>14</td>\n",
              "      <td>item_1001305</td>\n",
              "      <td>1108.0</td>\n",
              "      <td>item_1001305</td>\n",
              "    </tr>\n",
              "    <tr>\n",
              "      <th>2</th>\n",
              "      <td>14</td>\n",
              "      <td>item_1003679</td>\n",
              "      <td>1831.0</td>\n",
              "      <td>item_1003679</td>\n",
              "    </tr>\n",
              "    <tr>\n",
              "      <th>3</th>\n",
              "      <td>14</td>\n",
              "      <td>item_1004545</td>\n",
              "      <td>70.0</td>\n",
              "      <td>item_1004545</td>\n",
              "    </tr>\n",
              "    <tr>\n",
              "      <th>4</th>\n",
              "      <td>14</td>\n",
              "      <td>item_1004550</td>\n",
              "      <td>3696.0</td>\n",
              "      <td>item_1004550</td>\n",
              "    </tr>\n",
              "  </tbody>\n",
              "</table>\n",
              "</div>"
            ],
            "text/plain": [
              "   cluster       item_id  sum(unit_sales)       item_id\n",
              "0       14  item_1000866            136.0  item_1000866\n",
              "1       14  item_1001305           1108.0  item_1001305\n",
              "2       14  item_1003679           1831.0  item_1003679\n",
              "3       14  item_1004545             70.0  item_1004545\n",
              "4       14  item_1004550           3696.0  item_1004550"
            ]
          },
          "metadata": {
            "tags": []
          },
          "execution_count": 49
        }
      ]
    },
    {
      "cell_type": "code",
      "metadata": {
        "colab_type": "code",
        "id": "rw71HIwWdrAE",
        "outputId": "9d287087-9954-4a0d-80bb-4f075856a2c7",
        "colab": {
          "base_uri": "https://localhost:8080/",
          "height": 196
        }
      },
      "source": [
        "top_10_items.head()"
      ],
      "execution_count": 0,
      "outputs": [
        {
          "output_type": "execute_result",
          "data": {
            "text/html": [
              "<div>\n",
              "<style scoped>\n",
              "    .dataframe tbody tr th:only-of-type {\n",
              "        vertical-align: middle;\n",
              "    }\n",
              "\n",
              "    .dataframe tbody tr th {\n",
              "        vertical-align: top;\n",
              "    }\n",
              "\n",
              "    .dataframe thead th {\n",
              "        text-align: right;\n",
              "    }\n",
              "</style>\n",
              "<table border=\"1\" class=\"dataframe\">\n",
              "  <thead>\n",
              "    <tr style=\"text-align: right;\">\n",
              "      <th></th>\n",
              "      <th>cluster</th>\n",
              "      <th>item_id</th>\n",
              "      <th>sum(unit_sales)</th>\n",
              "      <th>item_id</th>\n",
              "    </tr>\n",
              "  </thead>\n",
              "  <tbody>\n",
              "    <tr>\n",
              "      <th>2516</th>\n",
              "      <td>14</td>\n",
              "      <td>item_584028</td>\n",
              "      <td>49807.7425</td>\n",
              "      <td>item_584028</td>\n",
              "    </tr>\n",
              "    <tr>\n",
              "      <th>2752</th>\n",
              "      <td>14</td>\n",
              "      <td>item_807493</td>\n",
              "      <td>38377.0000</td>\n",
              "      <td>item_807493</td>\n",
              "    </tr>\n",
              "    <tr>\n",
              "      <th>282</th>\n",
              "      <td>14</td>\n",
              "      <td>item_1143685</td>\n",
              "      <td>35651.0000</td>\n",
              "      <td>item_1143685</td>\n",
              "    </tr>\n",
              "    <tr>\n",
              "      <th>1445</th>\n",
              "      <td>14</td>\n",
              "      <td>item_159156</td>\n",
              "      <td>31413.2256</td>\n",
              "      <td>item_159156</td>\n",
              "    </tr>\n",
              "    <tr>\n",
              "      <th>1164</th>\n",
              "      <td>14</td>\n",
              "      <td>item_1463992</td>\n",
              "      <td>30094.0000</td>\n",
              "      <td>item_1463992</td>\n",
              "    </tr>\n",
              "  </tbody>\n",
              "</table>\n",
              "</div>"
            ],
            "text/plain": [
              "      cluster       item_id  sum(unit_sales)       item_id\n",
              "2516       14   item_584028       49807.7425   item_584028\n",
              "2752       14   item_807493       38377.0000   item_807493\n",
              "282        14  item_1143685       35651.0000  item_1143685\n",
              "1445       14   item_159156       31413.2256   item_159156\n",
              "1164       14  item_1463992       30094.0000  item_1463992"
            ]
          },
          "metadata": {
            "tags": []
          },
          "execution_count": 53
        }
      ]
    },
    {
      "cell_type": "code",
      "metadata": {
        "colab_type": "code",
        "id": "RIhwYcODebYP",
        "colab": {}
      },
      "source": [
        ""
      ],
      "execution_count": 0,
      "outputs": []
    },
    {
      "cell_type": "code",
      "metadata": {
        "colab_type": "code",
        "id": "MSshaLXWc0zH",
        "outputId": "fc0d4f13-4501-4f09-ae46-3648abf3a168",
        "colab": {
          "base_uri": "https://localhost:8080/",
          "height": 33
        }
      },
      "source": [
        "df3.shape"
      ],
      "execution_count": 0,
      "outputs": [
        {
          "output_type": "execute_result",
          "data": {
            "text/plain": [
              "(3097, 4)"
            ]
          },
          "metadata": {
            "tags": []
          },
          "execution_count": 48
        }
      ]
    },
    {
      "cell_type": "code",
      "metadata": {
        "colab_type": "code",
        "id": "GuLgKKATc8t2",
        "colab": {}
      },
      "source": [
        "top_10_items=df3.sort_values('sum(unit_sales)',ascending=False).head(10)"
      ],
      "execution_count": 0,
      "outputs": []
    },
    {
      "cell_type": "code",
      "metadata": {
        "colab_type": "code",
        "id": "Hmm0g3Z9eotc",
        "colab": {}
      },
      "source": [
        ""
      ],
      "execution_count": 0,
      "outputs": []
    },
    {
      "cell_type": "code",
      "metadata": {
        "colab_type": "code",
        "id": "wM3kmMm2d4lE",
        "outputId": "65b358ab-50a3-43e5-a154-3c1d28a6947f",
        "colab": {
          "base_uri": "https://localhost:8080/",
          "height": 577
        }
      },
      "source": [
        "top_10_items.plot(kind='bar',x='item_id',y='sum(unit_sales)',color='g',figsize=(10,8))"
      ],
      "execution_count": 0,
      "outputs": [
        {
          "output_type": "execute_result",
          "data": {
            "text/plain": [
              "<matplotlib.axes._subplots.AxesSubplot at 0x7f217c7a7f98>"
            ]
          },
          "metadata": {
            "tags": []
          },
          "execution_count": 56
        },
        {
          "output_type": "display_data",
          "data": {
            "image/png": "[encoded data removed]",
            "text/plain": [
              "<Figure size 720x576 with 1 Axes>"
            ]
          },
          "metadata": {
            "tags": []
          }
        }
      ]
    },
    {
      "cell_type": "markdown",
      "metadata": {
        "colab_type": "text",
        "id": "2lrRdeuL1mqH"
      },
      "source": [
        "## This is the bar plot of sales of top 10 items in the first 15 days of january in cluster 14."
      ]
    },
    {
      "cell_type": "code",
      "metadata": {
        "colab_type": "code",
        "id": "xa5uMajZep4M",
        "colab": {}
      },
      "source": [
        "##Rate of purchase per week\n",
        "\n",
        "##Rate of purchase for different item Id's per week\n",
        "top_10_items['sum(unit_sales)']=top_10_items['sum(unit_sales)']/2"
      ],
      "execution_count": 0,
      "outputs": []
    },
    {
      "cell_type": "code",
      "metadata": {
        "colab_type": "code",
        "id": "wzttQTXVfZeM",
        "outputId": "7ec2c9ba-3590-45e5-84f7-3366fec1df36",
        "colab": {
          "base_uri": "https://localhost:8080/",
          "height": 345
        }
      },
      "source": [
        "##Rate of purchase for different item Id's per week\n",
        "top_10_items.head(10)"
      ],
      "execution_count": 0,
      "outputs": [
        {
          "output_type": "execute_result",
          "data": {
            "text/html": [
              "<div>\n",
              "<style scoped>\n",
              "    .dataframe tbody tr th:only-of-type {\n",
              "        vertical-align: middle;\n",
              "    }\n",
              "\n",
              "    .dataframe tbody tr th {\n",
              "        vertical-align: top;\n",
              "    }\n",
              "\n",
              "    .dataframe thead th {\n",
              "        text-align: right;\n",
              "    }\n",
              "</style>\n",
              "<table border=\"1\" class=\"dataframe\">\n",
              "  <thead>\n",
              "    <tr style=\"text-align: right;\">\n",
              "      <th></th>\n",
              "      <th>cluster</th>\n",
              "      <th>item_id</th>\n",
              "      <th>sum(unit_sales)</th>\n",
              "    </tr>\n",
              "  </thead>\n",
              "  <tbody>\n",
              "    <tr>\n",
              "      <th>2516</th>\n",
              "      <td>14</td>\n",
              "      <td>item_584028</td>\n",
              "      <td>24903.87125</td>\n",
              "    </tr>\n",
              "    <tr>\n",
              "      <th>2752</th>\n",
              "      <td>14</td>\n",
              "      <td>item_807493</td>\n",
              "      <td>19188.50000</td>\n",
              "    </tr>\n",
              "    <tr>\n",
              "      <th>282</th>\n",
              "      <td>14</td>\n",
              "      <td>item_1143685</td>\n",
              "      <td>17825.50000</td>\n",
              "    </tr>\n",
              "    <tr>\n",
              "      <th>1445</th>\n",
              "      <td>14</td>\n",
              "      <td>item_159156</td>\n",
              "      <td>15706.61280</td>\n",
              "    </tr>\n",
              "    <tr>\n",
              "      <th>1164</th>\n",
              "      <td>14</td>\n",
              "      <td>item_1463992</td>\n",
              "      <td>15047.00000</td>\n",
              "    </tr>\n",
              "    <tr>\n",
              "      <th>2456</th>\n",
              "      <td>14</td>\n",
              "      <td>item_559870</td>\n",
              "      <td>14188.00000</td>\n",
              "    </tr>\n",
              "    <tr>\n",
              "      <th>2076</th>\n",
              "      <td>14</td>\n",
              "      <td>item_265559</td>\n",
              "      <td>14034.50000</td>\n",
              "    </tr>\n",
              "    <tr>\n",
              "      <th>2392</th>\n",
              "      <td>14</td>\n",
              "      <td>item_507969</td>\n",
              "      <td>13320.55085</td>\n",
              "    </tr>\n",
              "    <tr>\n",
              "      <th>2213</th>\n",
              "      <td>14</td>\n",
              "      <td>item_364606</td>\n",
              "      <td>12914.00000</td>\n",
              "    </tr>\n",
              "    <tr>\n",
              "      <th>64</th>\n",
              "      <td>14</td>\n",
              "      <td>item_1047679</td>\n",
              "      <td>12389.50000</td>\n",
              "    </tr>\n",
              "  </tbody>\n",
              "</table>\n",
              "</div>"
            ],
            "text/plain": [
              "      cluster       item_id  sum(unit_sales)\n",
              "2516       14   item_584028      24903.87125\n",
              "2752       14   item_807493      19188.50000\n",
              "282        14  item_1143685      17825.50000\n",
              "1445       14   item_159156      15706.61280\n",
              "1164       14  item_1463992      15047.00000\n",
              "2456       14   item_559870      14188.00000\n",
              "2076       14   item_265559      14034.50000\n",
              "2392       14   item_507969      13320.55085\n",
              "2213       14   item_364606      12914.00000\n",
              "64         14  item_1047679      12389.50000"
            ]
          },
          "metadata": {
            "tags": []
          },
          "execution_count": 60
        }
      ]
    },
    {
      "cell_type": "code",
      "metadata": {
        "colab_type": "code",
        "id": "OhRckZuzzeYQ",
        "colab": {}
      },
      "source": [
        "q=\"\"\"SELECT year,sum(unit_sales) as sales FROM items_cluser14 GROUP BY year \"\"\"\n",
        "df4=pd.DataFrame(ql.sqldf(q,locals()))"
      ],
      "execution_count": 0,
      "outputs": []
    },
    {
      "cell_type": "code",
      "metadata": {
        "colab_type": "code",
        "id": "9VInx4wNfr-F",
        "outputId": "5bf3e11b-d724-48cb-ffa7-ddbafc39c4a5",
        "colab": {
          "base_uri": "https://localhost:8080/",
          "height": 33
        }
      },
      "source": [
        "from sklearn.linear_model import LinearRegression\n",
        "x=pd.DataFrame(df4['year'])\n",
        "y=pd.DataFrame(df4['sales'])\n",
        "\n",
        "model = LinearRegression()\n",
        "model.fit(x,y)\n"
      ],
      "execution_count": 0,
      "outputs": [
        {
          "output_type": "execute_result",
          "data": {
            "text/plain": [
              "LinearRegression(copy_X=True, fit_intercept=True, n_jobs=None, normalize=False)"
            ]
          },
          "metadata": {
            "tags": []
          },
          "execution_count": 62
        }
      ]
    },
    {
      "cell_type": "code",
      "metadata": {
        "colab_type": "code",
        "id": "6orq8UVYzy8o",
        "colab": {}
      },
      "source": [
        "d=pd.DataFrame()\n",
        "d['year']=[2019]"
      ],
      "execution_count": 0,
      "outputs": []
    },
    {
      "cell_type": "code",
      "metadata": {
        "colab_type": "code",
        "id": "FgOqi2jzfdb7",
        "outputId": "863a7304-2bca-4b17-a6ff-7ba68baf80bb",
        "colab": {
          "base_uri": "https://localhost:8080/",
          "height": 33
        }
      },
      "source": [
        "model.predict(d)"
      ],
      "execution_count": 0,
      "outputs": [
        {
          "output_type": "execute_result",
          "data": {
            "text/plain": [
              "array([[1821611.86399996]])"
            ]
          },
          "metadata": {
            "tags": []
          },
          "execution_count": 64
        }
      ]
    },
    {
      "cell_type": "code",
      "metadata": {
        "colab_type": "code",
        "id": "IQtlgIeoeNdM",
        "colab": {}
      },
      "source": [
        ""
      ],
      "execution_count": 0,
      "outputs": []
    },
    {
      "cell_type": "markdown",
      "metadata": {
        "colab_type": "text",
        "id": "h2fABJdq0ME7"
      },
      "source": [
        "**1821611.86399996** is the basic prediction of sum of unit_sales for first 15 days of 2019 for cluster 14.\n",
        "\n",
        "This can be used to cross check with the model we have created next."
      ]
    },
    {
      "cell_type": "code",
      "metadata": {
        "colab_type": "code",
        "id": "OGjlU57Mh8_N",
        "outputId": "7f2b5706-2d4b-4601-bea1-8ccc5acd00e2",
        "colab": {
          "base_uri": "https://localhost:8080/",
          "height": 195
        }
      },
      "source": [
        "train_trans.head()"
      ],
      "execution_count": 0,
      "outputs": [
        {
          "output_type": "execute_result",
          "data": {
            "text/html": [
              "<div>\n",
              "<style scoped>\n",
              "    .dataframe tbody tr th:only-of-type {\n",
              "        vertical-align: middle;\n",
              "    }\n",
              "\n",
              "    .dataframe tbody tr th {\n",
              "        vertical-align: top;\n",
              "    }\n",
              "\n",
              "    .dataframe thead th {\n",
              "        text-align: right;\n",
              "    }\n",
              "</style>\n",
              "<table border=\"1\" class=\"dataframe\">\n",
              "  <thead>\n",
              "    <tr style=\"text-align: right;\">\n",
              "      <th></th>\n",
              "      <th>date</th>\n",
              "      <th>location_identifier</th>\n",
              "      <th>transactions</th>\n",
              "    </tr>\n",
              "  </thead>\n",
              "  <tbody>\n",
              "    <tr>\n",
              "      <th>0</th>\n",
              "      <td>2015-01-01</td>\n",
              "      <td>location_25</td>\n",
              "      <td>770</td>\n",
              "    </tr>\n",
              "    <tr>\n",
              "      <th>1</th>\n",
              "      <td>2015-01-02</td>\n",
              "      <td>location_1</td>\n",
              "      <td>2111</td>\n",
              "    </tr>\n",
              "    <tr>\n",
              "      <th>2</th>\n",
              "      <td>2015-01-02</td>\n",
              "      <td>location_2</td>\n",
              "      <td>2358</td>\n",
              "    </tr>\n",
              "    <tr>\n",
              "      <th>3</th>\n",
              "      <td>2015-01-02</td>\n",
              "      <td>location_3</td>\n",
              "      <td>3487</td>\n",
              "    </tr>\n",
              "    <tr>\n",
              "      <th>4</th>\n",
              "      <td>2015-01-02</td>\n",
              "      <td>location_4</td>\n",
              "      <td>1922</td>\n",
              "    </tr>\n",
              "  </tbody>\n",
              "</table>\n",
              "</div>"
            ],
            "text/plain": [
              "         date location_identifier  transactions\n",
              "0  2015-01-01         location_25           770\n",
              "1  2015-01-02          location_1          2111\n",
              "2  2015-01-02          location_2          2358\n",
              "3  2015-01-02          location_3          3487\n",
              "4  2015-01-02          location_4          1922"
            ]
          },
          "metadata": {
            "tags": []
          },
          "execution_count": 15
        }
      ]
    },
    {
      "cell_type": "code",
      "metadata": {
        "colab_type": "code",
        "id": "dxivdFhIh_aa",
        "colab": {}
      },
      "source": [
        "q5=\"\"\"SELECT location_identifier,sum(transactions) as transactions FROM train_trans GROUP BY  location_identifier\"\"\"\n",
        "transactions_df=pd.DataFrame(ql.sqldf(q5,locals()))"
      ],
      "execution_count": 0,
      "outputs": []
    },
    {
      "cell_type": "code",
      "metadata": {
        "colab_type": "code",
        "id": "xfXK_5L_inus",
        "outputId": "0243842a-30bb-4b1c-ac1b-81e993f89c9e",
        "colab": {
          "base_uri": "https://localhost:8080/",
          "height": 34
        }
      },
      "source": [
        "transactions_df.shape"
      ],
      "execution_count": 0,
      "outputs": [
        {
          "output_type": "execute_result",
          "data": {
            "text/plain": [
              "(53, 2)"
            ]
          },
          "metadata": {
            "tags": []
          },
          "execution_count": 20
        }
      ]
    },
    {
      "cell_type": "code",
      "metadata": {
        "colab_type": "code",
        "id": "hmwcyEOTiy4n",
        "outputId": "d3370257-522c-420b-cf39-8355d81a9946",
        "colab": {
          "base_uri": "https://localhost:8080/",
          "height": 562
        }
      },
      "source": [
        "transactions_df.plot(kind='bar',x='location_identifier',y='transactions',color='r',figsize=(10,8))"
      ],
      "execution_count": 0,
      "outputs": [
        {
          "output_type": "execute_result",
          "data": {
            "text/plain": [
              "<matplotlib.axes._subplots.AxesSubplot at 0x7f51ab958dd8>"
            ]
          },
          "metadata": {
            "tags": []
          },
          "execution_count": 21
        },
        {
          "output_type": "display_data",
          "data": {
            "image/png": "[encoded data removed]",
            "text/plain": [
              "<Figure size 720x576 with 1 Axes>"
            ]
          },
          "metadata": {
            "tags": []
          }
        }
      ]
    },
    {
      "cell_type": "markdown",
      "metadata": {
        "colab_type": "text",
        "id": "338HG368jUiG"
      },
      "source": [
        "After sorting the sum of transactions for each location identifier"
      ]
    },
    {
      "cell_type": "code",
      "metadata": {
        "colab_type": "code",
        "id": "T7SmtL2kjEzo",
        "outputId": "3df31d54-b82c-4256-ac56-982864a44500",
        "colab": {
          "base_uri": "https://localhost:8080/",
          "height": 578
        }
      },
      "source": [
        "import matplotlib.pyplot as plt\n",
        "\n",
        "plt.figure(figsize=(14,16))\n",
        "transactions_df.sort_values('transactions',ascending=False,inplace=True)\n",
        "transactions_df.plot(kind='bar',y='transactions',x='location_identifier',color='b',figsize=(10,8))"
      ],
      "execution_count": 0,
      "outputs": [
        {
          "output_type": "execute_result",
          "data": {
            "text/plain": [
              "<matplotlib.axes._subplots.AxesSubplot at 0x7f51323f16a0>"
            ]
          },
          "metadata": {
            "tags": []
          },
          "execution_count": 23
        },
        {
          "output_type": "display_data",
          "data": {
            "text/plain": [
              "<Figure size 1008x1152 with 0 Axes>"
            ]
          },
          "metadata": {
            "tags": []
          }
        },
        {
          "output_type": "display_data",
          "data": {
            "image/png": "[encoded data removed]",
            "text/plain": [
              "<Figure size 720x576 with 1 Axes>"
            ]
          },
          "metadata": {
            "tags": []
          }
        }
      ]
    },
    {
      "cell_type": "markdown",
      "metadata": {
        "colab_type": "text",
        "id": "hDGziEw1jy-o"
      },
      "source": [
        "From this we can deduce that location 44 has maximum number of transactions being made."
      ]
    },
    {
      "cell_type": "markdown",
      "metadata": {
        "colab_type": "text",
        "id": "jsmwHS7L6FlX"
      },
      "source": [
        "## PreProcessing Of Train and test Data"
      ]
    },
    {
      "cell_type": "code",
      "metadata": {
        "colab_type": "code",
        "id": "wQH5pq4N6C6b",
        "outputId": "c39ddac1-9328-4a7a-c619-0983404483a7",
        "colab": {
          "base_uri": "https://localhost:8080/",
          "height": 72
        }
      },
      "source": [
        "import pandas as pd\n",
        "train=pd.read_csv('train (1).csv')\n",
        "train['date']=pd.to_datetime(train['date'],format='%Y-%m-%d')\n",
        "##Feature engineering is imporatant for dates.For easy access of days months and year\n",
        "\n",
        "train['month']=train['date'].dt.month\n",
        "train['day']=train['date'].dt.day\n",
        "train['year']=train['date'].dt.year\n",
        "test=pd.read_csv('test.csv')\n",
        "test['item_id']=test['item_id'].astype('category')\n",
        "\n",
        "train['item_id']=train['item_id'].astype('category')\n",
        "test['item_id']=test['item_id'].astype('category')\n",
        "\n",
        "train_items=train['item_id'].cat.categories.tolist()\n",
        "test_items=test['item_id'].cat.categories.tolist()\n",
        "\n",
        "import numpy as np\n",
        "def setdiff_sorted(array1,array2,assume_unique=False):\n",
        "    ans = np.setdiff1d(array1,array2,assume_unique).tolist()\n",
        "    if assume_unique:\n",
        "        return sorted(ans)\n",
        "    return ans\n",
        "\n",
        "\n",
        "items_not_in_train=setdiff_sorted(test_items,train_items)\n",
        "\n",
        "\n",
        "items_labels=train_items + items_not_in_train\n",
        "\n",
        "\n",
        "encode = list(range(len(items_labels)))\n",
        "dic_items=dict(zip(items_labels,encode))\n",
        "\n",
        "train['item_id']=train['item_id'].map(dic_items)\n",
        "train['item_id']=train['item_id'].astype('int32')\n",
        "\n",
        "\n",
        "test['item_id']=test['item_id'].map(dic_items)\n",
        "test['item_id']=test['item_id'].astype('int32')\n",
        "\n",
        "from sklearn.preprocessing import LabelEncoder\n",
        "le=LabelEncoder()\n",
        "le.fit(train['locationId'])\n",
        "\n",
        "train['locationId']=le.transform(train['locationId'])\n",
        "test['locationId']=le.transform(test['locationId'])\n",
        "test.to_csv('test_prep.csv')\n",
        "##Feature engineering is imporatant for dates.For easy access of days months and year\n",
        "test['date']=pd.to_datetime(test['date'],format='%Y-%m-%d')\n",
        "test['month']=test['date'].dt.month\n",
        "\n",
        "test['day']=test['date'].dt.day\n",
        "test['year']=test['date'].dt.year\n",
        "\n",
        "test=test.drop('date',axis=1)\n"
      ],
      "execution_count": 0,
      "outputs": [
        {
          "output_type": "stream",
          "text": [
            "/usr/local/lib/python3.6/dist-packages/IPython/core/interactiveshell.py:2718: DtypeWarning: Columns (4) have mixed types. Specify dtype option on import or set low_memory=False.\n",
            "  interactivity=interactivity, compiler=compiler, result=result)\n"
          ],
          "name": "stderr"
        }
      ]
    },
    {
      "cell_type": "code",
      "metadata": {
        "colab_type": "code",
        "id": "L-IIdzZh8BKV",
        "colab": {}
      },
      "source": [
        "train['onpromotion']=train['onpromotion'].astype('bool')"
      ],
      "execution_count": 0,
      "outputs": []
    },
    {
      "cell_type": "code",
      "metadata": {
        "colab_type": "code",
        "id": "F8m7usQO9-K2",
        "colab": {}
      },
      "source": [
        "train['onpromotion']=train['onpromotion'].fillna(train['onpromotion'].mode())"
      ],
      "execution_count": 0,
      "outputs": []
    },
    {
      "cell_type": "code",
      "metadata": {
        "colab_type": "code",
        "id": "XQCDhzh3IIQB",
        "colab": {}
      },
      "source": [
        ""
      ],
      "execution_count": 0,
      "outputs": []
    },
    {
      "cell_type": "code",
      "metadata": {
        "colab_type": "code",
        "id": "H6BtAF8U-Mbp",
        "outputId": "1d3491ea-cbbe-45c1-d7a6-0db98d813438",
        "colab": {
          "base_uri": "https://localhost:8080/",
          "height": 198
        }
      },
      "source": [
        "train.head()"
      ],
      "execution_count": 0,
      "outputs": [
        {
          "output_type": "execute_result",
          "data": {
            "text/html": [
              "<div>\n",
              "<style scoped>\n",
              "    .dataframe tbody tr th:only-of-type {\n",
              "        vertical-align: middle;\n",
              "    }\n",
              "\n",
              "    .dataframe tbody tr th {\n",
              "        vertical-align: top;\n",
              "    }\n",
              "\n",
              "    .dataframe thead th {\n",
              "        text-align: right;\n",
              "    }\n",
              "</style>\n",
              "<table border=\"1\" class=\"dataframe\">\n",
              "  <thead>\n",
              "    <tr style=\"text-align: right;\">\n",
              "      <th></th>\n",
              "      <th>locationId</th>\n",
              "      <th>item_id</th>\n",
              "      <th>unit_sales</th>\n",
              "      <th>onpromotion</th>\n",
              "      <th>month</th>\n",
              "      <th>day</th>\n",
              "      <th>year</th>\n",
              "    </tr>\n",
              "  </thead>\n",
              "  <tbody>\n",
              "    <tr>\n",
              "      <th>38594264</th>\n",
              "      <td>17</td>\n",
              "      <td>45</td>\n",
              "      <td>12.0</td>\n",
              "      <td>False</td>\n",
              "      <td>1</td>\n",
              "      <td>1</td>\n",
              "      <td>2017</td>\n",
              "    </tr>\n",
              "    <tr>\n",
              "      <th>38594265</th>\n",
              "      <td>17</td>\n",
              "      <td>121</td>\n",
              "      <td>23.0</td>\n",
              "      <td>False</td>\n",
              "      <td>1</td>\n",
              "      <td>1</td>\n",
              "      <td>2017</td>\n",
              "    </tr>\n",
              "    <tr>\n",
              "      <th>38594266</th>\n",
              "      <td>17</td>\n",
              "      <td>194</td>\n",
              "      <td>1.0</td>\n",
              "      <td>False</td>\n",
              "      <td>1</td>\n",
              "      <td>1</td>\n",
              "      <td>2017</td>\n",
              "    </tr>\n",
              "    <tr>\n",
              "      <th>38594267</th>\n",
              "      <td>17</td>\n",
              "      <td>196</td>\n",
              "      <td>6.0</td>\n",
              "      <td>False</td>\n",
              "      <td>1</td>\n",
              "      <td>1</td>\n",
              "      <td>2017</td>\n",
              "    </tr>\n",
              "    <tr>\n",
              "      <th>38594268</th>\n",
              "      <td>17</td>\n",
              "      <td>201</td>\n",
              "      <td>6.0</td>\n",
              "      <td>False</td>\n",
              "      <td>1</td>\n",
              "      <td>1</td>\n",
              "      <td>2017</td>\n",
              "    </tr>\n",
              "  </tbody>\n",
              "</table>\n",
              "</div>"
            ],
            "text/plain": [
              "          locationId  item_id  unit_sales  onpromotion  month  day  year\n",
              "38594264          17       45        12.0        False      1    1  2017\n",
              "38594265          17      121        23.0        False      1    1  2017\n",
              "38594266          17      194         1.0        False      1    1  2017\n",
              "38594267          17      196         6.0        False      1    1  2017\n",
              "38594268          17      201         6.0        False      1    1  2017"
            ]
          },
          "metadata": {
            "tags": []
          },
          "execution_count": 36
        }
      ]
    },
    {
      "cell_type": "code",
      "metadata": {
        "colab_type": "code",
        "id": "fx8zPfnR-Pdn",
        "colab": {}
      },
      "source": [
        "test=test.drop('id',axis=1)"
      ],
      "execution_count": 0,
      "outputs": []
    },
    {
      "cell_type": "code",
      "metadata": {
        "colab_type": "code",
        "id": "XhYVzbHr-oha",
        "outputId": "26e8cf4e-0e1d-4dd1-f9ec-869bb4be547a",
        "colab": {
          "base_uri": "https://localhost:8080/",
          "height": 198
        }
      },
      "source": [
        "test.head()"
      ],
      "execution_count": 0,
      "outputs": [
        {
          "output_type": "execute_result",
          "data": {
            "text/html": [
              "<div>\n",
              "<style scoped>\n",
              "    .dataframe tbody tr th:only-of-type {\n",
              "        vertical-align: middle;\n",
              "    }\n",
              "\n",
              "    .dataframe tbody tr th {\n",
              "        vertical-align: top;\n",
              "    }\n",
              "\n",
              "    .dataframe thead th {\n",
              "        text-align: right;\n",
              "    }\n",
              "</style>\n",
              "<table border=\"1\" class=\"dataframe\">\n",
              "  <thead>\n",
              "    <tr style=\"text-align: right;\">\n",
              "      <th></th>\n",
              "      <th>locationId</th>\n",
              "      <th>item_id</th>\n",
              "      <th>onpromotion</th>\n",
              "      <th>month</th>\n",
              "      <th>day</th>\n",
              "      <th>year</th>\n",
              "    </tr>\n",
              "  </thead>\n",
              "  <tbody>\n",
              "    <tr>\n",
              "      <th>0</th>\n",
              "      <td>17</td>\n",
              "      <td>3880</td>\n",
              "      <td>False</td>\n",
              "      <td>1</td>\n",
              "      <td>1</td>\n",
              "      <td>2019</td>\n",
              "    </tr>\n",
              "    <tr>\n",
              "      <th>1</th>\n",
              "      <td>17</td>\n",
              "      <td>45</td>\n",
              "      <td>False</td>\n",
              "      <td>1</td>\n",
              "      <td>1</td>\n",
              "      <td>2019</td>\n",
              "    </tr>\n",
              "    <tr>\n",
              "      <th>2</th>\n",
              "      <td>17</td>\n",
              "      <td>120</td>\n",
              "      <td>False</td>\n",
              "      <td>1</td>\n",
              "      <td>1</td>\n",
              "      <td>2019</td>\n",
              "    </tr>\n",
              "    <tr>\n",
              "      <th>3</th>\n",
              "      <td>17</td>\n",
              "      <td>133</td>\n",
              "      <td>False</td>\n",
              "      <td>1</td>\n",
              "      <td>1</td>\n",
              "      <td>2019</td>\n",
              "    </tr>\n",
              "    <tr>\n",
              "      <th>4</th>\n",
              "      <td>17</td>\n",
              "      <td>144</td>\n",
              "      <td>False</td>\n",
              "      <td>1</td>\n",
              "      <td>1</td>\n",
              "      <td>2019</td>\n",
              "    </tr>\n",
              "  </tbody>\n",
              "</table>\n",
              "</div>"
            ],
            "text/plain": [
              "   locationId  item_id  onpromotion  month  day  year\n",
              "0          17     3880        False      1    1  2019\n",
              "1          17       45        False      1    1  2019\n",
              "2          17      120        False      1    1  2019\n",
              "3          17      133        False      1    1  2019\n",
              "4          17      144        False      1    1  2019"
            ]
          },
          "metadata": {
            "tags": []
          },
          "execution_count": 38
        }
      ]
    },
    {
      "cell_type": "code",
      "metadata": {
        "colab_type": "code",
        "id": "WuNL6p_U-tA_",
        "colab": {}
      },
      "source": [
        "train=train.drop('date',axis=1)"
      ],
      "execution_count": 0,
      "outputs": []
    },
    {
      "cell_type": "code",
      "metadata": {
        "colab_type": "code",
        "id": "eAN3YMmv_lgY",
        "outputId": "6651d0f4-1fa6-46f3-d7e1-ed49f0684bf6",
        "colab": {
          "base_uri": "https://localhost:8080/",
          "height": 198
        }
      },
      "source": [
        "train.head()"
      ],
      "execution_count": 0,
      "outputs": [
        {
          "output_type": "execute_result",
          "data": {
            "text/html": [
              "<div>\n",
              "<style scoped>\n",
              "    .dataframe tbody tr th:only-of-type {\n",
              "        vertical-align: middle;\n",
              "    }\n",
              "\n",
              "    .dataframe tbody tr th {\n",
              "        vertical-align: top;\n",
              "    }\n",
              "\n",
              "    .dataframe thead th {\n",
              "        text-align: right;\n",
              "    }\n",
              "</style>\n",
              "<table border=\"1\" class=\"dataframe\">\n",
              "  <thead>\n",
              "    <tr style=\"text-align: right;\">\n",
              "      <th></th>\n",
              "      <th>locationId</th>\n",
              "      <th>item_id</th>\n",
              "      <th>unit_sales</th>\n",
              "      <th>onpromotion</th>\n",
              "      <th>month</th>\n",
              "      <th>day</th>\n",
              "      <th>year</th>\n",
              "    </tr>\n",
              "  </thead>\n",
              "  <tbody>\n",
              "    <tr>\n",
              "      <th>0</th>\n",
              "      <td>17</td>\n",
              "      <td>45</td>\n",
              "      <td>7.0</td>\n",
              "      <td>True</td>\n",
              "      <td>1</td>\n",
              "      <td>1</td>\n",
              "      <td>2015</td>\n",
              "    </tr>\n",
              "    <tr>\n",
              "      <th>1</th>\n",
              "      <td>17</td>\n",
              "      <td>120</td>\n",
              "      <td>1.0</td>\n",
              "      <td>True</td>\n",
              "      <td>1</td>\n",
              "      <td>1</td>\n",
              "      <td>2015</td>\n",
              "    </tr>\n",
              "    <tr>\n",
              "      <th>2</th>\n",
              "      <td>17</td>\n",
              "      <td>121</td>\n",
              "      <td>2.0</td>\n",
              "      <td>True</td>\n",
              "      <td>1</td>\n",
              "      <td>1</td>\n",
              "      <td>2015</td>\n",
              "    </tr>\n",
              "    <tr>\n",
              "      <th>3</th>\n",
              "      <td>17</td>\n",
              "      <td>170</td>\n",
              "      <td>1.0</td>\n",
              "      <td>True</td>\n",
              "      <td>1</td>\n",
              "      <td>1</td>\n",
              "      <td>2015</td>\n",
              "    </tr>\n",
              "    <tr>\n",
              "      <th>4</th>\n",
              "      <td>17</td>\n",
              "      <td>197</td>\n",
              "      <td>1.0</td>\n",
              "      <td>True</td>\n",
              "      <td>1</td>\n",
              "      <td>1</td>\n",
              "      <td>2015</td>\n",
              "    </tr>\n",
              "  </tbody>\n",
              "</table>\n",
              "</div>"
            ],
            "text/plain": [
              "   locationId  item_id  unit_sales  onpromotion  month  day  year\n",
              "0          17       45         7.0         True      1    1  2015\n",
              "1          17      120         1.0         True      1    1  2015\n",
              "2          17      121         2.0         True      1    1  2015\n",
              "3          17      170         1.0         True      1    1  2015\n",
              "4          17      197         1.0         True      1    1  2015"
            ]
          },
          "metadata": {
            "tags": []
          },
          "execution_count": 27
        }
      ]
    },
    {
      "cell_type": "code",
      "metadata": {
        "colab_type": "code",
        "id": "Jb7ZclvR_qhb",
        "outputId": "d5f70e1e-eaf3-4093-b1ca-71bc992b9fe3",
        "colab": {
          "base_uri": "https://localhost:8080/",
          "height": 198
        }
      },
      "source": [
        "test.head()"
      ],
      "execution_count": 0,
      "outputs": [
        {
          "output_type": "execute_result",
          "data": {
            "text/html": [
              "<div>\n",
              "<style scoped>\n",
              "    .dataframe tbody tr th:only-of-type {\n",
              "        vertical-align: middle;\n",
              "    }\n",
              "\n",
              "    .dataframe tbody tr th {\n",
              "        vertical-align: top;\n",
              "    }\n",
              "\n",
              "    .dataframe thead th {\n",
              "        text-align: right;\n",
              "    }\n",
              "</style>\n",
              "<table border=\"1\" class=\"dataframe\">\n",
              "  <thead>\n",
              "    <tr style=\"text-align: right;\">\n",
              "      <th></th>\n",
              "      <th>locationId</th>\n",
              "      <th>item_id</th>\n",
              "      <th>onpromotion</th>\n",
              "      <th>month</th>\n",
              "      <th>day</th>\n",
              "      <th>year</th>\n",
              "    </tr>\n",
              "  </thead>\n",
              "  <tbody>\n",
              "    <tr>\n",
              "      <th>0</th>\n",
              "      <td>17</td>\n",
              "      <td>3880</td>\n",
              "      <td>False</td>\n",
              "      <td>1</td>\n",
              "      <td>1</td>\n",
              "      <td>2019</td>\n",
              "    </tr>\n",
              "    <tr>\n",
              "      <th>1</th>\n",
              "      <td>17</td>\n",
              "      <td>45</td>\n",
              "      <td>False</td>\n",
              "      <td>1</td>\n",
              "      <td>1</td>\n",
              "      <td>2019</td>\n",
              "    </tr>\n",
              "    <tr>\n",
              "      <th>2</th>\n",
              "      <td>17</td>\n",
              "      <td>120</td>\n",
              "      <td>False</td>\n",
              "      <td>1</td>\n",
              "      <td>1</td>\n",
              "      <td>2019</td>\n",
              "    </tr>\n",
              "    <tr>\n",
              "      <th>3</th>\n",
              "      <td>17</td>\n",
              "      <td>133</td>\n",
              "      <td>False</td>\n",
              "      <td>1</td>\n",
              "      <td>1</td>\n",
              "      <td>2019</td>\n",
              "    </tr>\n",
              "    <tr>\n",
              "      <th>4</th>\n",
              "      <td>17</td>\n",
              "      <td>144</td>\n",
              "      <td>False</td>\n",
              "      <td>1</td>\n",
              "      <td>1</td>\n",
              "      <td>2019</td>\n",
              "    </tr>\n",
              "  </tbody>\n",
              "</table>\n",
              "</div>"
            ],
            "text/plain": [
              "   locationId  item_id  onpromotion  month  day  year\n",
              "0          17     3880        False      1    1  2019\n",
              "1          17       45        False      1    1  2019\n",
              "2          17      120        False      1    1  2019\n",
              "3          17      133        False      1    1  2019\n",
              "4          17      144        False      1    1  2019"
            ]
          },
          "metadata": {
            "tags": []
          },
          "execution_count": 28
        }
      ]
    },
    {
      "cell_type": "code",
      "metadata": {
        "colab_type": "code",
        "id": "K8RWQkuh_sQ-",
        "colab": {}
      },
      "source": [
        "train=train[train['year']>2016]"
      ],
      "execution_count": 0,
      "outputs": []
    },
    {
      "cell_type": "code",
      "metadata": {
        "colab_type": "code",
        "id": "6z9Nq8Yy_1ZR",
        "outputId": "507a2b59-3630-47d7-e56b-17fae748aa4f",
        "colab": {
          "base_uri": "https://localhost:8080/",
          "height": 34
        }
      },
      "source": [
        "train.shape"
      ],
      "execution_count": 0,
      "outputs": [
        {
          "output_type": "execute_result",
          "data": {
            "text/plain": [
              "(63094515, 7)"
            ]
          },
          "metadata": {
            "tags": []
          },
          "execution_count": 40
        }
      ]
    },
    {
      "cell_type": "code",
      "metadata": {
        "colab_type": "code",
        "id": "Y0VfMYoF_3ta",
        "colab": {}
      },
      "source": [
        "y=train['unit_sales']\n",
        "X=train.drop('unit_sales',axis=1)"
      ],
      "execution_count": 0,
      "outputs": []
    },
    {
      "cell_type": "code",
      "metadata": {
        "colab_type": "code",
        "id": "cz1KtYSQ__eC",
        "colab": {}
      },
      "source": [
        "from sklearn.model_selection import train_test_split\n",
        "X_train, X_test, y_train, y_test = train_test_split(\n",
        "    X, y, test_size = 0.20, random_state = 1\n",
        ")"
      ],
      "execution_count": 0,
      "outputs": []
    },
    {
      "cell_type": "code",
      "metadata": {
        "colab_type": "code",
        "id": "VtUkZDIgA2A_",
        "outputId": "0b971150-6074-48f1-d6aa-c8ae05676c8e",
        "colab": {
          "base_uri": "https://localhost:8080/",
          "height": 34
        }
      },
      "source": [
        "from sklearn.linear_model import LinearRegression\n",
        "\n",
        "model = LinearRegression()\n",
        "model.fit(X_train,y_train)"
      ],
      "execution_count": 0,
      "outputs": [
        {
          "output_type": "execute_result",
          "data": {
            "text/plain": [
              "LinearRegression(copy_X=True, fit_intercept=True, n_jobs=None, normalize=False)"
            ]
          },
          "metadata": {
            "tags": []
          },
          "execution_count": 45
        }
      ]
    },
    {
      "cell_type": "code",
      "metadata": {
        "colab_type": "code",
        "id": "uR-daXZCJGFn",
        "colab": {}
      },
      "source": [
        "\n",
        "def mean_absolute_percentage_error(y_true, y_pred): \n",
        "  \n",
        "\n",
        "    ## Note: does not handle mix 1d representation\n",
        "    #if _is_1d(y_true): \n",
        "    #    y_true, y_pred = _check_1d_array(y_true, y_pred)\n",
        "\n",
        "    return np.mean(np.abs((y_true - y_pred) / y_true)) * 100"
      ],
      "execution_count": 0,
      "outputs": []
    },
    {
      "cell_type": "code",
      "metadata": {
        "colab_type": "code",
        "id": "CzPp7bA--q5w",
        "colab": {}
      },
      "source": [
        "y_preds_linear=model.predict(X_train)"
      ],
      "execution_count": 0,
      "outputs": []
    },
    {
      "cell_type": "code",
      "metadata": {
        "colab_type": "code",
        "id": "A0BSq0EGJ6vv",
        "colab": {}
      },
      "source": [
        ""
      ],
      "execution_count": 0,
      "outputs": []
    },
    {
      "cell_type": "markdown",
      "metadata": {
        "colab_type": "text",
        "id": "w9lvpPCjJ77N"
      },
      "source": [
        "MAPE of linear on train Data is :**237.5323131915676**"
      ]
    },
    {
      "cell_type": "code",
      "metadata": {
        "colab_type": "code",
        "id": "DhNV0FPsJb-B",
        "outputId": "9bf93ea7-9d16-4c80-a15f-df3c9adf42ce",
        "colab": {
          "base_uri": "https://localhost:8080/",
          "height": 34
        }
      },
      "source": [
        "import numpy as np\n",
        "mean_absolute_percentage_error(np.array(y_train),y_preds_linear)"
      ],
      "execution_count": 0,
      "outputs": [
        {
          "output_type": "execute_result",
          "data": {
            "text/plain": [
              "237.5323131915676"
            ]
          },
          "metadata": {
            "tags": []
          },
          "execution_count": 48
        }
      ]
    },
    {
      "cell_type": "code",
      "metadata": {
        "colab_type": "code",
        "id": "o6aMSkLUJpl4",
        "colab": {}
      },
      "source": [
        "y_preds_test_linear=model.predict(X_test)"
      ],
      "execution_count": 0,
      "outputs": []
    },
    {
      "cell_type": "markdown",
      "metadata": {
        "colab_type": "text",
        "id": "D6HRi11bKEDL"
      },
      "source": [
        "MAPE of linear on train Data is :237.43550513937174"
      ]
    },
    {
      "cell_type": "code",
      "metadata": {
        "colab_type": "code",
        "id": "u1Uf2LF1JwWF",
        "outputId": "0048d6a7-d45c-4f25-de3d-ed3a762e22f8",
        "colab": {
          "base_uri": "https://localhost:8080/",
          "height": 34
        }
      },
      "source": [
        "mean_absolute_percentage_error(np.array(y_test),y_preds_test_linear)"
      ],
      "execution_count": 0,
      "outputs": [
        {
          "output_type": "execute_result",
          "data": {
            "text/plain": [
              "237.43550513937174"
            ]
          },
          "metadata": {
            "tags": []
          },
          "execution_count": 50
        }
      ]
    },
    {
      "cell_type": "markdown",
      "metadata": {
        "colab_type": "text",
        "id": "9FUSpBXxKNeo"
      },
      "source": [
        "# Linear regression\n",
        "**Train MAPE**:-237.5323131915676\n",
        "\n",
        "**Test MAPE**:-237.43550513937174\n",
        "\n",
        "\n",
        "**Conclusion**:In linear regression there is no over fit or under fit as the train and test MAPE are almost same.\n",
        "But the MAPE is not good,So i'm trying for better models after this."
      ]
    },
    {
      "cell_type": "code",
      "metadata": {
        "colab_type": "code",
        "id": "BjLCof8RJ3T4",
        "colab": {}
      },
      "source": [
        ""
      ],
      "execution_count": 0,
      "outputs": []
    },
    {
      "cell_type": "markdown",
      "metadata": {
        "colab_type": "text",
        "id": "KsAMfWm2NMOZ"
      },
      "source": [
        "Trying Decision tree regressor.With max depth as 8."
      ]
    },
    {
      "cell_type": "code",
      "metadata": {
        "colab_type": "code",
        "id": "vzulG1DvCe7Z",
        "colab": {}
      },
      "source": [
        "from sklearn.tree import DecisionTreeRegressor\n",
        "\n",
        "tree = DecisionTreeRegressor(max_depth = 8,\n",
        "                             #max_leaf_nodes = 10 \n",
        "                             )\n",
        "tree.fit(X_train,y_train)\n",
        "y_pred=tree.predict(X_train)"
      ],
      "execution_count": 0,
      "outputs": []
    },
    {
      "cell_type": "code",
      "metadata": {
        "colab_type": "code",
        "id": "Y7qVla8HN_n_",
        "colab": {}
      },
      "source": [
        ""
      ],
      "execution_count": 0,
      "outputs": []
    },
    {
      "cell_type": "code",
      "metadata": {
        "colab_type": "code",
        "id": "iAyb4rTJHpdk",
        "outputId": "ac25a55f-9927-4287-879a-fd6eae47b39f",
        "colab": {
          "base_uri": "https://localhost:8080/",
          "height": 34
        }
      },
      "source": [
        "mean_absolute_percentage_error(np.array(y_train),y_pred)"
      ],
      "execution_count": 0,
      "outputs": [
        {
          "output_type": "execute_result",
          "data": {
            "text/plain": [
              "210.60635942182307"
            ]
          },
          "metadata": {
            "tags": []
          },
          "execution_count": 52
        }
      ]
    },
    {
      "cell_type": "code",
      "metadata": {
        "colab_type": "code",
        "id": "yy1NKPua-cbR",
        "colab": {}
      },
      "source": [
        "y_pred_test_decision=tree.predict(X_test)"
      ],
      "execution_count": 0,
      "outputs": []
    },
    {
      "cell_type": "code",
      "metadata": {
        "colab_type": "code",
        "id": "x5oobASCPpTG",
        "outputId": "3f02df7b-b1f7-4267-8f32-864c24b2fa29",
        "colab": {
          "base_uri": "https://localhost:8080/",
          "height": 34
        }
      },
      "source": [
        "mean_absolute_percentage_error(np.array(y_test),y_pred_test_decision)"
      ],
      "execution_count": 0,
      "outputs": [
        {
          "output_type": "execute_result",
          "data": {
            "text/plain": [
              "210.49357286330212"
            ]
          },
          "metadata": {
            "tags": []
          },
          "execution_count": 54
        }
      ]
    },
    {
      "cell_type": "markdown",
      "metadata": {
        "colab_type": "text",
        "id": "EwA49ICtQET8"
      },
      "source": [
        "# Decision Tree\n",
        "**Train MAPE**:-210.60635942182307\n",
        "\n",
        "\n",
        "**Test MAPE**:-210.49357286330212\n",
        "\n",
        "**Conclusion**:- From the above observation i can say that decision tree is working better than Linear regression as the MAPE for decision tree is much better.But i can still improve acuracy by applying ensembles to it."
      ]
    },
    {
      "cell_type": "code",
      "metadata": {
        "colab_type": "code",
        "id": "8xuXmUEo6BQ_",
        "colab": {}
      },
      "source": [
        ""
      ],
      "execution_count": 0,
      "outputs": []
    },
    {
      "cell_type": "markdown",
      "metadata": {
        "colab_type": "text",
        "id": "emBpA1moe4bD"
      },
      "source": [
        "# Application of Random Forest and XG Boost.Without train and split because i have good number of submissions left for the day."
      ]
    },
    {
      "cell_type": "code",
      "metadata": {
        "colab_type": "code",
        "id": "xzTkviH91OOZ",
        "colab": {}
      },
      "source": [
        "#cd '/content/drive/My Drive/8FEB'"
      ],
      "execution_count": 0,
      "outputs": []
    },
    {
      "cell_type": "markdown",
      "metadata": {
        "colab_type": "text",
        "id": "czgZp48xe3G2"
      },
      "source": [
        "Same Pre Preocessing Steps."
      ]
    },
    {
      "cell_type": "code",
      "metadata": {
        "colab_type": "code",
        "id": "dhN-IR0Fr2PC",
        "outputId": "7026e0b0-4e01-4925-86e9-320e462bb11c",
        "colab": {
          "base_uri": "https://localhost:8080/",
          "height": 70
        }
      },
      "source": [
        "import pandas as pd\n",
        "train=pd.read_csv('train (1).csv')\n",
        "train['date']=pd.to_datetime(train['date'],format='%Y-%m-%d')\n",
        "##Feature engineering is imporatant for dates.For easy access of days months and year\n",
        "\n",
        "train['month']=train['date'].dt.month\n",
        "train['day']=train['date'].dt.day\n",
        "train['year']=train['date'].dt.year\n",
        "\n",
        "test=pd.read_csv('test.csv')\n",
        "test['item_id']=test['item_id'].astype('category')\n",
        "\n",
        "train['item_id']=train['item_id'].astype('category')\n",
        "test['item_id']=test['item_id'].astype('category')\n",
        "\n",
        "train_items=train['item_id'].cat.categories.tolist()\n",
        "test_items=test['item_id'].cat.categories.tolist()\n",
        "\n",
        "import numpy as np\n",
        "def setdiff_sorted(array1,array2,assume_unique=False):\n",
        "    ans = np.setdiff1d(array1,array2,assume_unique).tolist()\n",
        "    if assume_unique:\n",
        "        return sorted(ans)\n",
        "    return ans\n",
        "\n",
        "\n",
        "items_not_in_train=setdiff_sorted(test_items,train_items)\n",
        "\n",
        "\n",
        "items_labels=train_items + items_not_in_train\n",
        "\n",
        "\n",
        "encode = list(range(len(items_labels)))\n",
        "dic_items=dict(zip(items_labels,encode))\n",
        "\n",
        "train['item_id']=train['item_id'].map(dic_items)\n",
        "train['item_id']=train['item_id'].astype('int32')\n",
        "\n",
        "\n",
        "test['item_id']=test['item_id'].map(dic_items)\n",
        "test['item_id']=test['item_id'].astype('int32')\n",
        "\n",
        "from sklearn.preprocessing import LabelEncoder\n",
        "le=LabelEncoder()\n",
        "le.fit(train['locationId'])\n",
        "\n",
        "train['locationId']=le.transform(train['locationId'])\n",
        "test['locationId']=le.transform(test['locationId'])\n",
        "\n"
      ],
      "execution_count": 0,
      "outputs": [
        {
          "output_type": "stream",
          "text": [
            "/usr/local/lib/python3.6/dist-packages/IPython/core/interactiveshell.py:2718: DtypeWarning: Columns (4) have mixed types. Specify dtype option on import or set low_memory=False.\n",
            "  interactivity=interactivity, compiler=compiler, result=result)\n"
          ],
          "name": "stderr"
        }
      ]
    },
    {
      "cell_type": "code",
      "metadata": {
        "colab_type": "code",
        "id": "FwDvMQL32Mpd",
        "colab": {}
      },
      "source": [
        "items=pd.read_csv('item_details.csv')"
      ],
      "execution_count": 0,
      "outputs": []
    },
    {
      "cell_type": "code",
      "metadata": {
        "colab_type": "code",
        "id": "Asswh34M2T_7",
        "outputId": "74ceedbe-18c1-4b04-b624-520e8a61c9a6",
        "colab": {
          "base_uri": "https://localhost:8080/",
          "height": 35
        }
      },
      "source": [
        "train['item_id'].nunique()"
      ],
      "execution_count": 0,
      "outputs": [
        {
          "output_type": "execute_result",
          "data": {
            "text/plain": [
              "3890"
            ]
          },
          "metadata": {
            "tags": []
          },
          "execution_count": 7
        }
      ]
    },
    {
      "cell_type": "code",
      "metadata": {
        "colab_type": "code",
        "id": "pzZwzzRh2av2",
        "outputId": "77ea106f-83af-4890-c104-c435d4614e24",
        "colab": {
          "base_uri": "https://localhost:8080/",
          "height": 35
        }
      },
      "source": [
        "test['item_id'].nunique()"
      ],
      "execution_count": 0,
      "outputs": [
        {
          "output_type": "execute_result",
          "data": {
            "text/plain": [
              "3828"
            ]
          },
          "metadata": {
            "tags": []
          },
          "execution_count": 8
        }
      ]
    },
    {
      "cell_type": "code",
      "metadata": {
        "colab_type": "code",
        "id": "UiAKIx253QCA",
        "outputId": "ac180201-81c7-46d6-96d9-42132da58340",
        "colab": {
          "base_uri": "https://localhost:8080/",
          "height": 194
        }
      },
      "source": [
        "test.head()"
      ],
      "execution_count": 0,
      "outputs": [
        {
          "output_type": "execute_result",
          "data": {
            "text/html": [
              "<div>\n",
              "<style scoped>\n",
              "    .dataframe tbody tr th:only-of-type {\n",
              "        vertical-align: middle;\n",
              "    }\n",
              "\n",
              "    .dataframe tbody tr th {\n",
              "        vertical-align: top;\n",
              "    }\n",
              "\n",
              "    .dataframe thead th {\n",
              "        text-align: right;\n",
              "    }\n",
              "</style>\n",
              "<table border=\"1\" class=\"dataframe\">\n",
              "  <thead>\n",
              "    <tr style=\"text-align: right;\">\n",
              "      <th></th>\n",
              "      <th>id</th>\n",
              "      <th>date</th>\n",
              "      <th>locationId</th>\n",
              "      <th>item_id</th>\n",
              "      <th>onpromotion</th>\n",
              "    </tr>\n",
              "  </thead>\n",
              "  <tbody>\n",
              "    <tr>\n",
              "      <th>0</th>\n",
              "      <td>0</td>\n",
              "      <td>2019-01-01</td>\n",
              "      <td>location_25</td>\n",
              "      <td>item_99197</td>\n",
              "      <td>False</td>\n",
              "    </tr>\n",
              "    <tr>\n",
              "      <th>1</th>\n",
              "      <td>1</td>\n",
              "      <td>2019-01-01</td>\n",
              "      <td>location_25</td>\n",
              "      <td>item_103665</td>\n",
              "      <td>False</td>\n",
              "    </tr>\n",
              "    <tr>\n",
              "      <th>2</th>\n",
              "      <td>2</td>\n",
              "      <td>2019-01-01</td>\n",
              "      <td>location_25</td>\n",
              "      <td>item_105574</td>\n",
              "      <td>False</td>\n",
              "    </tr>\n",
              "    <tr>\n",
              "      <th>3</th>\n",
              "      <td>3</td>\n",
              "      <td>2019-01-01</td>\n",
              "      <td>location_25</td>\n",
              "      <td>item_105857</td>\n",
              "      <td>False</td>\n",
              "    </tr>\n",
              "    <tr>\n",
              "      <th>4</th>\n",
              "      <td>4</td>\n",
              "      <td>2019-01-01</td>\n",
              "      <td>location_25</td>\n",
              "      <td>item_106716</td>\n",
              "      <td>False</td>\n",
              "    </tr>\n",
              "  </tbody>\n",
              "</table>\n",
              "</div>"
            ],
            "text/plain": [
              "   id        date   locationId      item_id  onpromotion\n",
              "0   0  2019-01-01  location_25   item_99197        False\n",
              "1   1  2019-01-01  location_25  item_103665        False\n",
              "2   2  2019-01-01  location_25  item_105574        False\n",
              "3   3  2019-01-01  location_25  item_105857        False\n",
              "4   4  2019-01-01  location_25  item_106716        False"
            ]
          },
          "metadata": {
            "tags": []
          },
          "execution_count": 14
        }
      ]
    },
    {
      "cell_type": "code",
      "metadata": {
        "colab_type": "code",
        "id": "LJX_Wgoa3HCi",
        "colab": {}
      },
      "source": [
        "train['date']=pd.to_datetime(train['date'],format='%Y-%m-%d')"
      ],
      "execution_count": 0,
      "outputs": []
    },
    {
      "cell_type": "code",
      "metadata": {
        "colab_type": "code",
        "id": "5QwAe4so4SUW",
        "colab": {}
      },
      "source": [
        "train['day']=train['date'].dt.day\n",
        "train['month']=train['date'].dt.month\n",
        "train['year']=train['date'].dt.year"
      ],
      "execution_count": 0,
      "outputs": []
    },
    {
      "cell_type": "code",
      "metadata": {
        "colab_type": "code",
        "id": "8pL8W6IjdmCy",
        "colab": {}
      },
      "source": [
        "y=train['onpromotion']\n",
        "X=train.drop('onpromotion',axis=1)"
      ],
      "execution_count": 0,
      "outputs": []
    },
    {
      "cell_type": "code",
      "metadata": {
        "colab_type": "code",
        "id": "cnPEjal02qi9",
        "colab": {}
      },
      "source": [
        "X['onpromotion']=X['onpromotion'].fillna(X['onpromotion'].mode())\n",
        "X['onpromotion']=X['onpromotion'].astype('bool')\n",
        "X=X.drop('date',axis=1)\n",
        "y.columns=['a','unit_sales']\n",
        "y1 = y['unit_sales']\n",
        "X=X.drop('Unnamed: 0',axis=1)"
      ],
      "execution_count": 0,
      "outputs": []
    },
    {
      "cell_type": "code",
      "metadata": {
        "colab_type": "code",
        "id": "tDFRVtfp1kdh",
        "outputId": "afdf8f96-4a49-4913-e554-a8c40c74572f",
        "colab": {
          "base_uri": "https://localhost:8080/",
          "height": 196
        }
      },
      "source": [
        "X.head()"
      ],
      "execution_count": 0,
      "outputs": [
        {
          "output_type": "execute_result",
          "data": {
            "text/html": [
              "<div>\n",
              "<style scoped>\n",
              "    .dataframe tbody tr th:only-of-type {\n",
              "        vertical-align: middle;\n",
              "    }\n",
              "\n",
              "    .dataframe tbody tr th {\n",
              "        vertical-align: top;\n",
              "    }\n",
              "\n",
              "    .dataframe thead th {\n",
              "        text-align: right;\n",
              "    }\n",
              "</style>\n",
              "<table border=\"1\" class=\"dataframe\">\n",
              "  <thead>\n",
              "    <tr style=\"text-align: right;\">\n",
              "      <th></th>\n",
              "      <th>locationId</th>\n",
              "      <th>item_id</th>\n",
              "      <th>onpromotion</th>\n",
              "      <th>month</th>\n",
              "      <th>day</th>\n",
              "      <th>year</th>\n",
              "    </tr>\n",
              "  </thead>\n",
              "  <tbody>\n",
              "    <tr>\n",
              "      <th>0</th>\n",
              "      <td>17</td>\n",
              "      <td>45</td>\n",
              "      <td>False</td>\n",
              "      <td>1</td>\n",
              "      <td>1</td>\n",
              "      <td>2015</td>\n",
              "    </tr>\n",
              "    <tr>\n",
              "      <th>1</th>\n",
              "      <td>17</td>\n",
              "      <td>120</td>\n",
              "      <td>True</td>\n",
              "      <td>1</td>\n",
              "      <td>1</td>\n",
              "      <td>2015</td>\n",
              "    </tr>\n",
              "    <tr>\n",
              "      <th>2</th>\n",
              "      <td>17</td>\n",
              "      <td>121</td>\n",
              "      <td>True</td>\n",
              "      <td>1</td>\n",
              "      <td>1</td>\n",
              "      <td>2015</td>\n",
              "    </tr>\n",
              "    <tr>\n",
              "      <th>3</th>\n",
              "      <td>17</td>\n",
              "      <td>170</td>\n",
              "      <td>True</td>\n",
              "      <td>1</td>\n",
              "      <td>1</td>\n",
              "      <td>2015</td>\n",
              "    </tr>\n",
              "    <tr>\n",
              "      <th>4</th>\n",
              "      <td>17</td>\n",
              "      <td>197</td>\n",
              "      <td>True</td>\n",
              "      <td>1</td>\n",
              "      <td>1</td>\n",
              "      <td>2015</td>\n",
              "    </tr>\n",
              "  </tbody>\n",
              "</table>\n",
              "</div>"
            ],
            "text/plain": [
              "   locationId  item_id  onpromotion  month  day  year\n",
              "0          17       45        False      1    1  2015\n",
              "1          17      120         True      1    1  2015\n",
              "2          17      121         True      1    1  2015\n",
              "3          17      170         True      1    1  2015\n",
              "4          17      197         True      1    1  2015"
            ]
          },
          "metadata": {
            "tags": []
          },
          "execution_count": 7
        }
      ]
    },
    {
      "cell_type": "code",
      "metadata": {
        "colab_type": "code",
        "id": "kOwLHIcIqBYR",
        "outputId": "3e249d1c-c532-4509-f0f6-d90434378626",
        "colab": {
          "base_uri": "https://localhost:8080/",
          "height": 196
        }
      },
      "source": [
        "y.head()"
      ],
      "execution_count": 0,
      "outputs": [
        {
          "output_type": "execute_result",
          "data": {
            "text/html": [
              "<div>\n",
              "<style scoped>\n",
              "    .dataframe tbody tr th:only-of-type {\n",
              "        vertical-align: middle;\n",
              "    }\n",
              "\n",
              "    .dataframe tbody tr th {\n",
              "        vertical-align: top;\n",
              "    }\n",
              "\n",
              "    .dataframe thead th {\n",
              "        text-align: right;\n",
              "    }\n",
              "</style>\n",
              "<table border=\"1\" class=\"dataframe\">\n",
              "  <thead>\n",
              "    <tr style=\"text-align: right;\">\n",
              "      <th></th>\n",
              "      <th>a</th>\n",
              "      <th>unit_sales</th>\n",
              "    </tr>\n",
              "  </thead>\n",
              "  <tbody>\n",
              "    <tr>\n",
              "      <th>0</th>\n",
              "      <td>0</td>\n",
              "      <td>7.0</td>\n",
              "    </tr>\n",
              "    <tr>\n",
              "      <th>1</th>\n",
              "      <td>1</td>\n",
              "      <td>1.0</td>\n",
              "    </tr>\n",
              "    <tr>\n",
              "      <th>2</th>\n",
              "      <td>2</td>\n",
              "      <td>2.0</td>\n",
              "    </tr>\n",
              "    <tr>\n",
              "      <th>3</th>\n",
              "      <td>3</td>\n",
              "      <td>1.0</td>\n",
              "    </tr>\n",
              "    <tr>\n",
              "      <th>4</th>\n",
              "      <td>4</td>\n",
              "      <td>1.0</td>\n",
              "    </tr>\n",
              "  </tbody>\n",
              "</table>\n",
              "</div>"
            ],
            "text/plain": [
              "   a  unit_sales\n",
              "0  0         7.0\n",
              "1  1         1.0\n",
              "2  2         2.0\n",
              "3  3         1.0\n",
              "4  4         1.0"
            ]
          },
          "metadata": {
            "tags": []
          },
          "execution_count": 8
        }
      ]
    },
    {
      "cell_type": "code",
      "metadata": {
        "colab_type": "code",
        "id": "MOMVEbwus6J9",
        "outputId": "8e0dbab0-df05-424d-a2b2-3970b4d866c3",
        "colab": {
          "base_uri": "https://localhost:8080/",
          "height": 33
        }
      },
      "source": [
        "X.shape"
      ],
      "execution_count": 0,
      "outputs": [
        {
          "output_type": "execute_result",
          "data": {
            "text/plain": [
              "(101688779, 6)"
            ]
          },
          "metadata": {
            "tags": []
          },
          "execution_count": 9
        }
      ]
    },
    {
      "cell_type": "code",
      "metadata": {
        "colab_type": "code",
        "id": "bsQSIkELtZ9f",
        "outputId": "a3cc9e8f-a78d-48e5-8684-efaabfd01934",
        "colab": {
          "base_uri": "https://localhost:8080/",
          "height": 196
        }
      },
      "source": [
        "X.head()"
      ],
      "execution_count": 0,
      "outputs": [
        {
          "output_type": "execute_result",
          "data": {
            "text/html": [
              "<div>\n",
              "<style scoped>\n",
              "    .dataframe tbody tr th:only-of-type {\n",
              "        vertical-align: middle;\n",
              "    }\n",
              "\n",
              "    .dataframe tbody tr th {\n",
              "        vertical-align: top;\n",
              "    }\n",
              "\n",
              "    .dataframe thead th {\n",
              "        text-align: right;\n",
              "    }\n",
              "</style>\n",
              "<table border=\"1\" class=\"dataframe\">\n",
              "  <thead>\n",
              "    <tr style=\"text-align: right;\">\n",
              "      <th></th>\n",
              "      <th>locationId</th>\n",
              "      <th>item_id</th>\n",
              "      <th>onpromotion</th>\n",
              "      <th>month</th>\n",
              "      <th>day</th>\n",
              "      <th>year</th>\n",
              "    </tr>\n",
              "  </thead>\n",
              "  <tbody>\n",
              "    <tr>\n",
              "      <th>0</th>\n",
              "      <td>17</td>\n",
              "      <td>45</td>\n",
              "      <td>False</td>\n",
              "      <td>1</td>\n",
              "      <td>1</td>\n",
              "      <td>2015</td>\n",
              "    </tr>\n",
              "    <tr>\n",
              "      <th>1</th>\n",
              "      <td>17</td>\n",
              "      <td>120</td>\n",
              "      <td>True</td>\n",
              "      <td>1</td>\n",
              "      <td>1</td>\n",
              "      <td>2015</td>\n",
              "    </tr>\n",
              "    <tr>\n",
              "      <th>2</th>\n",
              "      <td>17</td>\n",
              "      <td>121</td>\n",
              "      <td>True</td>\n",
              "      <td>1</td>\n",
              "      <td>1</td>\n",
              "      <td>2015</td>\n",
              "    </tr>\n",
              "    <tr>\n",
              "      <th>3</th>\n",
              "      <td>17</td>\n",
              "      <td>170</td>\n",
              "      <td>True</td>\n",
              "      <td>1</td>\n",
              "      <td>1</td>\n",
              "      <td>2015</td>\n",
              "    </tr>\n",
              "    <tr>\n",
              "      <th>4</th>\n",
              "      <td>17</td>\n",
              "      <td>197</td>\n",
              "      <td>True</td>\n",
              "      <td>1</td>\n",
              "      <td>1</td>\n",
              "      <td>2015</td>\n",
              "    </tr>\n",
              "  </tbody>\n",
              "</table>\n",
              "</div>"
            ],
            "text/plain": [
              "   locationId  item_id  onpromotion  month  day  year\n",
              "0          17       45        False      1    1  2015\n",
              "1          17      120         True      1    1  2015\n",
              "2          17      121         True      1    1  2015\n",
              "3          17      170         True      1    1  2015\n",
              "4          17      197         True      1    1  2015"
            ]
          },
          "metadata": {
            "tags": []
          },
          "execution_count": 10
        }
      ]
    },
    {
      "cell_type": "code",
      "metadata": {
        "colab_type": "code",
        "id": "MKqTKyAVtwxJ",
        "outputId": "da319344-88a1-4287-f14d-c3c0834476dc",
        "colab": {
          "base_uri": "https://localhost:8080/",
          "height": 196
        }
      },
      "source": [
        "X.tail()"
      ],
      "execution_count": 0,
      "outputs": [
        {
          "output_type": "execute_result",
          "data": {
            "text/html": [
              "<div>\n",
              "<style scoped>\n",
              "    .dataframe tbody tr th:only-of-type {\n",
              "        vertical-align: middle;\n",
              "    }\n",
              "\n",
              "    .dataframe tbody tr th {\n",
              "        vertical-align: top;\n",
              "    }\n",
              "\n",
              "    .dataframe thead th {\n",
              "        text-align: right;\n",
              "    }\n",
              "</style>\n",
              "<table border=\"1\" class=\"dataframe\">\n",
              "  <thead>\n",
              "    <tr style=\"text-align: right;\">\n",
              "      <th></th>\n",
              "      <th>locationId</th>\n",
              "      <th>item_id</th>\n",
              "      <th>onpromotion</th>\n",
              "      <th>month</th>\n",
              "      <th>day</th>\n",
              "      <th>year</th>\n",
              "    </tr>\n",
              "  </thead>\n",
              "  <tbody>\n",
              "    <tr>\n",
              "      <th>101688774</th>\n",
              "      <td>48</td>\n",
              "      <td>2599</td>\n",
              "      <td>True</td>\n",
              "      <td>12</td>\n",
              "      <td>31</td>\n",
              "      <td>2018</td>\n",
              "    </tr>\n",
              "    <tr>\n",
              "      <th>101688775</th>\n",
              "      <td>48</td>\n",
              "      <td>2601</td>\n",
              "      <td>False</td>\n",
              "      <td>12</td>\n",
              "      <td>31</td>\n",
              "      <td>2018</td>\n",
              "    </tr>\n",
              "    <tr>\n",
              "      <th>101688776</th>\n",
              "      <td>48</td>\n",
              "      <td>2602</td>\n",
              "      <td>False</td>\n",
              "      <td>12</td>\n",
              "      <td>31</td>\n",
              "      <td>2018</td>\n",
              "    </tr>\n",
              "    <tr>\n",
              "      <th>101688777</th>\n",
              "      <td>48</td>\n",
              "      <td>2603</td>\n",
              "      <td>False</td>\n",
              "      <td>12</td>\n",
              "      <td>31</td>\n",
              "      <td>2018</td>\n",
              "    </tr>\n",
              "    <tr>\n",
              "      <th>101688778</th>\n",
              "      <td>48</td>\n",
              "      <td>2607</td>\n",
              "      <td>False</td>\n",
              "      <td>12</td>\n",
              "      <td>31</td>\n",
              "      <td>2018</td>\n",
              "    </tr>\n",
              "  </tbody>\n",
              "</table>\n",
              "</div>"
            ],
            "text/plain": [
              "           locationId  item_id  onpromotion  month  day  year\n",
              "101688774          48     2599         True     12   31  2018\n",
              "101688775          48     2601        False     12   31  2018\n",
              "101688776          48     2602        False     12   31  2018\n",
              "101688777          48     2603        False     12   31  2018\n",
              "101688778          48     2607        False     12   31  2018"
            ]
          },
          "metadata": {
            "tags": []
          },
          "execution_count": 11
        }
      ]
    },
    {
      "cell_type": "code",
      "metadata": {
        "colab_type": "code",
        "id": "YRCq0XyTtzW5",
        "outputId": "9c5dda87-725d-4995-86a4-ec1718eac80d",
        "colab": {
          "base_uri": "https://localhost:8080/",
          "height": 196
        }
      },
      "source": [
        "y.tail()"
      ],
      "execution_count": 0,
      "outputs": [
        {
          "output_type": "execute_result",
          "data": {
            "text/html": [
              "<div>\n",
              "<style scoped>\n",
              "    .dataframe tbody tr th:only-of-type {\n",
              "        vertical-align: middle;\n",
              "    }\n",
              "\n",
              "    .dataframe tbody tr th {\n",
              "        vertical-align: top;\n",
              "    }\n",
              "\n",
              "    .dataframe thead th {\n",
              "        text-align: right;\n",
              "    }\n",
              "</style>\n",
              "<table border=\"1\" class=\"dataframe\">\n",
              "  <thead>\n",
              "    <tr style=\"text-align: right;\">\n",
              "      <th></th>\n",
              "      <th>a</th>\n",
              "      <th>unit_sales</th>\n",
              "    </tr>\n",
              "  </thead>\n",
              "  <tbody>\n",
              "    <tr>\n",
              "      <th>101688774</th>\n",
              "      <td>101688774</td>\n",
              "      <td>6.0</td>\n",
              "    </tr>\n",
              "    <tr>\n",
              "      <th>101688775</th>\n",
              "      <td>101688775</td>\n",
              "      <td>4.0</td>\n",
              "    </tr>\n",
              "    <tr>\n",
              "      <th>101688776</th>\n",
              "      <td>101688776</td>\n",
              "      <td>10.0</td>\n",
              "    </tr>\n",
              "    <tr>\n",
              "      <th>101688777</th>\n",
              "      <td>101688777</td>\n",
              "      <td>3.0</td>\n",
              "    </tr>\n",
              "    <tr>\n",
              "      <th>101688778</th>\n",
              "      <td>101688778</td>\n",
              "      <td>1.0</td>\n",
              "    </tr>\n",
              "  </tbody>\n",
              "</table>\n",
              "</div>"
            ],
            "text/plain": [
              "                   a  unit_sales\n",
              "101688774  101688774         6.0\n",
              "101688775  101688775         4.0\n",
              "101688776  101688776        10.0\n",
              "101688777  101688777         3.0\n",
              "101688778  101688778         1.0"
            ]
          },
          "metadata": {
            "tags": []
          },
          "execution_count": 12
        }
      ]
    },
    {
      "cell_type": "code",
      "metadata": {
        "colab_type": "code",
        "id": "qZ_JNxK6t1yY",
        "outputId": "68fac914-e0eb-48bc-84bb-13d0142a93a6",
        "colab": {
          "base_uri": "https://localhost:8080/",
          "height": 404
        }
      },
      "source": [
        "X[(X['month']==1) & (X['day']==1) & (X['year']==2017)]"
      ],
      "execution_count": 0,
      "outputs": [
        {
          "output_type": "execute_result",
          "data": {
            "text/html": [
              "<div>\n",
              "<style scoped>\n",
              "    .dataframe tbody tr th:only-of-type {\n",
              "        vertical-align: middle;\n",
              "    }\n",
              "\n",
              "    .dataframe tbody tr th {\n",
              "        vertical-align: top;\n",
              "    }\n",
              "\n",
              "    .dataframe thead th {\n",
              "        text-align: right;\n",
              "    }\n",
              "</style>\n",
              "<table border=\"1\" class=\"dataframe\">\n",
              "  <thead>\n",
              "    <tr style=\"text-align: right;\">\n",
              "      <th></th>\n",
              "      <th>locationId</th>\n",
              "      <th>item_id</th>\n",
              "      <th>onpromotion</th>\n",
              "      <th>month</th>\n",
              "      <th>day</th>\n",
              "      <th>year</th>\n",
              "    </tr>\n",
              "  </thead>\n",
              "  <tbody>\n",
              "    <tr>\n",
              "      <th>38594264</th>\n",
              "      <td>17</td>\n",
              "      <td>45</td>\n",
              "      <td>False</td>\n",
              "      <td>1</td>\n",
              "      <td>1</td>\n",
              "      <td>2017</td>\n",
              "    </tr>\n",
              "    <tr>\n",
              "      <th>38594265</th>\n",
              "      <td>17</td>\n",
              "      <td>121</td>\n",
              "      <td>False</td>\n",
              "      <td>1</td>\n",
              "      <td>1</td>\n",
              "      <td>2017</td>\n",
              "    </tr>\n",
              "    <tr>\n",
              "      <th>38594266</th>\n",
              "      <td>17</td>\n",
              "      <td>194</td>\n",
              "      <td>False</td>\n",
              "      <td>1</td>\n",
              "      <td>1</td>\n",
              "      <td>2017</td>\n",
              "    </tr>\n",
              "    <tr>\n",
              "      <th>38594267</th>\n",
              "      <td>17</td>\n",
              "      <td>196</td>\n",
              "      <td>False</td>\n",
              "      <td>1</td>\n",
              "      <td>1</td>\n",
              "      <td>2017</td>\n",
              "    </tr>\n",
              "    <tr>\n",
              "      <th>38594268</th>\n",
              "      <td>17</td>\n",
              "      <td>201</td>\n",
              "      <td>False</td>\n",
              "      <td>1</td>\n",
              "      <td>1</td>\n",
              "      <td>2017</td>\n",
              "    </tr>\n",
              "    <tr>\n",
              "      <th>...</th>\n",
              "      <td>...</td>\n",
              "      <td>...</td>\n",
              "      <td>...</td>\n",
              "      <td>...</td>\n",
              "      <td>...</td>\n",
              "      <td>...</td>\n",
              "    </tr>\n",
              "    <tr>\n",
              "      <th>38595435</th>\n",
              "      <td>17</td>\n",
              "      <td>973</td>\n",
              "      <td>False</td>\n",
              "      <td>1</td>\n",
              "      <td>1</td>\n",
              "      <td>2017</td>\n",
              "    </tr>\n",
              "    <tr>\n",
              "      <th>38595436</th>\n",
              "      <td>17</td>\n",
              "      <td>974</td>\n",
              "      <td>False</td>\n",
              "      <td>1</td>\n",
              "      <td>1</td>\n",
              "      <td>2017</td>\n",
              "    </tr>\n",
              "    <tr>\n",
              "      <th>38595437</th>\n",
              "      <td>17</td>\n",
              "      <td>976</td>\n",
              "      <td>False</td>\n",
              "      <td>1</td>\n",
              "      <td>1</td>\n",
              "      <td>2017</td>\n",
              "    </tr>\n",
              "    <tr>\n",
              "      <th>38595438</th>\n",
              "      <td>17</td>\n",
              "      <td>977</td>\n",
              "      <td>False</td>\n",
              "      <td>1</td>\n",
              "      <td>1</td>\n",
              "      <td>2017</td>\n",
              "    </tr>\n",
              "    <tr>\n",
              "      <th>38595439</th>\n",
              "      <td>17</td>\n",
              "      <td>1017</td>\n",
              "      <td>False</td>\n",
              "      <td>1</td>\n",
              "      <td>1</td>\n",
              "      <td>2017</td>\n",
              "    </tr>\n",
              "  </tbody>\n",
              "</table>\n",
              "<p>1176 rows × 6 columns</p>\n",
              "</div>"
            ],
            "text/plain": [
              "          locationId  item_id  onpromotion  month  day  year\n",
              "38594264          17       45        False      1    1  2017\n",
              "38594265          17      121        False      1    1  2017\n",
              "38594266          17      194        False      1    1  2017\n",
              "38594267          17      196        False      1    1  2017\n",
              "38594268          17      201        False      1    1  2017\n",
              "...              ...      ...          ...    ...  ...   ...\n",
              "38595435          17      973        False      1    1  2017\n",
              "38595436          17      974        False      1    1  2017\n",
              "38595437          17      976        False      1    1  2017\n",
              "38595438          17      977        False      1    1  2017\n",
              "38595439          17     1017        False      1    1  2017\n",
              "\n",
              "[1176 rows x 6 columns]"
            ]
          },
          "metadata": {
            "tags": []
          },
          "execution_count": 13
        }
      ]
    },
    {
      "cell_type": "code",
      "metadata": {
        "colab_type": "code",
        "id": "d9Ua3WqzuHYs",
        "outputId": "1e48792f-24ce-45b6-b2b7-b869fb08772f",
        "colab": {
          "base_uri": "https://localhost:8080/",
          "height": 196
        }
      },
      "source": [
        "X.tail()"
      ],
      "execution_count": 0,
      "outputs": [
        {
          "output_type": "execute_result",
          "data": {
            "text/html": [
              "<div>\n",
              "<style scoped>\n",
              "    .dataframe tbody tr th:only-of-type {\n",
              "        vertical-align: middle;\n",
              "    }\n",
              "\n",
              "    .dataframe tbody tr th {\n",
              "        vertical-align: top;\n",
              "    }\n",
              "\n",
              "    .dataframe thead th {\n",
              "        text-align: right;\n",
              "    }\n",
              "</style>\n",
              "<table border=\"1\" class=\"dataframe\">\n",
              "  <thead>\n",
              "    <tr style=\"text-align: right;\">\n",
              "      <th></th>\n",
              "      <th>locationId</th>\n",
              "      <th>item_id</th>\n",
              "      <th>onpromotion</th>\n",
              "      <th>month</th>\n",
              "      <th>day</th>\n",
              "      <th>year</th>\n",
              "    </tr>\n",
              "  </thead>\n",
              "  <tbody>\n",
              "    <tr>\n",
              "      <th>101688774</th>\n",
              "      <td>48</td>\n",
              "      <td>2599</td>\n",
              "      <td>True</td>\n",
              "      <td>12</td>\n",
              "      <td>31</td>\n",
              "      <td>2018</td>\n",
              "    </tr>\n",
              "    <tr>\n",
              "      <th>101688775</th>\n",
              "      <td>48</td>\n",
              "      <td>2601</td>\n",
              "      <td>False</td>\n",
              "      <td>12</td>\n",
              "      <td>31</td>\n",
              "      <td>2018</td>\n",
              "    </tr>\n",
              "    <tr>\n",
              "      <th>101688776</th>\n",
              "      <td>48</td>\n",
              "      <td>2602</td>\n",
              "      <td>False</td>\n",
              "      <td>12</td>\n",
              "      <td>31</td>\n",
              "      <td>2018</td>\n",
              "    </tr>\n",
              "    <tr>\n",
              "      <th>101688777</th>\n",
              "      <td>48</td>\n",
              "      <td>2603</td>\n",
              "      <td>False</td>\n",
              "      <td>12</td>\n",
              "      <td>31</td>\n",
              "      <td>2018</td>\n",
              "    </tr>\n",
              "    <tr>\n",
              "      <th>101688778</th>\n",
              "      <td>48</td>\n",
              "      <td>2607</td>\n",
              "      <td>False</td>\n",
              "      <td>12</td>\n",
              "      <td>31</td>\n",
              "      <td>2018</td>\n",
              "    </tr>\n",
              "  </tbody>\n",
              "</table>\n",
              "</div>"
            ],
            "text/plain": [
              "           locationId  item_id  onpromotion  month  day  year\n",
              "101688774          48     2599         True     12   31  2018\n",
              "101688775          48     2601        False     12   31  2018\n",
              "101688776          48     2602        False     12   31  2018\n",
              "101688777          48     2603        False     12   31  2018\n",
              "101688778          48     2607        False     12   31  2018"
            ]
          },
          "metadata": {
            "tags": []
          },
          "execution_count": 19
        }
      ]
    },
    {
      "cell_type": "code",
      "metadata": {
        "colab_type": "code",
        "id": "A7LmA_xZwVO8",
        "outputId": "aaec89c8-32bb-41c7-9a03-0b77527bb26c",
        "colab": {
          "base_uri": "https://localhost:8080/",
          "height": 117
        }
      },
      "source": [
        "print(y.loc[101688778])\n",
        "print(new_y.loc[101688778])"
      ],
      "execution_count": 0,
      "outputs": [
        {
          "output_type": "stream",
          "text": [
            "a             101688778.0\n",
            "unit_sales            1.0\n",
            "Name: 101688778, dtype: float64\n",
            "a             101688778.0\n",
            "unit_sales            1.0\n",
            "Name: 101688778, dtype: float64\n"
          ],
          "name": "stdout"
        }
      ]
    },
    {
      "cell_type": "code",
      "metadata": {
        "colab_type": "code",
        "id": "iFg6pEpeub4I",
        "colab": {}
      },
      "source": [
        "new_X=X.loc[38594264:101688778]\n",
        "new_y=y.loc[38594264:101688778]"
      ],
      "execution_count": 0,
      "outputs": []
    },
    {
      "cell_type": "code",
      "metadata": {
        "colab_type": "code",
        "id": "gytS090-w4bx",
        "outputId": "3e9a8c41-d8ea-43e2-c09f-025f7141963d",
        "colab": {
          "base_uri": "https://localhost:8080/",
          "height": 33
        }
      },
      "source": [
        "new_X.shape"
      ],
      "execution_count": 0,
      "outputs": [
        {
          "output_type": "execute_result",
          "data": {
            "text/plain": [
              "(63094515, 6)"
            ]
          },
          "metadata": {
            "tags": []
          },
          "execution_count": 22
        }
      ]
    },
    {
      "cell_type": "code",
      "metadata": {
        "colab_type": "code",
        "id": "UL8-6TLXw6no",
        "outputId": "6bbf6fc9-8477-456a-c0b6-f3820793328f",
        "colab": {
          "base_uri": "https://localhost:8080/",
          "height": 33
        }
      },
      "source": [
        "new_y.shape"
      ],
      "execution_count": 0,
      "outputs": [
        {
          "output_type": "execute_result",
          "data": {
            "text/plain": [
              "(63094515, 2)"
            ]
          },
          "metadata": {
            "tags": []
          },
          "execution_count": 23
        }
      ]
    },
    {
      "cell_type": "code",
      "metadata": {
        "colab_type": "code",
        "id": "-uLHbJqTw8b6",
        "colab": {}
      },
      "source": [
        "from sklearn.ensemble import RandomForestRegressor"
      ],
      "execution_count": 0,
      "outputs": []
    },
    {
      "cell_type": "code",
      "metadata": {
        "colab_type": "code",
        "id": "-9IRNTCfxZ_C",
        "outputId": "0146304a-fd05-4a0e-c694-f730419b92a7",
        "colab": {
          "base_uri": "https://localhost:8080/",
          "height": 134
        }
      },
      "source": [
        "regressor = RandomForestRegressor(n_estimators=150, min_samples_split=2,max_depth=3)\n",
        "regressor.fit(new_X, new_y)"
      ],
      "execution_count": 0,
      "outputs": [
        {
          "output_type": "execute_result",
          "data": {
            "text/plain": [
              "RandomForestRegressor(bootstrap=True, ccp_alpha=0.0, criterion='mse',\n",
              "                      max_depth=3, max_features='auto', max_leaf_nodes=None,\n",
              "                      max_samples=None, min_impurity_decrease=0.0,\n",
              "                      min_impurity_split=None, min_samples_leaf=1,\n",
              "                      min_samples_split=2, min_weight_fraction_leaf=0.0,\n",
              "                      n_estimators=150, n_jobs=None, oob_score=False,\n",
              "                      random_state=None, verbose=0, warm_start=False)"
            ]
          },
          "metadata": {
            "tags": []
          },
          "execution_count": 27
        }
      ]
    },
    {
      "cell_type": "code",
      "metadata": {
        "colab_type": "code",
        "id": "86vbhCIixkD5",
        "colab": {}
      },
      "source": [
        "preds=regressor.predict(new_X)"
      ],
      "execution_count": 0,
      "outputs": []
    },
    {
      "cell_type": "code",
      "metadata": {
        "colab_type": "code",
        "id": "EHdhhzEbmgdL",
        "colab": {}
      },
      "source": [
        "def rmsle(y_true, y_pred):\n",
        "    assert len(y_true) == len(y_pred)\n",
        "    \n",
        "    return np.mean(np.abs((y_true - y_pred) / y_true)) * 100\n"
      ],
      "execution_count": 0,
      "outputs": []
    },
    {
      "cell_type": "code",
      "metadata": {
        "colab_type": "code",
        "id": "KomXT1kyn87c",
        "colab": {}
      },
      "source": [
        "import pickle\n",
        "pickle_out=open('model.pickle','wb')\n",
        "pickle.dump(a,pickle_out)\n",
        "pickle_out.close()"
      ],
      "execution_count": 0,
      "outputs": []
    },
    {
      "cell_type": "code",
      "metadata": {
        "colab_type": "code",
        "id": "8sXJEboIojIX",
        "colab": {}
      },
      "source": [
        "import pickle\n",
        "\n",
        "pickle_in=open('model.pickle','rb')\n",
        "b=pickle.load(pickle_in)"
      ],
      "execution_count": 0,
      "outputs": []
    },
    {
      "cell_type": "code",
      "metadata": {
        "colab_type": "code",
        "id": "zZgEQhbIovNp",
        "outputId": "5400c8f1-7e42-418a-9e22-8533508c19f0",
        "colab": {
          "base_uri": "https://localhost:8080/",
          "height": 134
        }
      },
      "source": [
        "b"
      ],
      "execution_count": 0,
      "outputs": [
        {
          "output_type": "execute_result",
          "data": {
            "text/plain": [
              "RandomForestRegressor(bootstrap=True, ccp_alpha=0.0, criterion='mse',\n",
              "                      max_depth=3, max_features='auto', max_leaf_nodes=None,\n",
              "                      max_samples=None, min_impurity_decrease=0.0,\n",
              "                      min_impurity_split=None, min_samples_leaf=1,\n",
              "                      min_samples_split=2, min_weight_fraction_leaf=0.0,\n",
              "                      n_estimators=150, n_jobs=None, oob_score=False,\n",
              "                      random_state=None, verbose=0, warm_start=False)"
            ]
          },
          "metadata": {
            "tags": []
          },
          "execution_count": 3
        }
      ]
    },
    {
      "cell_type": "code",
      "metadata": {
        "colab_type": "code",
        "id": "I9lH-JMjyof-",
        "outputId": "ab22f0b2-fb80-40e3-e6e2-f48ef1e7e8b7",
        "colab": {
          "base_uri": "https://localhost:8080/",
          "height": 404
        }
      },
      "source": [
        "y_true"
      ],
      "execution_count": 0,
      "outputs": [
        {
          "output_type": "execute_result",
          "data": {
            "text/html": [
              "<div>\n",
              "<style scoped>\n",
              "    .dataframe tbody tr th:only-of-type {\n",
              "        vertical-align: middle;\n",
              "    }\n",
              "\n",
              "    .dataframe tbody tr th {\n",
              "        vertical-align: top;\n",
              "    }\n",
              "\n",
              "    .dataframe thead th {\n",
              "        text-align: right;\n",
              "    }\n",
              "</style>\n",
              "<table border=\"1\" class=\"dataframe\">\n",
              "  <thead>\n",
              "    <tr style=\"text-align: right;\">\n",
              "      <th></th>\n",
              "      <th>unit_sales</th>\n",
              "    </tr>\n",
              "  </thead>\n",
              "  <tbody>\n",
              "    <tr>\n",
              "      <th>0</th>\n",
              "      <td>7.0</td>\n",
              "    </tr>\n",
              "    <tr>\n",
              "      <th>1</th>\n",
              "      <td>1.0</td>\n",
              "    </tr>\n",
              "    <tr>\n",
              "      <th>2</th>\n",
              "      <td>2.0</td>\n",
              "    </tr>\n",
              "    <tr>\n",
              "      <th>3</th>\n",
              "      <td>1.0</td>\n",
              "    </tr>\n",
              "    <tr>\n",
              "      <th>4</th>\n",
              "      <td>1.0</td>\n",
              "    </tr>\n",
              "    <tr>\n",
              "      <th>...</th>\n",
              "      <td>...</td>\n",
              "    </tr>\n",
              "    <tr>\n",
              "      <th>101688774</th>\n",
              "      <td>6.0</td>\n",
              "    </tr>\n",
              "    <tr>\n",
              "      <th>101688775</th>\n",
              "      <td>4.0</td>\n",
              "    </tr>\n",
              "    <tr>\n",
              "      <th>101688776</th>\n",
              "      <td>10.0</td>\n",
              "    </tr>\n",
              "    <tr>\n",
              "      <th>101688777</th>\n",
              "      <td>3.0</td>\n",
              "    </tr>\n",
              "    <tr>\n",
              "      <th>101688778</th>\n",
              "      <td>1.0</td>\n",
              "    </tr>\n",
              "  </tbody>\n",
              "</table>\n",
              "<p>101688779 rows × 1 columns</p>\n",
              "</div>"
            ],
            "text/plain": [
              "           unit_sales\n",
              "0                 7.0\n",
              "1                 1.0\n",
              "2                 2.0\n",
              "3                 1.0\n",
              "4                 1.0\n",
              "...               ...\n",
              "101688774         6.0\n",
              "101688775         4.0\n",
              "101688776        10.0\n",
              "101688777         3.0\n",
              "101688778         1.0\n",
              "\n",
              "[101688779 rows x 1 columns]"
            ]
          },
          "metadata": {
            "tags": []
          },
          "execution_count": 31
        }
      ]
    },
    {
      "cell_type": "code",
      "metadata": {
        "colab_type": "code",
        "id": "va8UOfq8nkT9",
        "colab": {}
      },
      "source": [
        "pred_X=b.predict(X)"
      ],
      "execution_count": 0,
      "outputs": []
    },
    {
      "cell_type": "code",
      "metadata": {
        "colab_type": "code",
        "id": "nYhRX4cWo1Wo",
        "outputId": "00d503f6-563e-4652-abf0-f5cdb9cf8566",
        "colab": {
          "base_uri": "https://localhost:8080/",
          "height": 33
        }
      },
      "source": [
        "import numpy as np\n",
        "rmsle(pred_X,np.array(y_true))"
      ],
      "execution_count": 0,
      "outputs": [
        {
          "output_type": "execute_result",
          "data": {
            "text/plain": [
              "95.87501325711949"
            ]
          },
          "metadata": {
            "tags": []
          },
          "execution_count": 14
        }
      ]
    },
    {
      "cell_type": "markdown",
      "metadata": {
        "colab_type": "text",
        "id": "cXbLvFWMfUlW"
      },
      "source": [
        "# Random Forest:\n",
        "\n",
        "MAPE Of random forest:-95.87501325711949\n",
        "\n",
        "Compared to my previous models random forest worked really good it is an ensemble to improve the accuracy.I am pretty sure there is no over fit as i\"ve specified the max_depth  to be 3."
      ]
    },
    {
      "cell_type": "code",
      "metadata": {
        "colab_type": "code",
        "id": "fE6KJ1o7v7Yq",
        "outputId": "6929931b-f4fa-49fc-a3b4-de0f90b983a3",
        "colab": {
          "base_uri": "https://localhost:8080/",
          "height": 196
        }
      },
      "source": [
        "test.head()"
      ],
      "execution_count": 0,
      "outputs": [
        {
          "output_type": "execute_result",
          "data": {
            "text/html": [
              "<div>\n",
              "<style scoped>\n",
              "    .dataframe tbody tr th:only-of-type {\n",
              "        vertical-align: middle;\n",
              "    }\n",
              "\n",
              "    .dataframe tbody tr th {\n",
              "        vertical-align: top;\n",
              "    }\n",
              "\n",
              "    .dataframe thead th {\n",
              "        text-align: right;\n",
              "    }\n",
              "</style>\n",
              "<table border=\"1\" class=\"dataframe\">\n",
              "  <thead>\n",
              "    <tr style=\"text-align: right;\">\n",
              "      <th></th>\n",
              "      <th>id</th>\n",
              "      <th>date</th>\n",
              "      <th>locationId</th>\n",
              "      <th>item_id</th>\n",
              "      <th>onpromotion</th>\n",
              "    </tr>\n",
              "  </thead>\n",
              "  <tbody>\n",
              "    <tr>\n",
              "      <th>0</th>\n",
              "      <td>0</td>\n",
              "      <td>2019-01-01</td>\n",
              "      <td>17</td>\n",
              "      <td>3880</td>\n",
              "      <td>False</td>\n",
              "    </tr>\n",
              "    <tr>\n",
              "      <th>1</th>\n",
              "      <td>1</td>\n",
              "      <td>2019-01-01</td>\n",
              "      <td>17</td>\n",
              "      <td>45</td>\n",
              "      <td>False</td>\n",
              "    </tr>\n",
              "    <tr>\n",
              "      <th>2</th>\n",
              "      <td>2</td>\n",
              "      <td>2019-01-01</td>\n",
              "      <td>17</td>\n",
              "      <td>120</td>\n",
              "      <td>False</td>\n",
              "    </tr>\n",
              "    <tr>\n",
              "      <th>3</th>\n",
              "      <td>3</td>\n",
              "      <td>2019-01-01</td>\n",
              "      <td>17</td>\n",
              "      <td>133</td>\n",
              "      <td>False</td>\n",
              "    </tr>\n",
              "    <tr>\n",
              "      <th>4</th>\n",
              "      <td>4</td>\n",
              "      <td>2019-01-01</td>\n",
              "      <td>17</td>\n",
              "      <td>144</td>\n",
              "      <td>False</td>\n",
              "    </tr>\n",
              "  </tbody>\n",
              "</table>\n",
              "</div>"
            ],
            "text/plain": [
              "   id        date  locationId  item_id  onpromotion\n",
              "0   0  2019-01-01          17     3880        False\n",
              "1   1  2019-01-01          17       45        False\n",
              "2   2  2019-01-01          17      120        False\n",
              "3   3  2019-01-01          17      133        False\n",
              "4   4  2019-01-01          17      144        False"
            ]
          },
          "metadata": {
            "tags": []
          },
          "execution_count": 19
        }
      ]
    },
    {
      "cell_type": "code",
      "metadata": {
        "colab_type": "code",
        "id": "MlUIwMvhwvIB",
        "colab": {}
      },
      "source": [
        "##Feature engineering is imporatant for dates.For easy access of days months and year\n",
        "test['date']=pd.to_datetime(test['date'],format='%Y-%m-%d')\n",
        "test['month']=test['date'].dt.month\n",
        "\n",
        "test['day']=test['date'].dt.day\n",
        "test['year']=test['date'].dt.year\n",
        "\n",
        "test=test.drop('date',axis=1)"
      ],
      "execution_count": 0,
      "outputs": []
    },
    {
      "cell_type": "code",
      "metadata": {
        "colab_type": "code",
        "id": "qIDFpLdVw3Ze",
        "outputId": "2600029c-6031-4135-8801-1b02b9d192fc",
        "colab": {
          "base_uri": "https://localhost:8080/",
          "height": 196
        }
      },
      "source": [
        "test.head()"
      ],
      "execution_count": 0,
      "outputs": [
        {
          "output_type": "execute_result",
          "data": {
            "text/html": [
              "<div>\n",
              "<style scoped>\n",
              "    .dataframe tbody tr th:only-of-type {\n",
              "        vertical-align: middle;\n",
              "    }\n",
              "\n",
              "    .dataframe tbody tr th {\n",
              "        vertical-align: top;\n",
              "    }\n",
              "\n",
              "    .dataframe thead th {\n",
              "        text-align: right;\n",
              "    }\n",
              "</style>\n",
              "<table border=\"1\" class=\"dataframe\">\n",
              "  <thead>\n",
              "    <tr style=\"text-align: right;\">\n",
              "      <th></th>\n",
              "      <th>id</th>\n",
              "      <th>locationId</th>\n",
              "      <th>item_id</th>\n",
              "      <th>onpromotion</th>\n",
              "      <th>month</th>\n",
              "      <th>day</th>\n",
              "      <th>year</th>\n",
              "    </tr>\n",
              "  </thead>\n",
              "  <tbody>\n",
              "    <tr>\n",
              "      <th>0</th>\n",
              "      <td>0</td>\n",
              "      <td>17</td>\n",
              "      <td>3880</td>\n",
              "      <td>False</td>\n",
              "      <td>1</td>\n",
              "      <td>1</td>\n",
              "      <td>2019</td>\n",
              "    </tr>\n",
              "    <tr>\n",
              "      <th>1</th>\n",
              "      <td>1</td>\n",
              "      <td>17</td>\n",
              "      <td>45</td>\n",
              "      <td>False</td>\n",
              "      <td>1</td>\n",
              "      <td>1</td>\n",
              "      <td>2019</td>\n",
              "    </tr>\n",
              "    <tr>\n",
              "      <th>2</th>\n",
              "      <td>2</td>\n",
              "      <td>17</td>\n",
              "      <td>120</td>\n",
              "      <td>False</td>\n",
              "      <td>1</td>\n",
              "      <td>1</td>\n",
              "      <td>2019</td>\n",
              "    </tr>\n",
              "    <tr>\n",
              "      <th>3</th>\n",
              "      <td>3</td>\n",
              "      <td>17</td>\n",
              "      <td>133</td>\n",
              "      <td>False</td>\n",
              "      <td>1</td>\n",
              "      <td>1</td>\n",
              "      <td>2019</td>\n",
              "    </tr>\n",
              "    <tr>\n",
              "      <th>4</th>\n",
              "      <td>4</td>\n",
              "      <td>17</td>\n",
              "      <td>144</td>\n",
              "      <td>False</td>\n",
              "      <td>1</td>\n",
              "      <td>1</td>\n",
              "      <td>2019</td>\n",
              "    </tr>\n",
              "  </tbody>\n",
              "</table>\n",
              "</div>"
            ],
            "text/plain": [
              "   id  locationId  item_id  onpromotion  month  day  year\n",
              "0   0          17     3880        False      1    1  2019\n",
              "1   1          17       45        False      1    1  2019\n",
              "2   2          17      120        False      1    1  2019\n",
              "3   3          17      133        False      1    1  2019\n",
              "4   4          17      144        False      1    1  2019"
            ]
          },
          "metadata": {
            "tags": []
          },
          "execution_count": 22
        }
      ]
    },
    {
      "cell_type": "code",
      "metadata": {
        "colab_type": "code",
        "id": "7yc__gXyw7v-",
        "colab": {}
      },
      "source": [
        "test_going_to_predict=test.drop('id',axis=1)"
      ],
      "execution_count": 0,
      "outputs": []
    },
    {
      "cell_type": "code",
      "metadata": {
        "colab_type": "code",
        "id": "KM_dt5jKxCdZ",
        "colab": {}
      },
      "source": [
        "test_preds=b.predict(test_going_to_predict)"
      ],
      "execution_count": 0,
      "outputs": []
    },
    {
      "cell_type": "code",
      "metadata": {
        "colab_type": "code",
        "id": "ppxqzBoBxHbG",
        "colab": {}
      },
      "source": [
        "Lets_gp=pd.DataFrame(test_preds)"
      ],
      "execution_count": 0,
      "outputs": []
    },
    {
      "cell_type": "code",
      "metadata": {
        "colab_type": "code",
        "id": "3odkB3HTxPh-",
        "colab": {}
      },
      "source": [
        "Lets_gp.to_csv('My_Last_Wish.csv')"
      ],
      "execution_count": 0,
      "outputs": []
    },
    {
      "cell_type": "markdown",
      "metadata": {
        "colab_type": "text",
        "id": "kYn-nvtEfy6o"
      },
      "source": [
        "# Applying XG Boost."
      ]
    },
    {
      "cell_type": "code",
      "metadata": {
        "colab_type": "code",
        "id": "ID9Y4MBG0NtG",
        "colab": {}
      },
      "source": [
        "import xgboost\n",
        "model = xgboost.XGBRegressor(\n",
        "                                \n",
        "                 learning_rate=0.09,\n",
        "                 max_depth=3,\n",
        "                 \n",
        "                 n_estimators=100,                                                                    \n",
        "                 \n",
        "                 reg_lambda=0.45,\n",
        "                 \n",
        "                 seed=42) "
      ],
      "execution_count": 0,
      "outputs": []
    },
    {
      "cell_type": "code",
      "metadata": {
        "colab_type": "code",
        "id": "vcKLPBpf0Ygp",
        "outputId": "6d8320fb-8483-4fde-b4a7-b1abc3c55772",
        "colab": {
          "base_uri": "https://localhost:8080/",
          "height": 117
        }
      },
      "source": [
        "y.head()"
      ],
      "execution_count": 0,
      "outputs": [
        {
          "output_type": "execute_result",
          "data": {
            "text/plain": [
              "38594264    12.0\n",
              "38594265    23.0\n",
              "38594266     1.0\n",
              "38594267     6.0\n",
              "38594268     6.0\n",
              "Name: unit_sales, dtype: float64"
            ]
          },
          "metadata": {
            "tags": []
          },
          "execution_count": 39
        }
      ]
    },
    {
      "cell_type": "code",
      "metadata": {
        "colab_type": "code",
        "id": "8uWFZIJb0dvz",
        "outputId": "ef0511c9-7807-415b-89e2-fda346a363fd",
        "colab": {
          "base_uri": "https://localhost:8080/",
          "height": 254
        }
      },
      "source": [
        "model.fit(X,y)"
      ],
      "execution_count": 0,
      "outputs": [
        {
          "output_type": "stream",
          "text": [
            "/usr/local/lib/python3.6/dist-packages/xgboost/core.py:587: FutureWarning: Series.base is deprecated and will be removed in a future version\n",
            "  if getattr(data, 'base', None) is not None and \\\n",
            "/usr/local/lib/python3.6/dist-packages/xgboost/core.py:588: FutureWarning: Series.base is deprecated and will be removed in a future version\n",
            "  data.base is not None and isinstance(data, np.ndarray) \\\n"
          ],
          "name": "stderr"
        },
        {
          "output_type": "stream",
          "text": [
            "[14:26:15] WARNING: /workspace/src/objective/regression_obj.cu:152: reg:linear is now deprecated in favor of reg:squarederror.\n",
            "[14:26:15] WARNING: /workspace/src/learner.cc:686: Tree method is automatically selected to be 'approx' for faster speed. To use old behavior (exact greedy algorithm on single machine), set tree_method to 'exact'.\n"
          ],
          "name": "stdout"
        },
        {
          "output_type": "execute_result",
          "data": {
            "text/plain": [
              "XGBRegressor(base_score=0.5, booster='gbtree', colsample_bylevel=1,\n",
              "             colsample_bynode=1, colsample_bytree=1, gamma=0,\n",
              "             importance_type='gain', learning_rate=0.09, max_delta_step=0,\n",
              "             max_depth=3, min_child_weight=1, missing=None, n_estimators=100,\n",
              "             n_jobs=1, nthread=None, objective='reg:linear', random_state=0,\n",
              "             reg_alpha=0, reg_lambda=0.45, scale_pos_weight=1, seed=42,\n",
              "             silent=None, subsample=1, verbosity=1)"
            ]
          },
          "metadata": {
            "tags": []
          },
          "execution_count": 10
        }
      ]
    },
    {
      "cell_type": "code",
      "metadata": {
        "colab_type": "code",
        "id": "tP8mS9NGgAxU",
        "colab": {}
      },
      "source": [
        "preds=model.predict(X)"
      ],
      "execution_count": 0,
      "outputs": []
    },
    {
      "cell_type": "code",
      "metadata": {
        "colab_type": "code",
        "id": "RzDA7un1nTiE",
        "outputId": "d7d635ec-580e-499f-be56-4c2f498eb515",
        "colab": {
          "base_uri": "https://localhost:8080/",
          "height": 33
        }
      },
      "source": [
        "import numpy as np\n",
        "rmsle(preds,np.array(new_y))"
      ],
      "execution_count": 0,
      "outputs": [
        {
          "output_type": "execute_result",
          "data": {
            "text/plain": [
              "47.16170449280957"
            ]
          },
          "metadata": {
            "tags": []
          },
          "execution_count": 32
        }
      ]
    },
    {
      "cell_type": "code",
      "metadata": {
        "colab_type": "code",
        "id": "4WTiqsq_0mi0",
        "colab": {}
      },
      "source": [
        "test_preds=model.predict(test)"
      ],
      "execution_count": 0,
      "outputs": []
    },
    {
      "cell_type": "code",
      "metadata": {
        "colab_type": "code",
        "id": "OFhQDQw4rvN2",
        "colab": {}
      },
      "source": [
        "pd.DataFrame(test_preds).to_csv('SaveMe.csv')"
      ],
      "execution_count": 0,
      "outputs": []
    },
    {
      "cell_type": "markdown",
      "metadata": {
        "colab_type": "text",
        "id": "OtnulgH_gH_W"
      },
      "source": [
        "# XG BOOST\n",
        "\n",
        "MAPE of Xg Boost:-47.16170449280957\n",
        "\n",
        "I have check MAPE on only train because i want my model to be trained with complete data.I made sure that there is no over fitting by making sure that the max_depth is set to 3."
      ]
    },
    {
      "cell_type": "code",
      "metadata": {
        "colab_type": "code",
        "id": "ySADmk5mM4Ti",
        "colab": {}
      },
      "source": [
        ""
      ],
      "execution_count": 0,
      "outputs": []
    },
    {
      "cell_type": "markdown",
      "metadata": {
        "colab_type": "text",
        "id": "-yfe4sGci0Ox"
      },
      "source": [
        "## Applying light gbm model."
      ]
    },
    {
      "cell_type": "code",
      "metadata": {
        "colab_type": "code",
        "id": "Jm8cmI9GDyYo",
        "colab": {}
      },
      "source": [
        "from google.colab import drive\n",
        "drive.mount('/content/drive')"
      ],
      "execution_count": 0,
      "outputs": []
    },
    {
      "cell_type": "code",
      "metadata": {
        "colab_type": "code",
        "id": "lKqK2Vi_GrsO",
        "outputId": "07d1aabf-ec8e-4c18-a1f4-b8e452fb122f",
        "colab": {
          "base_uri": "https://localhost:8080/",
          "height": 33
        }
      },
      "source": [
        "ls"
      ],
      "execution_count": 0,
      "outputs": [
        {
          "output_type": "stream",
          "text": [
            "\u001b[0m\u001b[01;34mdrive\u001b[0m/  \u001b[01;34msample_data\u001b[0m/\n"
          ],
          "name": "stdout"
        }
      ]
    },
    {
      "cell_type": "code",
      "metadata": {
        "colab_type": "code",
        "id": "kilMZH_pFfFC",
        "outputId": "ab6d3a54-75c8-4653-9599-cc434853371a",
        "colab": {
          "base_uri": "https://localhost:8080/",
          "height": 33
        }
      },
      "source": [
        "cd \"/content/drive/My Drive//\""
      ],
      "execution_count": 0,
      "outputs": [
        {
          "output_type": "stream",
          "text": [
            "/content/drive/My Drive\n"
          ],
          "name": "stdout"
        }
      ]
    },
    {
      "cell_type": "code",
      "metadata": {
        "colab_type": "code",
        "id": "YCssiIyVs3PI",
        "outputId": "c768d3cb-ae7d-4940-cff0-f4d265ff5db6",
        "colab": {
          "base_uri": "https://localhost:8080/",
          "height": 33
        }
      },
      "source": [
        "cd '8FEB/'"
      ],
      "execution_count": 0,
      "outputs": [
        {
          "output_type": "stream",
          "text": [
            "/content/drive/My Drive/8FEB\n"
          ],
          "name": "stdout"
        }
      ]
    },
    {
      "cell_type": "markdown",
      "metadata": {
        "colab_type": "text",
        "id": "mAxppcFoi537"
      },
      "source": [
        "# **Same Prepreocessing steps.**"
      ]
    },
    {
      "cell_type": "code",
      "metadata": {
        "colab_type": "code",
        "id": "5O8vQCLDs8zU",
        "colab": {}
      },
      "source": [
        "train=pd.read_csv('train (1).csv')\n",
        "train['date']=pd.to_datetime(train['date'],format='%Y-%m-%d')\n",
        "##Feature engineering is imporatant for dates.For easy access of days months and year\n",
        "\n",
        "train['month']=train['date'].dt.month\n",
        "train['day']=train['date'].dt.day\n",
        "train['year']=train['date'].dt.year\n",
        "\n",
        "test=pd.read_csv('test.csv')\n",
        "test['item_id']=test['item_id'].astype('category')\n",
        "\n",
        "train['item_id']=train['item_id'].astype('category')\n",
        "test['item_id']=test['item_id'].astype('category')\n",
        "\n",
        "train_items=train['item_id'].cat.categories.tolist()\n",
        "test_items=test['item_id'].cat.categories.tolist()\n",
        "\n",
        "import numpy as np\n",
        "def setdiff_sorted(array1,array2,assume_unique=False):\n",
        "    ans = np.setdiff1d(array1,array2,assume_unique).tolist()\n",
        "    if assume_unique:\n",
        "        return sorted(ans)\n",
        "    return ans\n",
        "\n",
        "\n",
        "items_not_in_train=setdiff_sorted(test_items,train_items)\n",
        "\n",
        "\n",
        "items_labels=train_items + items_not_in_train\n",
        "\n",
        "\n",
        "encode = list(range(len(items_labels)))\n",
        "dic_items=dict(zip(items_labels,encode))\n",
        "\n",
        "train['item_id']=train['item_id'].map(dic_items)\n",
        "train['item_id']=train['item_id'].astype('int32')\n",
        "\n",
        "\n",
        "test['item_id']=test['item_id'].map(dic_items)\n",
        "test['item_id']=test['item_id'].astype('int32')\n",
        "\n",
        "from sklearn.preprocessing import LabelEncoder\n",
        "le=LabelEncoder()\n",
        "le.fit(train['locationId'])\n",
        "\n",
        "train['locationId']=le.transform(train['locationId'])\n",
        "test['locationId']=le.transform(test['locationId'])\n",
        "test.to_csv('test_prep.csv')\n",
        "##Feature engineering is imporatant for dates.For easy access of days months and year\n",
        "test['date']=pd.to_datetime(test['date'],format='%Y-%m-%d')\n",
        "test['month']=test['date'].dt.month\n",
        "\n",
        "test['day']=test['date'].dt.day\n",
        "test['year']=test['date'].dt.year\n",
        "\n",
        "test=test.drop('date',axis=1)\n"
      ],
      "execution_count": 0,
      "outputs": []
    },
    {
      "cell_type": "code",
      "metadata": {
        "colab_type": "code",
        "id": "KyAOmjubeqrJ",
        "outputId": "cbb3e0a1-96dd-4106-c52f-65aa3855c1e0",
        "colab": {
          "base_uri": "https://localhost:8080/",
          "height": 196
        }
      },
      "source": [
        "test.head()"
      ],
      "execution_count": 0,
      "outputs": [
        {
          "output_type": "execute_result",
          "data": {
            "text/html": [
              "<div>\n",
              "<style scoped>\n",
              "    .dataframe tbody tr th:only-of-type {\n",
              "        vertical-align: middle;\n",
              "    }\n",
              "\n",
              "    .dataframe tbody tr th {\n",
              "        vertical-align: top;\n",
              "    }\n",
              "\n",
              "    .dataframe thead th {\n",
              "        text-align: right;\n",
              "    }\n",
              "</style>\n",
              "<table border=\"1\" class=\"dataframe\">\n",
              "  <thead>\n",
              "    <tr style=\"text-align: right;\">\n",
              "      <th></th>\n",
              "      <th>id</th>\n",
              "      <th>locationId</th>\n",
              "      <th>item_id</th>\n",
              "      <th>onpromotion</th>\n",
              "      <th>month</th>\n",
              "      <th>day</th>\n",
              "      <th>year</th>\n",
              "    </tr>\n",
              "  </thead>\n",
              "  <tbody>\n",
              "    <tr>\n",
              "      <th>0</th>\n",
              "      <td>0</td>\n",
              "      <td>17</td>\n",
              "      <td>3880</td>\n",
              "      <td>False</td>\n",
              "      <td>1</td>\n",
              "      <td>1</td>\n",
              "      <td>2019</td>\n",
              "    </tr>\n",
              "    <tr>\n",
              "      <th>1</th>\n",
              "      <td>1</td>\n",
              "      <td>17</td>\n",
              "      <td>45</td>\n",
              "      <td>False</td>\n",
              "      <td>1</td>\n",
              "      <td>1</td>\n",
              "      <td>2019</td>\n",
              "    </tr>\n",
              "    <tr>\n",
              "      <th>2</th>\n",
              "      <td>2</td>\n",
              "      <td>17</td>\n",
              "      <td>120</td>\n",
              "      <td>False</td>\n",
              "      <td>1</td>\n",
              "      <td>1</td>\n",
              "      <td>2019</td>\n",
              "    </tr>\n",
              "    <tr>\n",
              "      <th>3</th>\n",
              "      <td>3</td>\n",
              "      <td>17</td>\n",
              "      <td>133</td>\n",
              "      <td>False</td>\n",
              "      <td>1</td>\n",
              "      <td>1</td>\n",
              "      <td>2019</td>\n",
              "    </tr>\n",
              "    <tr>\n",
              "      <th>4</th>\n",
              "      <td>4</td>\n",
              "      <td>17</td>\n",
              "      <td>144</td>\n",
              "      <td>False</td>\n",
              "      <td>1</td>\n",
              "      <td>1</td>\n",
              "      <td>2019</td>\n",
              "    </tr>\n",
              "  </tbody>\n",
              "</table>\n",
              "</div>"
            ],
            "text/plain": [
              "   id  locationId  item_id  onpromotion  month  day  year\n",
              "0   0          17     3880        False      1    1  2019\n",
              "1   1          17       45        False      1    1  2019\n",
              "2   2          17      120        False      1    1  2019\n",
              "3   3          17      133        False      1    1  2019\n",
              "4   4          17      144        False      1    1  2019"
            ]
          },
          "metadata": {
            "tags": []
          },
          "execution_count": 34
        }
      ]
    },
    {
      "cell_type": "code",
      "metadata": {
        "colab_type": "code",
        "id": "wXWTejmtFbjS",
        "colab": {}
      },
      "source": [
        "train['date']=pd.to_datetime(train['date'],format='%Y-%m-%d')"
      ],
      "execution_count": 0,
      "outputs": []
    },
    {
      "cell_type": "code",
      "metadata": {
        "colab_type": "code",
        "id": "LQfIpn25H1eY",
        "outputId": "91c8d4d6-cecf-470d-cc82-6456f71b0164",
        "colab": {
          "base_uri": "https://localhost:8080/",
          "height": 194
        }
      },
      "source": [
        "train.head()"
      ],
      "execution_count": 0,
      "outputs": [
        {
          "output_type": "execute_result",
          "data": {
            "text/html": [
              "<div>\n",
              "<style scoped>\n",
              "    .dataframe tbody tr th:only-of-type {\n",
              "        vertical-align: middle;\n",
              "    }\n",
              "\n",
              "    .dataframe tbody tr th {\n",
              "        vertical-align: top;\n",
              "    }\n",
              "\n",
              "    .dataframe thead th {\n",
              "        text-align: right;\n",
              "    }\n",
              "</style>\n",
              "<table border=\"1\" class=\"dataframe\">\n",
              "  <thead>\n",
              "    <tr style=\"text-align: right;\">\n",
              "      <th></th>\n",
              "      <th>date</th>\n",
              "      <th>locationId</th>\n",
              "      <th>item_id</th>\n",
              "      <th>unit_sales</th>\n",
              "      <th>onpromotion</th>\n",
              "      <th>month</th>\n",
              "      <th>day</th>\n",
              "      <th>year</th>\n",
              "    </tr>\n",
              "  </thead>\n",
              "  <tbody>\n",
              "    <tr>\n",
              "      <th>0</th>\n",
              "      <td>2015-01-01</td>\n",
              "      <td>location_25</td>\n",
              "      <td>item_103665</td>\n",
              "      <td>7.0</td>\n",
              "      <td>NaN</td>\n",
              "      <td>1</td>\n",
              "      <td>1</td>\n",
              "      <td>2015</td>\n",
              "    </tr>\n",
              "    <tr>\n",
              "      <th>1</th>\n",
              "      <td>2015-01-01</td>\n",
              "      <td>location_25</td>\n",
              "      <td>item_105574</td>\n",
              "      <td>1.0</td>\n",
              "      <td>NaN</td>\n",
              "      <td>1</td>\n",
              "      <td>1</td>\n",
              "      <td>2015</td>\n",
              "    </tr>\n",
              "    <tr>\n",
              "      <th>2</th>\n",
              "      <td>2015-01-01</td>\n",
              "      <td>location_25</td>\n",
              "      <td>item_105575</td>\n",
              "      <td>2.0</td>\n",
              "      <td>NaN</td>\n",
              "      <td>1</td>\n",
              "      <td>1</td>\n",
              "      <td>2015</td>\n",
              "    </tr>\n",
              "    <tr>\n",
              "      <th>3</th>\n",
              "      <td>2015-01-01</td>\n",
              "      <td>location_25</td>\n",
              "      <td>item_108079</td>\n",
              "      <td>1.0</td>\n",
              "      <td>NaN</td>\n",
              "      <td>1</td>\n",
              "      <td>1</td>\n",
              "      <td>2015</td>\n",
              "    </tr>\n",
              "    <tr>\n",
              "      <th>4</th>\n",
              "      <td>2015-01-01</td>\n",
              "      <td>location_25</td>\n",
              "      <td>item_108701</td>\n",
              "      <td>1.0</td>\n",
              "      <td>NaN</td>\n",
              "      <td>1</td>\n",
              "      <td>1</td>\n",
              "      <td>2015</td>\n",
              "    </tr>\n",
              "  </tbody>\n",
              "</table>\n",
              "</div>"
            ],
            "text/plain": [
              "        date   locationId      item_id  ...  month day  year\n",
              "0 2015-01-01  location_25  item_103665  ...      1   1  2015\n",
              "1 2015-01-01  location_25  item_105574  ...      1   1  2015\n",
              "2 2015-01-01  location_25  item_105575  ...      1   1  2015\n",
              "3 2015-01-01  location_25  item_108079  ...      1   1  2015\n",
              "4 2015-01-01  location_25  item_108701  ...      1   1  2015\n",
              "\n",
              "[5 rows x 8 columns]"
            ]
          },
          "metadata": {
            "tags": []
          },
          "execution_count": 8
        }
      ]
    },
    {
      "cell_type": "code",
      "metadata": {
        "colab_type": "code",
        "id": "VrgCIRemFutK",
        "colab": {}
      },
      "source": [
        "##Feature engineering is imporatant for dates.For easy access of days months and year\n",
        "\n",
        "train['month']=train['date'].dt.month\n",
        "train['day']=train['date'].dt.day\n",
        "train['year']=train['date'].dt.year"
      ],
      "execution_count": 0,
      "outputs": []
    },
    {
      "cell_type": "code",
      "metadata": {
        "colab_type": "code",
        "id": "sDz6ZHsQJoRG",
        "colab": {}
      },
      "source": [
        "train['onpromotion']=train['onpromotion'].fillna(False)"
      ],
      "execution_count": 0,
      "outputs": []
    },
    {
      "cell_type": "code",
      "metadata": {
        "colab_type": "code",
        "id": "YC9O-8uvH2t5",
        "colab": {}
      },
      "source": [
        "train=train[tain.year>2016]\n",
        "y=train['unit_sales']\n",
        "X=train.drop('unit_sales',axis=1)"
      ],
      "execution_count": 0,
      "outputs": []
    },
    {
      "cell_type": "code",
      "metadata": {
        "colab_type": "code",
        "id": "i5O-7A1BP-rD",
        "colab": {}
      },
      "source": [
        "train.shape\n",
        "train.to_csv('train_prep.csv')\n",
        "test.to_csv('test_prep.csv')"
      ],
      "execution_count": 0,
      "outputs": []
    },
    {
      "cell_type": "code",
      "metadata": {
        "colab_type": "code",
        "id": "CJvEandmLNBu",
        "colab": {}
      },
      "source": [
        "train_prep=pd.read_csv('train_prep.csv')\n",
        "test_prep=pd.read_csv('test_prep.csv')"
      ],
      "execution_count": 0,
      "outputs": []
    },
    {
      "cell_type": "code",
      "metadata": {
        "colab_type": "code",
        "id": "9FXwxEcrfVjA",
        "outputId": "a04cc864-971e-49bf-baa5-e082aa93b3eb",
        "colab": {
          "base_uri": "https://localhost:8080/",
          "height": 194
        }
      },
      "source": [
        "train.head()"
      ],
      "execution_count": 0,
      "outputs": [
        {
          "output_type": "execute_result",
          "data": {
            "text/html": [
              "<div>\n",
              "<style scoped>\n",
              "    .dataframe tbody tr th:only-of-type {\n",
              "        vertical-align: middle;\n",
              "    }\n",
              "\n",
              "    .dataframe tbody tr th {\n",
              "        vertical-align: top;\n",
              "    }\n",
              "\n",
              "    .dataframe thead th {\n",
              "        text-align: right;\n",
              "    }\n",
              "</style>\n",
              "<table border=\"1\" class=\"dataframe\">\n",
              "  <thead>\n",
              "    <tr style=\"text-align: right;\">\n",
              "      <th></th>\n",
              "      <th>locationId</th>\n",
              "      <th>item_id</th>\n",
              "      <th>unit_sales</th>\n",
              "      <th>onpromotion</th>\n",
              "      <th>month</th>\n",
              "      <th>day</th>\n",
              "      <th>year</th>\n",
              "    </tr>\n",
              "  </thead>\n",
              "  <tbody>\n",
              "    <tr>\n",
              "      <th>38594264</th>\n",
              "      <td>17</td>\n",
              "      <td>45</td>\n",
              "      <td>12.0</td>\n",
              "      <td>False</td>\n",
              "      <td>1</td>\n",
              "      <td>1</td>\n",
              "      <td>2017</td>\n",
              "    </tr>\n",
              "    <tr>\n",
              "      <th>38594265</th>\n",
              "      <td>17</td>\n",
              "      <td>121</td>\n",
              "      <td>23.0</td>\n",
              "      <td>False</td>\n",
              "      <td>1</td>\n",
              "      <td>1</td>\n",
              "      <td>2017</td>\n",
              "    </tr>\n",
              "    <tr>\n",
              "      <th>38594266</th>\n",
              "      <td>17</td>\n",
              "      <td>194</td>\n",
              "      <td>1.0</td>\n",
              "      <td>False</td>\n",
              "      <td>1</td>\n",
              "      <td>1</td>\n",
              "      <td>2017</td>\n",
              "    </tr>\n",
              "    <tr>\n",
              "      <th>38594267</th>\n",
              "      <td>17</td>\n",
              "      <td>196</td>\n",
              "      <td>6.0</td>\n",
              "      <td>False</td>\n",
              "      <td>1</td>\n",
              "      <td>1</td>\n",
              "      <td>2017</td>\n",
              "    </tr>\n",
              "    <tr>\n",
              "      <th>38594268</th>\n",
              "      <td>17</td>\n",
              "      <td>201</td>\n",
              "      <td>6.0</td>\n",
              "      <td>False</td>\n",
              "      <td>1</td>\n",
              "      <td>1</td>\n",
              "      <td>2017</td>\n",
              "    </tr>\n",
              "  </tbody>\n",
              "</table>\n",
              "</div>"
            ],
            "text/plain": [
              "          locationId  item_id  unit_sales  onpromotion  month  day  year\n",
              "38594264          17       45        12.0        False      1    1  2017\n",
              "38594265          17      121        23.0        False      1    1  2017\n",
              "38594266          17      194         1.0        False      1    1  2017\n",
              "38594267          17      196         6.0        False      1    1  2017\n",
              "38594268          17      201         6.0        False      1    1  2017"
            ]
          },
          "metadata": {
            "tags": []
          },
          "execution_count": 38
        }
      ]
    },
    {
      "cell_type": "code",
      "metadata": {
        "colab_type": "code",
        "id": "eY5qwk0Hwr3I",
        "colab": {}
      },
      "source": [
        ""
      ],
      "execution_count": 0,
      "outputs": []
    },
    {
      "cell_type": "code",
      "metadata": {
        "colab_type": "code",
        "id": "Jvo3f2cJv24D",
        "colab": {}
      },
      "source": [
        "X['onpromotion']=X['onpromotion'].fillna(X['onpromotion'].mode())"
      ],
      "execution_count": 0,
      "outputs": []
    },
    {
      "cell_type": "code",
      "metadata": {
        "colab_type": "code",
        "id": "EkvGD1liwNkG",
        "colab": {}
      },
      "source": [
        "X['onpromotion']=X['onpromotion'].astype('bool')"
      ],
      "execution_count": 0,
      "outputs": []
    },
    {
      "cell_type": "code",
      "metadata": {
        "colab_type": "code",
        "id": "copx7FzgwThQ",
        "colab": {}
      },
      "source": [
        "X=X.drop('date',axis=1)"
      ],
      "execution_count": 0,
      "outputs": []
    },
    {
      "cell_type": "code",
      "metadata": {
        "colab_type": "code",
        "id": "Zyjv9xeeQeGN",
        "colab": {}
      },
      "source": [
        "def rmsle(y_true, y_pred):\n",
        "    assert len(y_true) == len(y_pred)\n",
        "    \n",
        "    return np.mean(np.abs((y_true - y_pred) / y_true)) * 100\n"
      ],
      "execution_count": 0,
      "outputs": []
    },
    {
      "cell_type": "markdown",
      "metadata": {
        "colab_type": "text",
        "id": "7eiackNbkKwW"
      },
      "source": [
        "**# Applying lightgbm model**"
      ]
    },
    {
      "cell_type": "code",
      "metadata": {
        "colab_type": "code",
        "id": "IZDJqS5gOuN3",
        "colab": {}
      },
      "source": [
        "import lightgbm as lgb"
      ],
      "execution_count": 0,
      "outputs": []
    },
    {
      "cell_type": "code",
      "metadata": {
        "colab_type": "code",
        "id": "PYMCDGlfRkoQ",
        "outputId": "341d3f60-ec04-4853-ccab-df158ddd801e",
        "colab": {
          "base_uri": "https://localhost:8080/",
          "height": 106
        }
      },
      "source": [
        "import numpy as np\n",
        "from sklearn.model_selection import train_test_split\n",
        "params = {\n",
        "    'boosting_type': 'gbdt',\n",
        "    'objective': 'regression',\n",
        "    'metric': 'rmsle',\n",
        "    'max_depth': 6, \n",
        "    'learning_rate': 0.1,\n",
        "    'verbose': 0, \n",
        "    }\n",
        "n_estimators = 10\n",
        "\n",
        "n_iters = 2\n",
        "preds_buf = []\n",
        "err_buf = []\n",
        "for i in range(n_iters): \n",
        "    x_train, x_valid, y_train, y_valid = train_test_split(X, y, test_size=0.10, random_state=i)\n",
        "    d_train = lgb.Dataset(x_train, label=y_train)\n",
        "    d_valid = lgb.Dataset(x_valid, label=y_valid)\n",
        "    watchlist = [d_valid]\n",
        "\n",
        "    model = lgb.train(params, d_train, n_estimators, watchlist, verbose_eval=1)\n",
        "\n",
        "    preds = model.predict(x_valid)\n",
        "    preds = np.exp(preds)\n",
        "    preds[preds < 0] = median_trip_duration\n",
        "    err = rmsle(np.exp(y_valid), preds)\n",
        "    err_buf.append(err)\n",
        "    print('RMSLE = ' + str(err))\n",
        "    \n",
        "    preds = model.predict(test)\n",
        "    preds = np.exp(preds)\n",
        "    preds[preds < 0] = median_trip_duration\n",
        "    preds_buf.append(preds)\n",
        "\n",
        "print('Mean RMSLE = ' + str(np.mean(err_buf)) + ' +/- ' + str(np.std(err_buf)))\n",
        "# Average predictions\n",
        "preds = np.mean(preds_buf, axis=0)"
      ],
      "execution_count": 0,
      "outputs": [
        {
          "output_type": "stream",
          "text": [
            "/usr/local/lib/python3.6/dist-packages/pandas/core/series.py:856: RuntimeWarning: overflow encountered in exp\n",
            "  result = getattr(ufunc, method)(*inputs, **kwargs)\n"
          ],
          "name": "stderr"
        },
        {
          "output_type": "stream",
          "text": [
            "RMSLE = 19475147404.08331\n",
            "RMSLE = 31424732206.728096\n",
            "Mean RMSLE = 25449939805.4057 +/- 5974792401.322393\n"
          ],
          "name": "stdout"
        }
      ]
    },
    {
      "cell_type": "markdown",
      "metadata": {
        "colab_type": "text",
        "id": "FTntcS5FkX9v"
      },
      "source": [
        "Light gbm failed miserably because of the parameters."
      ]
    },
    {
      "cell_type": "code",
      "metadata": {
        "colab_type": "code",
        "id": "CawzxYt8BdOi",
        "colab": {}
      },
      "source": [
        "\n",
        "def mean_absolute_percentage_error(y_true, y_pred): \n",
        "  \n",
        "\n",
        "    ## Note: does not handle mix 1d representation\n",
        "    #if _is_1d(y_true): \n",
        "    #    y_true, y_pred = _check_1d_array(y_true, y_pred)\n",
        "\n",
        "    return np.mean(np.abs((y_true - y_pred) / y_true)) * 100"
      ],
      "execution_count": 0,
      "outputs": []
    },
    {
      "cell_type": "code",
      "metadata": {
        "colab_type": "code",
        "id": "6z2QlLr9EfI1",
        "colab": {}
      },
      "source": [
        ""
      ],
      "execution_count": 0,
      "outputs": []
    },
    {
      "cell_type": "code",
      "metadata": {
        "colab_type": "code",
        "id": "YiMFjcFnKVYx",
        "colab": {}
      },
      "source": [
        "from sklearn.model_selection import validation_curve\n",
        "from sklearn.pipeline import make_pipeline\n",
        "from sklearn.metrics import make_scorer"
      ],
      "execution_count": 0,
      "outputs": []
    },
    {
      "cell_type": "code",
      "metadata": {
        "colab_type": "code",
        "id": "gw6pXV_MKcM2",
        "colab": {}
      },
      "source": [
        "rmse_scorer = make_scorer(mean_absolute_percentage_error, greater_is_better=False)"
      ],
      "execution_count": 0,
      "outputs": []
    },
    {
      "cell_type": "code",
      "metadata": {
        "colab_type": "code",
        "id": "gr3zoMTUKfxY",
        "colab": {}
      },
      "source": [
        "pipe_tree = make_pipeline(DecisionTreeRegressor(random_state=1))"
      ],
      "execution_count": 0,
      "outputs": []
    },
    {
      "cell_type": "code",
      "metadata": {
        "colab_type": "code",
        "id": "6KsrdMzSKvMI",
        "outputId": "96893f27-aad6-4599-e9f1-f2c0ba346319",
        "colab": {
          "base_uri": "https://localhost:8080/",
          "height": 50
        }
      },
      "source": [
        "import numpy as np\n",
        "\n",
        "depths = np.arange(1, 21)\n",
        "depths"
      ],
      "execution_count": 0,
      "outputs": [
        {
          "output_type": "execute_result",
          "data": {
            "text/plain": [
              "array([ 1,  2,  3,  4,  5,  6,  7,  8,  9, 10, 11, 12, 13, 14, 15, 16, 17,\n",
              "       18, 19, 20])"
            ]
          },
          "metadata": {
            "tags": []
          },
          "execution_count": 28
        }
      ]
    },
    {
      "cell_type": "code",
      "metadata": {
        "colab_type": "code",
        "id": "zWuki8y9Mo8e",
        "colab": {}
      },
      "source": [
        ""
      ],
      "execution_count": 0,
      "outputs": []
    },
    {
      "cell_type": "code",
      "metadata": {
        "colab_type": "code",
        "id": "Ranx45OBKyF1",
        "colab": {}
      },
      "source": [
        "num_leafs = [1, 5, 10, 20, 50, 100]"
      ],
      "execution_count": 0,
      "outputs": []
    },
    {
      "cell_type": "code",
      "metadata": {
        "colab_type": "code",
        "id": "RRdy_NHQK4Xt",
        "colab": {}
      },
      "source": [
        "from sklearn.model_selection import GridSearchCV"
      ],
      "execution_count": 0,
      "outputs": []
    },
    {
      "cell_type": "code",
      "metadata": {
        "colab_type": "code",
        "id": "xlmqiJHFK60I",
        "colab": {}
      },
      "source": [
        "param_grid = [{'decisiontreeregressor__max_depth':depths,\n",
        "              'decisiontreeregressor__min_samples_leaf':num_leafs}]"
      ],
      "execution_count": 0,
      "outputs": []
    },
    {
      "cell_type": "code",
      "metadata": {
        "colab_type": "code",
        "id": "tW3tIf7hK9NI",
        "colab": {}
      },
      "source": [
        "gs = GridSearchCV(estimator=pipe_tree, param_grid=param_grid, scoring=rmse_scorer, cv=10)"
      ],
      "execution_count": 0,
      "outputs": []
    },
    {
      "cell_type": "code",
      "metadata": {
        "colab_type": "code",
        "id": "LuBTFuQzK_z8",
        "colab": {}
      },
      "source": [
        "gs = gs.fit(X_train_and_validate, y_train_and_validate)"
      ],
      "execution_count": 0,
      "outputs": []
    },
    {
      "cell_type": "markdown",
      "metadata": {
        "colab_type": "text",
        "id": "JOrxoag_lgzn"
      },
      "source": [
        "Tried grid search with DT regressor.But it took 1 day to execute but still did not show up the model.Maybe because my cv was 10 :p."
      ]
    },
    {
      "cell_type": "code",
      "metadata": {
        "colab_type": "code",
        "id": "txzdLTeOaXod",
        "outputId": "f9564461-5351-4870-ca01-30ee732916a0",
        "colab": {
          "base_uri": "https://localhost:8080/",
          "height": 33
        }
      },
      "source": [
        "X.shape"
      ],
      "execution_count": 0,
      "outputs": [
        {
          "output_type": "execute_result",
          "data": {
            "text/plain": [
              "(101688779, 6)"
            ]
          },
          "metadata": {
            "tags": []
          },
          "execution_count": 46
        }
      ]
    },
    {
      "cell_type": "markdown",
      "metadata": {
        "colab_type": "text",
        "id": "m3U_H_L8n1vx"
      },
      "source": [
        "## **Applying Lightgbm with different parameters.**"
      ]
    },
    {
      "cell_type": "code",
      "metadata": {
        "colab_type": "code",
        "id": "6Bwe1N2QKq7B",
        "colab": {}
      },
      "source": [
        "import lightgbm as lgb\n",
        "\n",
        "d_train = lgb.Dataset(X, label= y)"
      ],
      "execution_count": 0,
      "outputs": []
    },
    {
      "cell_type": "code",
      "metadata": {
        "colab_type": "code",
        "id": "ULCHup90YmIX",
        "colab": {}
      },
      "source": [
        "params = {}\n",
        "params['learning_rate']= 0.003\n",
        "params['boosting_type']='gbdt'\n",
        "params['objective']='binary'\n",
        "params['metric']='MAPE'\n",
        "params['sub_feature']=0.5\n",
        "params['num_leaves']= 10\n",
        "params['min_data']=50\n",
        "params['max_depth']=10"
      ],
      "execution_count": 0,
      "outputs": []
    },
    {
      "cell_type": "code",
      "metadata": {
        "colab_type": "code",
        "id": "YImo9r-gYpUF",
        "colab": {}
      },
      "source": [
        "clf= lgb.train(params, d_train, 150)"
      ],
      "execution_count": 0,
      "outputs": []
    },
    {
      "cell_type": "code",
      "metadata": {
        "colab_type": "code",
        "id": "tkFVqbkcYslr",
        "colab": {}
      },
      "source": [
        "y_preds=clf.predict(X)"
      ],
      "execution_count": 0,
      "outputs": []
    },
    {
      "cell_type": "code",
      "metadata": {
        "colab_type": "code",
        "id": "JXaEdQ7lo4HK",
        "colab": {}
      },
      "source": [
        "def rmse(predictions, targets):\n",
        "    return np.sqrt(((predictions - targets) ** 2).mean())\n"
      ],
      "execution_count": 0,
      "outputs": []
    },
    {
      "cell_type": "code",
      "metadata": {
        "colab_type": "code",
        "id": "qMnD1Qe9Zoma",
        "outputId": "0c652408-f5d9-421e-c8a8-81430c22116e",
        "colab": {
          "base_uri": "https://localhost:8080/",
          "height": 33
        }
      },
      "source": [
        "import numpy as np\n",
        "\n",
        "rmse(y_preds,np.array(y))"
      ],
      "execution_count": 0,
      "outputs": [
        {
          "output_type": "execute_result",
          "data": {
            "text/plain": [
              "739.8818920429869"
            ]
          },
          "metadata": {
            "tags": []
          },
          "execution_count": 49
        }
      ]
    },
    {
      "cell_type": "markdown",
      "metadata": {
        "colab_type": "text",
        "id": "efYXtdqsn-Z8"
      },
      "source": [
        "## Lightgbm Observation\n",
        "\n",
        "Lightgbm i checked rmse on train:-739.88 which is a good figure.\n",
        "\n",
        "When i submitted it the score was around 63.3\n",
        "\n",
        "So this gave me a good result.:p"
      ]
    },
    {
      "cell_type": "code",
      "metadata": {
        "colab_type": "code",
        "id": "hjyP9k9Hcv07",
        "colab": {}
      },
      "source": [
        "test=test.drop('id',axis=1)"
      ],
      "execution_count": 0,
      "outputs": []
    },
    {
      "cell_type": "code",
      "metadata": {
        "colab_type": "code",
        "id": "S4INAFDKdWDm",
        "colab": {}
      },
      "source": [
        "test_preds=clf.predict(test)"
      ],
      "execution_count": 0,
      "outputs": []
    },
    {
      "cell_type": "code",
      "metadata": {
        "colab_type": "code",
        "id": "4U7_nyZRgnRq",
        "outputId": "e9281132-f468-4697-c36e-09fdeb4a95bb",
        "colab": {
          "base_uri": "https://localhost:8080/",
          "height": 50
        }
      },
      "source": [
        "test_preds"
      ],
      "execution_count": 0,
      "outputs": [
        {
          "output_type": "execute_result",
          "data": {
            "text/plain": [
              "array([0.99994038, 0.99993917, 0.99993917, ..., 0.99993363, 0.99993363,\n",
              "       0.99993363])"
            ]
          },
          "metadata": {
            "tags": []
          },
          "execution_count": 54
        }
      ]
    },
    {
      "cell_type": "code",
      "metadata": {
        "colab_type": "code",
        "id": "R5BlFY70grCD",
        "colab": {}
      },
      "source": [
        "df=pd.DataFrame(test_preds)"
      ],
      "execution_count": 0,
      "outputs": []
    },
    {
      "cell_type": "code",
      "metadata": {
        "colab_type": "code",
        "id": "68Xl6j8nhX61",
        "colab": {}
      },
      "source": [
        "df.to_csv('test_predictionsss.csv')"
      ],
      "execution_count": 0,
      "outputs": []
    },
    {
      "cell_type": "code",
      "metadata": {
        "colab_type": "code",
        "id": "yXH3_fl4la4_",
        "colab": {}
      },
      "source": [
        ""
      ],
      "execution_count": 0,
      "outputs": []
    },
    {
      "cell_type": "code",
      "metadata": {
        "colab_type": "code",
        "id": "j3ztgyZ-lT_K",
        "colab": {}
      },
      "source": [
        ""
      ],
      "execution_count": 0,
      "outputs": []
    },
    {
      "cell_type": "code",
      "metadata": {
        "colab_type": "code",
        "id": "fOvDFT_Hhk4H",
        "colab": {}
      },
      "source": [
        ""
      ],
      "execution_count": 0,
      "outputs": []
    },
    {
      "cell_type": "code",
      "metadata": {
        "colab_type": "code",
        "id": "I-jG7Hmrgpzd",
        "colab": {}
      },
      "source": [
        ""
      ],
      "execution_count": 0,
      "outputs": []
    },
    {
      "cell_type": "code",
      "metadata": {
        "colab_type": "code",
        "id": "HtqEjUkBctt6",
        "colab": {}
      },
      "source": [
        ""
      ],
      "execution_count": 0,
      "outputs": []
    },
    {
      "cell_type": "code",
      "metadata": {
        "colab_type": "code",
        "id": "IVN4VyZOZ_h4",
        "colab": {}
      },
      "source": [
        "y_preds"
      ],
      "execution_count": 0,
      "outputs": []
    },
    {
      "cell_type": "code",
      "metadata": {
        "colab_type": "code",
        "id": "_NUecwLnaGk_",
        "outputId": "a009e126-c123-4af3-9019-7d9e1e305a85",
        "colab": {
          "base_uri": "https://localhost:8080/",
          "height": 217
        }
      },
      "source": [
        "new_y"
      ],
      "execution_count": 0,
      "outputs": [
        {
          "output_type": "execute_result",
          "data": {
            "text/plain": [
              "38594264     12.0\n",
              "38594265     23.0\n",
              "38594266      1.0\n",
              "38594267      6.0\n",
              "38594268      6.0\n",
              "             ... \n",
              "101688774     6.0\n",
              "101688775     4.0\n",
              "101688776    10.0\n",
              "101688777     3.0\n",
              "101688778     1.0\n",
              "Name: unit_sales, Length: 63094515, dtype: float64"
            ]
          },
          "metadata": {
            "tags": []
          },
          "execution_count": 43
        }
      ]
    },
    {
      "cell_type": "code",
      "metadata": {
        "colab_type": "code",
        "id": "Z-Ea8coWaJqp",
        "colab": {}
      },
      "source": [
        ""
      ],
      "execution_count": 0,
      "outputs": []
    },
    {
      "cell_type": "code",
      "metadata": {
        "colab_type": "code",
        "id": "Ncug98a1Z88c",
        "colab": {}
      },
      "source": [
        ""
      ],
      "execution_count": 0,
      "outputs": []
    },
    {
      "cell_type": "code",
      "metadata": {
        "colab_type": "code",
        "id": "4Usk5jtFaaR-",
        "colab": {}
      },
      "source": [
        ""
      ],
      "execution_count": 0,
      "outputs": []
    },
    {
      "cell_type": "code",
      "metadata": {
        "colab_type": "code",
        "id": "P3wNtryQaaCP",
        "colab": {}
      },
      "source": [
        ""
      ],
      "execution_count": 0,
      "outputs": []
    },
    {
      "cell_type": "code",
      "metadata": {
        "id": "NQKC9mymvVah",
        "colab_type": "code",
        "colab": {}
      },
      "source": [
        "##new_test.csv consists of test data along with it's predictions"
      ],
      "execution_count": 0,
      "outputs": []
    },
    {
      "cell_type": "code",
      "metadata": {
        "id": "yMHp6qgZvVai",
        "colab_type": "code",
        "colab": {}
      },
      "source": [
        "import pandas as pd"
      ],
      "execution_count": 0,
      "outputs": []
    },
    {
      "cell_type": "code",
      "metadata": {
        "id": "q5S9Co_5vVan",
        "colab_type": "code",
        "colab": {}
      },
      "source": [
        "test=pd.read_csv('new_test.csv')"
      ],
      "execution_count": 0,
      "outputs": []
    },
    {
      "cell_type": "code",
      "metadata": {
        "id": "3PpTdWTEvVap",
        "colab_type": "code",
        "outputId": "87b62373-0af3-4e65-fc44-67b76574ee2f",
        "colab": {}
      },
      "source": [
        "test.head()"
      ],
      "execution_count": 0,
      "outputs": [
        {
          "output_type": "execute_result",
          "data": {
            "text/html": [
              "<div>\n",
              "<style scoped>\n",
              "    .dataframe tbody tr th:only-of-type {\n",
              "        vertical-align: middle;\n",
              "    }\n",
              "\n",
              "    .dataframe tbody tr th {\n",
              "        vertical-align: top;\n",
              "    }\n",
              "\n",
              "    .dataframe thead th {\n",
              "        text-align: right;\n",
              "    }\n",
              "</style>\n",
              "<table border=\"1\" class=\"dataframe\">\n",
              "  <thead>\n",
              "    <tr style=\"text-align: right;\">\n",
              "      <th></th>\n",
              "      <th>id</th>\n",
              "      <th>date</th>\n",
              "      <th>locationId</th>\n",
              "      <th>item_id</th>\n",
              "      <th>onpromotion</th>\n",
              "      <th>unit_sales</th>\n",
              "    </tr>\n",
              "  </thead>\n",
              "  <tbody>\n",
              "    <tr>\n",
              "      <td>0</td>\n",
              "      <td>0</td>\n",
              "      <td>01-01-2019</td>\n",
              "      <td>location_25</td>\n",
              "      <td>item_99197</td>\n",
              "      <td>False</td>\n",
              "      <td>1.593629</td>\n",
              "    </tr>\n",
              "    <tr>\n",
              "      <td>1</td>\n",
              "      <td>1</td>\n",
              "      <td>01-01-2019</td>\n",
              "      <td>location_25</td>\n",
              "      <td>item_103665</td>\n",
              "      <td>False</td>\n",
              "      <td>1.582322</td>\n",
              "    </tr>\n",
              "    <tr>\n",
              "      <td>2</td>\n",
              "      <td>2</td>\n",
              "      <td>01-01-2019</td>\n",
              "      <td>location_25</td>\n",
              "      <td>item_105574</td>\n",
              "      <td>False</td>\n",
              "      <td>1.582322</td>\n",
              "    </tr>\n",
              "    <tr>\n",
              "      <td>3</td>\n",
              "      <td>3</td>\n",
              "      <td>01-01-2019</td>\n",
              "      <td>location_25</td>\n",
              "      <td>item_105857</td>\n",
              "      <td>False</td>\n",
              "      <td>1.582322</td>\n",
              "    </tr>\n",
              "    <tr>\n",
              "      <td>4</td>\n",
              "      <td>4</td>\n",
              "      <td>01-01-2019</td>\n",
              "      <td>location_25</td>\n",
              "      <td>item_106716</td>\n",
              "      <td>False</td>\n",
              "      <td>1.582322</td>\n",
              "    </tr>\n",
              "  </tbody>\n",
              "</table>\n",
              "</div>"
            ],
            "text/plain": [
              "   id        date   locationId      item_id  onpromotion  unit_sales\n",
              "0   0  01-01-2019  location_25   item_99197        False    1.593629\n",
              "1   1  01-01-2019  location_25  item_103665        False    1.582322\n",
              "2   2  01-01-2019  location_25  item_105574        False    1.582322\n",
              "3   3  01-01-2019  location_25  item_105857        False    1.582322\n",
              "4   4  01-01-2019  location_25  item_106716        False    1.582322"
            ]
          },
          "metadata": {
            "tags": []
          },
          "execution_count": 40
        }
      ]
    },
    {
      "cell_type": "code",
      "metadata": {
        "id": "9hLvQjskvVas",
        "colab_type": "code",
        "outputId": "858e4ef8-346f-443d-9ad7-dd27b2940f1c",
        "colab": {}
      },
      "source": [
        "!pip install pandasql"
      ],
      "execution_count": 0,
      "outputs": [
        {
          "output_type": "stream",
          "text": [
            "Requirement already satisfied: pandasql in c:\\users\\manis\\anaconda3\\anaconda\\lib\\site-packages (0.7.3)\n",
            "Requirement already satisfied: pandas in c:\\users\\manis\\anaconda3\\anaconda\\lib\\site-packages (from pandasql) (0.25.1)\n",
            "Requirement already satisfied: sqlalchemy in c:\\users\\manis\\anaconda3\\anaconda\\lib\\site-packages (from pandasql) (1.3.9)\n",
            "Requirement already satisfied: numpy in c:\\users\\manis\\appdata\\roaming\\python\\python36\\site-packages (from pandasql) (1.17.4)\n",
            "Requirement already satisfied: python-dateutil>=2.6.1 in c:\\users\\manis\\anaconda3\\anaconda\\lib\\site-packages (from pandas->pandasql) (2.8.0)\n",
            "Requirement already satisfied: pytz>=2017.2 in c:\\users\\manis\\anaconda3\\anaconda\\lib\\site-packages (from pandas->pandasql) (2019.3)\n",
            "Requirement already satisfied: six>=1.5 in c:\\users\\manis\\anaconda3\\anaconda\\lib\\site-packages (from python-dateutil>=2.6.1->pandas->pandasql) (1.12.0)\n"
          ],
          "name": "stdout"
        }
      ]
    },
    {
      "cell_type": "code",
      "metadata": {
        "id": "lWELGo5MvVax",
        "colab_type": "code",
        "colab": {}
      },
      "source": [
        "import pandasql as ps"
      ],
      "execution_count": 0,
      "outputs": []
    },
    {
      "cell_type": "code",
      "metadata": {
        "id": "SmEOj9fBvVaz",
        "colab_type": "code",
        "colab": {}
      },
      "source": [
        "## converting to total sales from the subset data with respect to cluster and converting it data frame\n",
        "\n",
        "qt1 = \"\"\"SELECT cluster,sum(unit_sales) as tot_sales FROM test GROUP BY cluster\"\"\"\n",
        "\n",
        "dt1= pd.DataFrame(ps.sqldf(qt1, locals()))"
      ],
      "execution_count": 0,
      "outputs": []
    },
    {
      "cell_type": "code",
      "metadata": {
        "id": "swZspl08vVa1",
        "colab_type": "code",
        "outputId": "9675deaf-5d43-401e-c7e4-308acda56611",
        "colab": {}
      },
      "source": [
        "dt1.head()"
      ],
      "execution_count": 0,
      "outputs": [
        {
          "output_type": "execute_result",
          "data": {
            "text/html": [
              "<div>\n",
              "<style scoped>\n",
              "    .dataframe tbody tr th:only-of-type {\n",
              "        vertical-align: middle;\n",
              "    }\n",
              "\n",
              "    .dataframe tbody tr th {\n",
              "        vertical-align: top;\n",
              "    }\n",
              "\n",
              "    .dataframe thead th {\n",
              "        text-align: right;\n",
              "    }\n",
              "</style>\n",
              "<table border=\"1\" class=\"dataframe\">\n",
              "  <thead>\n",
              "    <tr style=\"text-align: right;\">\n",
              "      <th></th>\n",
              "      <th>cluster</th>\n",
              "      <th>tot_sales</th>\n",
              "    </tr>\n",
              "  </thead>\n",
              "  <tbody>\n",
              "    <tr>\n",
              "      <td>0</td>\n",
              "      <td>1</td>\n",
              "      <td>113115.731735</td>\n",
              "    </tr>\n",
              "    <tr>\n",
              "      <td>1</td>\n",
              "      <td>2</td>\n",
              "      <td>79686.878967</td>\n",
              "    </tr>\n",
              "    <tr>\n",
              "      <td>2</td>\n",
              "      <td>3</td>\n",
              "      <td>167920.311148</td>\n",
              "    </tr>\n",
              "    <tr>\n",
              "      <td>3</td>\n",
              "      <td>4</td>\n",
              "      <td>115011.419278</td>\n",
              "    </tr>\n",
              "    <tr>\n",
              "      <td>4</td>\n",
              "      <td>5</td>\n",
              "      <td>55823.752216</td>\n",
              "    </tr>\n",
              "  </tbody>\n",
              "</table>\n",
              "</div>"
            ],
            "text/plain": [
              "   cluster      tot_sales\n",
              "0        1  113115.731735\n",
              "1        2   79686.878967\n",
              "2        3  167920.311148\n",
              "3        4  115011.419278\n",
              "4        5   55823.752216"
            ]
          },
          "metadata": {
            "tags": []
          },
          "execution_count": 44
        }
      ]
    },
    {
      "cell_type": "code",
      "metadata": {
        "id": "pjR-apdjvVa3",
        "colab_type": "code",
        "colab": {}
      },
      "source": [
        "location=pd.read_csv('location_details.csv')"
      ],
      "execution_count": 0,
      "outputs": []
    },
    {
      "cell_type": "code",
      "metadata": {
        "id": "k6O2cT24vVa6",
        "colab_type": "code",
        "outputId": "f84a3e7e-2675-4dd9-82ef-9cdffd73108e",
        "colab": {}
      },
      "source": [
        "location.head()"
      ],
      "execution_count": 0,
      "outputs": [
        {
          "output_type": "execute_result",
          "data": {
            "text/html": [
              "<div>\n",
              "<style scoped>\n",
              "    .dataframe tbody tr th:only-of-type {\n",
              "        vertical-align: middle;\n",
              "    }\n",
              "\n",
              "    .dataframe tbody tr th {\n",
              "        vertical-align: top;\n",
              "    }\n",
              "\n",
              "    .dataframe thead th {\n",
              "        text-align: right;\n",
              "    }\n",
              "</style>\n",
              "<table border=\"1\" class=\"dataframe\">\n",
              "  <thead>\n",
              "    <tr style=\"text-align: right;\">\n",
              "      <th></th>\n",
              "      <th>location_id</th>\n",
              "      <th>city</th>\n",
              "      <th>state</th>\n",
              "      <th>type</th>\n",
              "      <th>cluster</th>\n",
              "    </tr>\n",
              "  </thead>\n",
              "  <tbody>\n",
              "    <tr>\n",
              "      <td>0</td>\n",
              "      <td>location_1</td>\n",
              "      <td>Bengaluru</td>\n",
              "      <td>Karnataka</td>\n",
              "      <td>D</td>\n",
              "      <td>13</td>\n",
              "    </tr>\n",
              "    <tr>\n",
              "      <td>1</td>\n",
              "      <td>location_2</td>\n",
              "      <td>Bengaluru</td>\n",
              "      <td>Karnataka</td>\n",
              "      <td>D</td>\n",
              "      <td>13</td>\n",
              "    </tr>\n",
              "    <tr>\n",
              "      <td>2</td>\n",
              "      <td>location_3</td>\n",
              "      <td>Bengaluru</td>\n",
              "      <td>Karnataka</td>\n",
              "      <td>D</td>\n",
              "      <td>8</td>\n",
              "    </tr>\n",
              "    <tr>\n",
              "      <td>3</td>\n",
              "      <td>location_4</td>\n",
              "      <td>Bengaluru</td>\n",
              "      <td>Karnataka</td>\n",
              "      <td>D</td>\n",
              "      <td>9</td>\n",
              "    </tr>\n",
              "    <tr>\n",
              "      <td>4</td>\n",
              "      <td>location_5</td>\n",
              "      <td>Delhi</td>\n",
              "      <td>NCR</td>\n",
              "      <td>D</td>\n",
              "      <td>4</td>\n",
              "    </tr>\n",
              "  </tbody>\n",
              "</table>\n",
              "</div>"
            ],
            "text/plain": [
              "  location_id       city      state type  cluster\n",
              "0  location_1  Bengaluru  Karnataka    D       13\n",
              "1  location_2  Bengaluru  Karnataka    D       13\n",
              "2  location_3  Bengaluru  Karnataka    D        8\n",
              "3  location_4  Bengaluru  Karnataka    D        9\n",
              "4  location_5      Delhi        NCR    D        4"
            ]
          },
          "metadata": {
            "tags": []
          },
          "execution_count": 14
        }
      ]
    },
    {
      "cell_type": "code",
      "metadata": {
        "id": "Yi2pByZjvVa9",
        "colab_type": "code",
        "colab": {}
      },
      "source": [
        "test=pd.merge(test,location,how='inner',left_on=['locationId'],right_on=['location_id'])"
      ],
      "execution_count": 0,
      "outputs": []
    },
    {
      "cell_type": "code",
      "metadata": {
        "id": "ya-1foDXvVbC",
        "colab_type": "code",
        "outputId": "4ca12776-57ff-47df-b896-b696339be850",
        "colab": {}
      },
      "source": [
        "merged.head()"
      ],
      "execution_count": 0,
      "outputs": [
        {
          "output_type": "execute_result",
          "data": {
            "text/html": [
              "<div>\n",
              "<style scoped>\n",
              "    .dataframe tbody tr th:only-of-type {\n",
              "        vertical-align: middle;\n",
              "    }\n",
              "\n",
              "    .dataframe tbody tr th {\n",
              "        vertical-align: top;\n",
              "    }\n",
              "\n",
              "    .dataframe thead th {\n",
              "        text-align: right;\n",
              "    }\n",
              "</style>\n",
              "<table border=\"1\" class=\"dataframe\">\n",
              "  <thead>\n",
              "    <tr style=\"text-align: right;\">\n",
              "      <th></th>\n",
              "      <th>id</th>\n",
              "      <th>date</th>\n",
              "      <th>locationId</th>\n",
              "      <th>item_id</th>\n",
              "      <th>onpromotion</th>\n",
              "      <th>unit_sales</th>\n",
              "      <th>location_id</th>\n",
              "      <th>city</th>\n",
              "      <th>state</th>\n",
              "      <th>type</th>\n",
              "      <th>cluster</th>\n",
              "    </tr>\n",
              "  </thead>\n",
              "  <tbody>\n",
              "    <tr>\n",
              "      <td>0</td>\n",
              "      <td>0</td>\n",
              "      <td>01-01-2019</td>\n",
              "      <td>location_25</td>\n",
              "      <td>item_99197</td>\n",
              "      <td>False</td>\n",
              "      <td>1.593629</td>\n",
              "      <td>location_25</td>\n",
              "      <td>Kanpur</td>\n",
              "      <td>Uttar Pradesh</td>\n",
              "      <td>D</td>\n",
              "      <td>1</td>\n",
              "    </tr>\n",
              "    <tr>\n",
              "      <td>1</td>\n",
              "      <td>1</td>\n",
              "      <td>01-01-2019</td>\n",
              "      <td>location_25</td>\n",
              "      <td>item_103665</td>\n",
              "      <td>False</td>\n",
              "      <td>1.582322</td>\n",
              "      <td>location_25</td>\n",
              "      <td>Kanpur</td>\n",
              "      <td>Uttar Pradesh</td>\n",
              "      <td>D</td>\n",
              "      <td>1</td>\n",
              "    </tr>\n",
              "    <tr>\n",
              "      <td>2</td>\n",
              "      <td>2</td>\n",
              "      <td>01-01-2019</td>\n",
              "      <td>location_25</td>\n",
              "      <td>item_105574</td>\n",
              "      <td>False</td>\n",
              "      <td>1.582322</td>\n",
              "      <td>location_25</td>\n",
              "      <td>Kanpur</td>\n",
              "      <td>Uttar Pradesh</td>\n",
              "      <td>D</td>\n",
              "      <td>1</td>\n",
              "    </tr>\n",
              "    <tr>\n",
              "      <td>3</td>\n",
              "      <td>3</td>\n",
              "      <td>01-01-2019</td>\n",
              "      <td>location_25</td>\n",
              "      <td>item_105857</td>\n",
              "      <td>False</td>\n",
              "      <td>1.582322</td>\n",
              "      <td>location_25</td>\n",
              "      <td>Kanpur</td>\n",
              "      <td>Uttar Pradesh</td>\n",
              "      <td>D</td>\n",
              "      <td>1</td>\n",
              "    </tr>\n",
              "    <tr>\n",
              "      <td>4</td>\n",
              "      <td>4</td>\n",
              "      <td>01-01-2019</td>\n",
              "      <td>location_25</td>\n",
              "      <td>item_106716</td>\n",
              "      <td>False</td>\n",
              "      <td>1.582322</td>\n",
              "      <td>location_25</td>\n",
              "      <td>Kanpur</td>\n",
              "      <td>Uttar Pradesh</td>\n",
              "      <td>D</td>\n",
              "      <td>1</td>\n",
              "    </tr>\n",
              "  </tbody>\n",
              "</table>\n",
              "</div>"
            ],
            "text/plain": [
              "   id        date   locationId      item_id  onpromotion  unit_sales  \\\n",
              "0   0  01-01-2019  location_25   item_99197        False    1.593629   \n",
              "1   1  01-01-2019  location_25  item_103665        False    1.582322   \n",
              "2   2  01-01-2019  location_25  item_105574        False    1.582322   \n",
              "3   3  01-01-2019  location_25  item_105857        False    1.582322   \n",
              "4   4  01-01-2019  location_25  item_106716        False    1.582322   \n",
              "\n",
              "   location_id    city          state type  cluster  \n",
              "0  location_25  Kanpur  Uttar Pradesh    D        1  \n",
              "1  location_25  Kanpur  Uttar Pradesh    D        1  \n",
              "2  location_25  Kanpur  Uttar Pradesh    D        1  \n",
              "3  location_25  Kanpur  Uttar Pradesh    D        1  \n",
              "4  location_25  Kanpur  Uttar Pradesh    D        1  "
            ]
          },
          "metadata": {
            "tags": []
          },
          "execution_count": 20
        }
      ]
    },
    {
      "cell_type": "code",
      "metadata": {
        "id": "6XKIec1GvVbF",
        "colab_type": "code",
        "colab": {}
      },
      "source": [
        "test=test.drop('locationId',axis=1)"
      ],
      "execution_count": 0,
      "outputs": []
    },
    {
      "cell_type": "code",
      "metadata": {
        "id": "Zbe_ZBzGvVbH",
        "colab_type": "code",
        "outputId": "9eb583d1-e784-48f1-aaad-693c4497fe7e",
        "colab": {}
      },
      "source": [
        "test.head()"
      ],
      "execution_count": 0,
      "outputs": [
        {
          "output_type": "execute_result",
          "data": {
            "text/html": [
              "<div>\n",
              "<style scoped>\n",
              "    .dataframe tbody tr th:only-of-type {\n",
              "        vertical-align: middle;\n",
              "    }\n",
              "\n",
              "    .dataframe tbody tr th {\n",
              "        vertical-align: top;\n",
              "    }\n",
              "\n",
              "    .dataframe thead th {\n",
              "        text-align: right;\n",
              "    }\n",
              "</style>\n",
              "<table border=\"1\" class=\"dataframe\">\n",
              "  <thead>\n",
              "    <tr style=\"text-align: right;\">\n",
              "      <th></th>\n",
              "      <th>id</th>\n",
              "      <th>date</th>\n",
              "      <th>item_id</th>\n",
              "      <th>onpromotion</th>\n",
              "      <th>unit_sales</th>\n",
              "      <th>location_id</th>\n",
              "      <th>city</th>\n",
              "      <th>state</th>\n",
              "      <th>type</th>\n",
              "      <th>cluster</th>\n",
              "    </tr>\n",
              "  </thead>\n",
              "  <tbody>\n",
              "    <tr>\n",
              "      <td>0</td>\n",
              "      <td>0</td>\n",
              "      <td>01-01-2019</td>\n",
              "      <td>item_99197</td>\n",
              "      <td>False</td>\n",
              "      <td>1.593629</td>\n",
              "      <td>location_25</td>\n",
              "      <td>Kanpur</td>\n",
              "      <td>Uttar Pradesh</td>\n",
              "      <td>D</td>\n",
              "      <td>1</td>\n",
              "    </tr>\n",
              "    <tr>\n",
              "      <td>1</td>\n",
              "      <td>1</td>\n",
              "      <td>01-01-2019</td>\n",
              "      <td>item_103665</td>\n",
              "      <td>False</td>\n",
              "      <td>1.582322</td>\n",
              "      <td>location_25</td>\n",
              "      <td>Kanpur</td>\n",
              "      <td>Uttar Pradesh</td>\n",
              "      <td>D</td>\n",
              "      <td>1</td>\n",
              "    </tr>\n",
              "    <tr>\n",
              "      <td>2</td>\n",
              "      <td>2</td>\n",
              "      <td>01-01-2019</td>\n",
              "      <td>item_105574</td>\n",
              "      <td>False</td>\n",
              "      <td>1.582322</td>\n",
              "      <td>location_25</td>\n",
              "      <td>Kanpur</td>\n",
              "      <td>Uttar Pradesh</td>\n",
              "      <td>D</td>\n",
              "      <td>1</td>\n",
              "    </tr>\n",
              "    <tr>\n",
              "      <td>3</td>\n",
              "      <td>3</td>\n",
              "      <td>01-01-2019</td>\n",
              "      <td>item_105857</td>\n",
              "      <td>False</td>\n",
              "      <td>1.582322</td>\n",
              "      <td>location_25</td>\n",
              "      <td>Kanpur</td>\n",
              "      <td>Uttar Pradesh</td>\n",
              "      <td>D</td>\n",
              "      <td>1</td>\n",
              "    </tr>\n",
              "    <tr>\n",
              "      <td>4</td>\n",
              "      <td>4</td>\n",
              "      <td>01-01-2019</td>\n",
              "      <td>item_106716</td>\n",
              "      <td>False</td>\n",
              "      <td>1.582322</td>\n",
              "      <td>location_25</td>\n",
              "      <td>Kanpur</td>\n",
              "      <td>Uttar Pradesh</td>\n",
              "      <td>D</td>\n",
              "      <td>1</td>\n",
              "    </tr>\n",
              "  </tbody>\n",
              "</table>\n",
              "</div>"
            ],
            "text/plain": [
              "   id        date      item_id  onpromotion  unit_sales  location_id    city  \\\n",
              "0   0  01-01-2019   item_99197        False    1.593629  location_25  Kanpur   \n",
              "1   1  01-01-2019  item_103665        False    1.582322  location_25  Kanpur   \n",
              "2   2  01-01-2019  item_105574        False    1.582322  location_25  Kanpur   \n",
              "3   3  01-01-2019  item_105857        False    1.582322  location_25  Kanpur   \n",
              "4   4  01-01-2019  item_106716        False    1.582322  location_25  Kanpur   \n",
              "\n",
              "           state type  cluster  \n",
              "0  Uttar Pradesh    D        1  \n",
              "1  Uttar Pradesh    D        1  \n",
              "2  Uttar Pradesh    D        1  \n",
              "3  Uttar Pradesh    D        1  \n",
              "4  Uttar Pradesh    D        1  "
            ]
          },
          "metadata": {
            "tags": []
          },
          "execution_count": 46
        }
      ]
    },
    {
      "cell_type": "code",
      "metadata": {
        "id": "eZ-cWQ3evVbI",
        "colab_type": "code",
        "colab": {}
      },
      "source": [
        "## converting to total sales from the subset data with respect to cluster and converting it data frame\n",
        "\n",
        "qt1 = \"\"\"SELECT cluster,sum(unit_sales) as tot_sales FROM test GROUP BY cluster\"\"\"\n",
        "\n",
        "dt1= pd.DataFrame(ps.sqldf(qt1, locals()))"
      ],
      "execution_count": 0,
      "outputs": []
    },
    {
      "cell_type": "code",
      "metadata": {
        "id": "r89RwIDJvVbK",
        "colab_type": "code",
        "outputId": "66f09977-a4bb-4e85-990f-7e38279b6465",
        "colab": {}
      },
      "source": [
        "dt1.head(20)"
      ],
      "execution_count": 0,
      "outputs": [
        {
          "output_type": "execute_result",
          "data": {
            "text/html": [
              "<div>\n",
              "<style scoped>\n",
              "    .dataframe tbody tr th:only-of-type {\n",
              "        vertical-align: middle;\n",
              "    }\n",
              "\n",
              "    .dataframe tbody tr th {\n",
              "        vertical-align: top;\n",
              "    }\n",
              "\n",
              "    .dataframe thead th {\n",
              "        text-align: right;\n",
              "    }\n",
              "</style>\n",
              "<table border=\"1\" class=\"dataframe\">\n",
              "  <thead>\n",
              "    <tr style=\"text-align: right;\">\n",
              "      <th></th>\n",
              "      <th>cluster</th>\n",
              "      <th>tot_sales</th>\n",
              "    </tr>\n",
              "  </thead>\n",
              "  <tbody>\n",
              "    <tr>\n",
              "      <td>0</td>\n",
              "      <td>1</td>\n",
              "      <td>113115.731735</td>\n",
              "    </tr>\n",
              "    <tr>\n",
              "      <td>1</td>\n",
              "      <td>2</td>\n",
              "      <td>79686.878967</td>\n",
              "    </tr>\n",
              "    <tr>\n",
              "      <td>2</td>\n",
              "      <td>3</td>\n",
              "      <td>167920.311148</td>\n",
              "    </tr>\n",
              "    <tr>\n",
              "      <td>3</td>\n",
              "      <td>4</td>\n",
              "      <td>115011.419278</td>\n",
              "    </tr>\n",
              "    <tr>\n",
              "      <td>4</td>\n",
              "      <td>5</td>\n",
              "      <td>55823.752216</td>\n",
              "    </tr>\n",
              "    <tr>\n",
              "      <td>5</td>\n",
              "      <td>6</td>\n",
              "      <td>225803.435963</td>\n",
              "    </tr>\n",
              "    <tr>\n",
              "      <td>6</td>\n",
              "      <td>7</td>\n",
              "      <td>53809.939389</td>\n",
              "    </tr>\n",
              "    <tr>\n",
              "      <td>7</td>\n",
              "      <td>8</td>\n",
              "      <td>146618.694572</td>\n",
              "    </tr>\n",
              "    <tr>\n",
              "      <td>8</td>\n",
              "      <td>9</td>\n",
              "      <td>79457.739138</td>\n",
              "    </tr>\n",
              "    <tr>\n",
              "      <td>9</td>\n",
              "      <td>10</td>\n",
              "      <td>196154.429497</td>\n",
              "    </tr>\n",
              "    <tr>\n",
              "      <td>10</td>\n",
              "      <td>11</td>\n",
              "      <td>104555.054127</td>\n",
              "    </tr>\n",
              "    <tr>\n",
              "      <td>11</td>\n",
              "      <td>12</td>\n",
              "      <td>34376.040077</td>\n",
              "    </tr>\n",
              "    <tr>\n",
              "      <td>12</td>\n",
              "      <td>13</td>\n",
              "      <td>170235.017386</td>\n",
              "    </tr>\n",
              "    <tr>\n",
              "      <td>13</td>\n",
              "      <td>14</td>\n",
              "      <td>197446.731515</td>\n",
              "    </tr>\n",
              "    <tr>\n",
              "      <td>14</td>\n",
              "      <td>15</td>\n",
              "      <td>137187.396328</td>\n",
              "    </tr>\n",
              "    <tr>\n",
              "      <td>15</td>\n",
              "      <td>16</td>\n",
              "      <td>38072.278938</td>\n",
              "    </tr>\n",
              "    <tr>\n",
              "      <td>16</td>\n",
              "      <td>17</td>\n",
              "      <td>41196.923437</td>\n",
              "    </tr>\n",
              "  </tbody>\n",
              "</table>\n",
              "</div>"
            ],
            "text/plain": [
              "    cluster      tot_sales\n",
              "0         1  113115.731735\n",
              "1         2   79686.878967\n",
              "2         3  167920.311148\n",
              "3         4  115011.419278\n",
              "4         5   55823.752216\n",
              "5         6  225803.435963\n",
              "6         7   53809.939389\n",
              "7         8  146618.694572\n",
              "8         9   79457.739138\n",
              "9        10  196154.429497\n",
              "10       11  104555.054127\n",
              "11       12   34376.040077\n",
              "12       13  170235.017386\n",
              "13       14  197446.731515\n",
              "14       15  137187.396328\n",
              "15       16   38072.278938\n",
              "16       17   41196.923437"
            ]
          },
          "metadata": {
            "tags": []
          },
          "execution_count": 47
        }
      ]
    },
    {
      "cell_type": "code",
      "metadata": {
        "id": "wQqR-N5SvVbM",
        "colab_type": "code",
        "outputId": "a616831e-8c37-42f1-d464-046329598cf3",
        "colab": {}
      },
      "source": [
        "import matplotlib.pyplot as plt\n",
        "plt.figure(figsize=(14,16))\n",
        "dt1.sort_values('tot_sales',ascending=False,inplace=True)\n",
        "dt1.plot(kind='bar',y='tot_sales',x='cluster',color='b',figsize=(10,8))\n",
        "plt.ylabel('tot_sales')\n",
        "plt.title('total sales of different clusters')"
      ],
      "execution_count": 0,
      "outputs": [
        {
          "output_type": "execute_result",
          "data": {
            "text/plain": [
              "Text(0.5, 1.0, 'total sales of different clusters')"
            ]
          },
          "metadata": {
            "tags": []
          },
          "execution_count": 48
        },
        {
          "output_type": "display_data",
          "data": {
            "text/plain": [
              "<Figure size 1008x1152 with 0 Axes>"
            ]
          },
          "metadata": {
            "tags": []
          }
        },
        {
          "output_type": "display_data",
          "data": {
            "image/png": "[encoded data removed]",
            "text/plain": [
              "<Figure size 720x576 with 1 Axes>"
            ]
          },
          "metadata": {
            "tags": [],
            "needs_background": "light"
          }
        }
      ]
    },
    {
      "cell_type": "code",
      "metadata": {
        "id": "lGNae1OpvVbP",
        "colab_type": "code",
        "colab": {}
      },
      "source": [
        "dat2= test.loc[test['cluster']==6,['cluster','item_id','unit_sales','type']]   ## observations from 14th cluster\n"
      ],
      "execution_count": 0,
      "outputs": []
    },
    {
      "cell_type": "code",
      "metadata": {
        "id": "9pRP1LfmvVbQ",
        "colab_type": "code",
        "colab": {}
      },
      "source": [
        "## calculating the sum of unit sales of cluster 14 with respect to items to know the top selling items\n",
        "\n",
        "qt2 = \"\"\"SELECT cluster,item_id,sum(unit_sales) as tot_sales FROM dat2 GROUP BY item_id\"\"\"\n",
        "\n",
        "dt2= pd.DataFrame(ps.sqldf(qt2, locals()))"
      ],
      "execution_count": 0,
      "outputs": []
    },
    {
      "cell_type": "code",
      "metadata": {
        "id": "4HfvAisFvVbS",
        "colab_type": "code",
        "outputId": "bd52f2e3-60b2-401c-926d-f7c44a5fe74c",
        "colab": {}
      },
      "source": [
        "dt2.head()"
      ],
      "execution_count": 0,
      "outputs": [
        {
          "output_type": "execute_result",
          "data": {
            "text/html": [
              "<div>\n",
              "<style scoped>\n",
              "    .dataframe tbody tr th:only-of-type {\n",
              "        vertical-align: middle;\n",
              "    }\n",
              "\n",
              "    .dataframe tbody tr th {\n",
              "        vertical-align: top;\n",
              "    }\n",
              "\n",
              "    .dataframe thead th {\n",
              "        text-align: right;\n",
              "    }\n",
              "</style>\n",
              "<table border=\"1\" class=\"dataframe\">\n",
              "  <thead>\n",
              "    <tr style=\"text-align: right;\">\n",
              "      <th></th>\n",
              "      <th>cluster</th>\n",
              "      <th>item_id</th>\n",
              "      <th>tot_sales</th>\n",
              "    </tr>\n",
              "  </thead>\n",
              "  <tbody>\n",
              "    <tr>\n",
              "      <td>0</td>\n",
              "      <td>6</td>\n",
              "      <td>item_1001305</td>\n",
              "      <td>85.830069</td>\n",
              "    </tr>\n",
              "    <tr>\n",
              "      <td>1</td>\n",
              "      <td>6</td>\n",
              "      <td>item_1003679</td>\n",
              "      <td>106.007065</td>\n",
              "    </tr>\n",
              "    <tr>\n",
              "      <td>2</td>\n",
              "      <td>6</td>\n",
              "      <td>item_1004550</td>\n",
              "      <td>103.316201</td>\n",
              "    </tr>\n",
              "    <tr>\n",
              "      <td>3</td>\n",
              "      <td>6</td>\n",
              "      <td>item_1004551</td>\n",
              "      <td>73.426414</td>\n",
              "    </tr>\n",
              "    <tr>\n",
              "      <td>4</td>\n",
              "      <td>6</td>\n",
              "      <td>item_1005456</td>\n",
              "      <td>14.230820</td>\n",
              "    </tr>\n",
              "  </tbody>\n",
              "</table>\n",
              "</div>"
            ],
            "text/plain": [
              "   cluster       item_id   tot_sales\n",
              "0        6  item_1001305   85.830069\n",
              "1        6  item_1003679  106.007065\n",
              "2        6  item_1004550  103.316201\n",
              "3        6  item_1004551   73.426414\n",
              "4        6  item_1005456   14.230820"
            ]
          },
          "metadata": {
            "tags": []
          },
          "execution_count": 51
        }
      ]
    },
    {
      "cell_type": "code",
      "metadata": {
        "id": "lM9tG0ZfvVbU",
        "colab_type": "code",
        "colab": {}
      },
      "source": [
        "## sorting the top 10 selling items in cluster 14\n",
        "\n",
        "test_item_10=dt2.sort_values('tot_sales',ascending=False).head(10)"
      ],
      "execution_count": 0,
      "outputs": []
    },
    {
      "cell_type": "code",
      "metadata": {
        "id": "BhY1b0IavVbW",
        "colab_type": "code",
        "outputId": "c11c1277-9819-47f1-c099-bd599faa4a31",
        "colab": {}
      },
      "source": [
        "## plot for top 10 selling items in cluster 14\n",
        "\n",
        "test_item_10.plot(kind='bar',x='item_id',y='tot_sales',color='r',figsize=(10,8))\n",
        "print('\\n')\n",
        "plt.ylabel('total sales')\n",
        "plt.title('top 10 selling items in cluster 14')"
      ],
      "execution_count": 0,
      "outputs": [
        {
          "output_type": "stream",
          "text": [
            "\n",
            "\n"
          ],
          "name": "stdout"
        },
        {
          "output_type": "execute_result",
          "data": {
            "text/plain": [
              "Text(0.5, 1.0, 'top 10 selling items in cluster 14')"
            ]
          },
          "metadata": {
            "tags": []
          },
          "execution_count": 53
        },
        {
          "output_type": "display_data",
          "data": {
            "image/png": "[encoded data removed]",
            "text/plain": [
              "<Figure size 720x576 with 1 Axes>"
            ]
          },
          "metadata": {
            "tags": [],
            "needs_background": "light"
          }
        }
      ]
    },
    {
      "cell_type": "code",
      "metadata": {
        "id": "LBCFo3QQvVbX",
        "colab_type": "code",
        "outputId": "5802afc6-f23a-48a7-a445-c3ae3d31c6dc",
        "colab": {}
      },
      "source": [
        "test_item_10.head()"
      ],
      "execution_count": 0,
      "outputs": [
        {
          "output_type": "execute_result",
          "data": {
            "text/html": [
              "<div>\n",
              "<style scoped>\n",
              "    .dataframe tbody tr th:only-of-type {\n",
              "        vertical-align: middle;\n",
              "    }\n",
              "\n",
              "    .dataframe tbody tr th {\n",
              "        vertical-align: top;\n",
              "    }\n",
              "\n",
              "    .dataframe thead th {\n",
              "        text-align: right;\n",
              "    }\n",
              "</style>\n",
              "<table border=\"1\" class=\"dataframe\">\n",
              "  <thead>\n",
              "    <tr style=\"text-align: right;\">\n",
              "      <th></th>\n",
              "      <th>cluster</th>\n",
              "      <th>item_id</th>\n",
              "      <th>tot_sales</th>\n",
              "    </tr>\n",
              "  </thead>\n",
              "  <tbody>\n",
              "    <tr>\n",
              "      <td>974</td>\n",
              "      <td>6</td>\n",
              "      <td>item_1463609</td>\n",
              "      <td>59.269992</td>\n",
              "    </tr>\n",
              "    <tr>\n",
              "      <td>971</td>\n",
              "      <td>6</td>\n",
              "      <td>item_1463602</td>\n",
              "      <td>59.269992</td>\n",
              "    </tr>\n",
              "    <tr>\n",
              "      <td>993</td>\n",
              "      <td>6</td>\n",
              "      <td>item_1463786</td>\n",
              "      <td>58.421207</td>\n",
              "    </tr>\n",
              "    <tr>\n",
              "      <td>984</td>\n",
              "      <td>6</td>\n",
              "      <td>item_1463765</td>\n",
              "      <td>58.120578</td>\n",
              "    </tr>\n",
              "    <tr>\n",
              "      <td>831</td>\n",
              "      <td>6</td>\n",
              "      <td>item_1423681</td>\n",
              "      <td>57.834589</td>\n",
              "    </tr>\n",
              "  </tbody>\n",
              "</table>\n",
              "</div>"
            ],
            "text/plain": [
              "     cluster       item_id  tot_sales\n",
              "974        6  item_1463609  59.269992\n",
              "971        6  item_1463602  59.269992\n",
              "993        6  item_1463786  58.421207\n",
              "984        6  item_1463765  58.120578\n",
              "831        6  item_1423681  57.834589"
            ]
          },
          "metadata": {
            "tags": []
          },
          "execution_count": 61
        }
      ]
    },
    {
      "cell_type": "code",
      "metadata": {
        "id": "RWRTd3DyvVbc",
        "colab_type": "code",
        "outputId": "d64b24af-3ff0-4fa9-ad14-66ec757c949c",
        "colab": {}
      },
      "source": [
        "test_item_10.shape"
      ],
      "execution_count": 0,
      "outputs": [
        {
          "output_type": "execute_result",
          "data": {
            "text/plain": [
              "(10, 3)"
            ]
          },
          "metadata": {
            "tags": []
          },
          "execution_count": 59
        }
      ]
    },
    {
      "cell_type": "code",
      "metadata": {
        "id": "1Mk7SlmxvVbe",
        "colab_type": "code",
        "colab": {}
      },
      "source": [
        "test_item_10['tot_sales']=test_item_10['tot_sales']/2"
      ],
      "execution_count": 0,
      "outputs": []
    },
    {
      "cell_type": "code",
      "metadata": {
        "id": "vOj2Uq3LvVbg",
        "colab_type": "code",
        "colab": {}
      },
      "source": [
        "Rate_of_Purchase_per_week=test_item_10.head(10)"
      ],
      "execution_count": 0,
      "outputs": []
    },
    {
      "cell_type": "code",
      "metadata": {
        "id": "RpydM7BhvVbh",
        "colab_type": "code",
        "outputId": "2177a37b-b69b-4538-fc36-6ee0693a77d6",
        "colab": {}
      },
      "source": [
        "Rate_of_Purchase_per_week"
      ],
      "execution_count": 0,
      "outputs": [
        {
          "output_type": "execute_result",
          "data": {
            "text/html": [
              "<div>\n",
              "<style scoped>\n",
              "    .dataframe tbody tr th:only-of-type {\n",
              "        vertical-align: middle;\n",
              "    }\n",
              "\n",
              "    .dataframe tbody tr th {\n",
              "        vertical-align: top;\n",
              "    }\n",
              "\n",
              "    .dataframe thead th {\n",
              "        text-align: right;\n",
              "    }\n",
              "</style>\n",
              "<table border=\"1\" class=\"dataframe\">\n",
              "  <thead>\n",
              "    <tr style=\"text-align: right;\">\n",
              "      <th></th>\n",
              "      <th>cluster</th>\n",
              "      <th>item_id</th>\n",
              "      <th>tot_sales</th>\n",
              "    </tr>\n",
              "  </thead>\n",
              "  <tbody>\n",
              "    <tr>\n",
              "      <td>974</td>\n",
              "      <td>6</td>\n",
              "      <td>item_1463609</td>\n",
              "      <td>59.269992</td>\n",
              "    </tr>\n",
              "    <tr>\n",
              "      <td>971</td>\n",
              "      <td>6</td>\n",
              "      <td>item_1463602</td>\n",
              "      <td>59.269992</td>\n",
              "    </tr>\n",
              "    <tr>\n",
              "      <td>993</td>\n",
              "      <td>6</td>\n",
              "      <td>item_1463786</td>\n",
              "      <td>58.421207</td>\n",
              "    </tr>\n",
              "    <tr>\n",
              "      <td>984</td>\n",
              "      <td>6</td>\n",
              "      <td>item_1463765</td>\n",
              "      <td>58.120578</td>\n",
              "    </tr>\n",
              "    <tr>\n",
              "      <td>831</td>\n",
              "      <td>6</td>\n",
              "      <td>item_1423681</td>\n",
              "      <td>57.834589</td>\n",
              "    </tr>\n",
              "    <tr>\n",
              "      <td>994</td>\n",
              "      <td>6</td>\n",
              "      <td>item_1463787</td>\n",
              "      <td>57.581919</td>\n",
              "    </tr>\n",
              "    <tr>\n",
              "      <td>925</td>\n",
              "      <td>6</td>\n",
              "      <td>item_1457359</td>\n",
              "      <td>57.494012</td>\n",
              "    </tr>\n",
              "    <tr>\n",
              "      <td>917</td>\n",
              "      <td>6</td>\n",
              "      <td>item_1457251</td>\n",
              "      <td>57.494012</td>\n",
              "    </tr>\n",
              "    <tr>\n",
              "      <td>641</td>\n",
              "      <td>6</td>\n",
              "      <td>item_1342003</td>\n",
              "      <td>57.375195</td>\n",
              "    </tr>\n",
              "    <tr>\n",
              "      <td>972</td>\n",
              "      <td>6</td>\n",
              "      <td>item_1463603</td>\n",
              "      <td>57.371616</td>\n",
              "    </tr>\n",
              "  </tbody>\n",
              "</table>\n",
              "</div>"
            ],
            "text/plain": [
              "     cluster       item_id  tot_sales\n",
              "974        6  item_1463609  59.269992\n",
              "971        6  item_1463602  59.269992\n",
              "993        6  item_1463786  58.421207\n",
              "984        6  item_1463765  58.120578\n",
              "831        6  item_1423681  57.834589\n",
              "994        6  item_1463787  57.581919\n",
              "925        6  item_1457359  57.494012\n",
              "917        6  item_1457251  57.494012\n",
              "641        6  item_1342003  57.375195\n",
              "972        6  item_1463603  57.371616"
            ]
          },
          "metadata": {
            "tags": []
          },
          "execution_count": 63
        }
      ]
    },
    {
      "cell_type": "code",
      "metadata": {
        "id": "15esItxkvVbj",
        "colab_type": "code",
        "colab": {}
      },
      "source": [
        ""
      ],
      "execution_count": 0,
      "outputs": []
    },
    {
      "cell_type": "markdown",
      "metadata": {
        "id": "JzfkAJFwvVbl",
        "colab_type": "text"
      },
      "source": [
        "# Conclusion \n",
        "From This we can conclude that the cluster 6 is the one with more number of sales and also the top ten items of these cluster are being stored.And the rate of purchase of these items are stored in the  Rate_of_Purchase_per_week Data frame.\n",
        "\n",
        "\n",
        "\n"
      ]
    },
    {
      "cell_type": "code",
      "metadata": {
        "id": "OhY63uXrvVbl",
        "colab_type": "code",
        "colab": {}
      },
      "source": [
        ""
      ],
      "execution_count": 0,
      "outputs": []
    },
    {
      "cell_type": "code",
      "metadata": {
        "id": "_dCVdsmOvVbp",
        "colab_type": "code",
        "colab": {}
      },
      "source": [
        ""
      ],
      "execution_count": 0,
      "outputs": []
    },
    {
      "cell_type": "code",
      "metadata": {
        "id": "RnwRFNWEvVbr",
        "colab_type": "code",
        "colab": {}
      },
      "source": [
        ""
      ],
      "execution_count": 0,
      "outputs": []
    },
    {
      "cell_type": "code",
      "metadata": {
        "id": "m2ZlClbhvVbt",
        "colab_type": "code",
        "colab": {}
      },
      "source": [
        ""
      ],
      "execution_count": 0,
      "outputs": []
    },
    {
      "cell_type": "code",
      "metadata": {
        "id": "_8Cuj8-rvVbu",
        "colab_type": "code",
        "colab": {}
      },
      "source": [
        ""
      ],
      "execution_count": 0,
      "outputs": []
    },
    {
      "cell_type": "code",
      "metadata": {
        "id": "jnZAQhnfvVbw",
        "colab_type": "code",
        "colab": {}
      },
      "source": [
        ""
      ],
      "execution_count": 0,
      "outputs": []
    },
    {
      "cell_type": "code",
      "metadata": {
        "id": "YQT96XAHvVby",
        "colab_type": "code",
        "colab": {}
      },
      "source": [
        ""
      ],
      "execution_count": 0,
      "outputs": []
    },
    {
      "cell_type": "code",
      "metadata": {
        "id": "8tveiQeZvVb1",
        "colab_type": "code",
        "colab": {}
      },
      "source": [
        ""
      ],
      "execution_count": 0,
      "outputs": []
    },
    {
      "cell_type": "code",
      "metadata": {
        "id": "ybrlwT-RvVb7",
        "colab_type": "code",
        "colab": {}
      },
      "source": [
        ""
      ],
      "execution_count": 0,
      "outputs": []
    },
    {
      "cell_type": "code",
      "metadata": {
        "id": "7f6HeSzhvVb9",
        "colab_type": "code",
        "colab": {}
      },
      "source": [
        ""
      ],
      "execution_count": 0,
      "outputs": []
    },
    {
      "cell_type": "code",
      "metadata": {
        "id": "mGJXWNoDvVb_",
        "colab_type": "code",
        "colab": {}
      },
      "source": [
        ""
      ],
      "execution_count": 0,
      "outputs": []
    },
    {
      "cell_type": "code",
      "metadata": {
        "id": "qFeRSeCCvVcA",
        "colab_type": "code",
        "colab": {}
      },
      "source": [
        ""
      ],
      "execution_count": 0,
      "outputs": []
    },
    {
      "cell_type": "code",
      "metadata": {
        "id": "a1jfxWgJvVcB",
        "colab_type": "code",
        "colab": {}
      },
      "source": [
        ""
      ],
      "execution_count": 0,
      "outputs": []
    },
    {
      "cell_type": "code",
      "metadata": {
        "id": "AFnXUAQNvVcC",
        "colab_type": "code",
        "colab": {}
      },
      "source": [
        ""
      ],
      "execution_count": 0,
      "outputs": []
    },
    {
      "cell_type": "code",
      "metadata": {
        "id": "pY-RQY3pvVcE",
        "colab_type": "code",
        "colab": {}
      },
      "source": [
        ""
      ],
      "execution_count": 0,
      "outputs": []
    },
    {
      "cell_type": "code",
      "metadata": {
        "id": "x6U6A5WmvVcG",
        "colab_type": "code",
        "colab": {}
      },
      "source": [
        ""
      ],
      "execution_count": 0,
      "outputs": []
    },
    {
      "cell_type": "code",
      "metadata": {
        "id": "-JqV1J_pvVcI",
        "colab_type": "code",
        "colab": {}
      },
      "source": [
        ""
      ],
      "execution_count": 0,
      "outputs": []
    },
    {
      "cell_type": "code",
      "metadata": {
        "id": "RpzHJ_sovVcJ",
        "colab_type": "code",
        "colab": {}
      },
      "source": [
        ""
      ],
      "execution_count": 0,
      "outputs": []
    },
    {
      "cell_type": "code",
      "metadata": {
        "id": "wU1MiEN4vVcK",
        "colab_type": "code",
        "colab": {}
      },
      "source": [
        ""
      ],
      "execution_count": 0,
      "outputs": []
    },
    {
      "cell_type": "code",
      "metadata": {
        "id": "2cZJrbfzvVcO",
        "colab_type": "code",
        "colab": {}
      },
      "source": [
        ""
      ],
      "execution_count": 0,
      "outputs": []
    }
  ]
}